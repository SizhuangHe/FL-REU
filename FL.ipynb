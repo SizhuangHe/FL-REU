{
  "cells": [
    {
      "cell_type": "markdown",
      "metadata": {
        "id": "view-in-github",
        "colab_type": "text"
      },
      "source": [
        "<a href=\"https://colab.research.google.com/github/SizhuangHe/FL-REU/blob/main/FL.ipynb\" target=\"_parent\"><img src=\"https://colab.research.google.com/assets/colab-badge.svg\" alt=\"Open In Colab\"/></a>"
      ]
    },
    {
      "cell_type": "code",
      "execution_count": 1,
      "metadata": {
        "id": "C1I9oQsasKEJ"
      },
      "outputs": [],
      "source": [
        "%load_ext tensorboard\n",
        "import os\n",
        "import numpy as np\n",
        "import matplotlib\n",
        "import matplotlib.pyplot as plt\n",
        "import copy\n",
        "import random\n",
        "import time\n",
        "\n",
        "import torch\n",
        "import torch.nn as nn\n",
        "import torch.nn.functional as F\n",
        "\n",
        "import pandas as pd\n",
        "import sklearn\n",
        "from sklearn.preprocessing import StandardScaler, LabelEncoder\n",
        "from sklearn.model_selection import train_test_split\n",
        "\n",
        "from torch.utils.data import Dataset, DataLoader\n",
        "from torch.utils.tensorboard import SummaryWriter\n",
        "from torchvision import transforms, utils\n",
        "from torchsummary import summary\n",
        "\n",
        "# Check assigned GPU\n",
        "# gpu_info = !nvidia-smi\n",
        "# gpu_info = '\\n'.join(gpu_info)\n",
        "# if gpu_info.find('failed') >= 0:\n",
        "#   print('Select the Runtime > \"Change runtime type\" menu to enable a GPU accelerator, ')\n",
        "#   print('and then re-execute this cell.')\n",
        "# else:\n",
        "#   print(gpu_info)\n",
        "\n",
        "# set manual seed for reproducibility\n",
        "seed = 42\n",
        "\n",
        "# general reproducibility\n",
        "random.seed(seed)\n",
        "np.random.seed(seed)\n",
        "torch.manual_seed(seed)\n",
        "\n",
        "# gpu training specific\n",
        "torch.backends.cudnn.deterministic = True\n",
        "torch.backends.cudnn.benchmark = False"
      ]
    },
    {
      "cell_type": "markdown",
      "metadata": {
        "id": "NCliePYOrTv2"
      },
      "source": [
        "# Some Hyperparameters"
      ]
    },
    {
      "cell_type": "code",
      "execution_count": 2,
      "metadata": {
        "id": "0FnDQXnrrRz-"
      },
      "outputs": [],
      "source": [
        "input_size = 4\n",
        "num_hidden_neuron = 100\n",
        "output_size = 3"
      ]
    },
    {
      "cell_type": "markdown",
      "metadata": {
        "id": "VGQ8ZjFiuO2N"
      },
      "source": [
        "# Load DataSet"
      ]
    },
    {
      "cell_type": "markdown",
      "metadata": {
        "id": "qc2wK2Kqi_i3"
      },
      "source": [
        "## Prepare the Data"
      ]
    },
    {
      "cell_type": "code",
      "execution_count": 3,
      "metadata": {
        "id": "RzYGDUJSb3a6"
      },
      "outputs": [],
      "source": [
        "df = pd.read_csv(\"Iris.csv\")\n",
        "\n",
        "le=LabelEncoder()\n",
        "df['Species']=le.fit_transform(df['Species'])\n",
        "\n",
        "label=df['Species'].values\n",
        "\n",
        "scaler=StandardScaler()\n",
        "df = df.drop('Species',axis=1)\n",
        "df = df.drop('Id', axis=1)\n",
        "scaled_df=scaler.fit_transform(df)\n",
        "\n",
        "feature=scaled_df.astype(np.float32)\n",
        "\n",
        "\n"
      ]
    },
    {
      "cell_type": "code",
      "execution_count": 4,
      "metadata": {
        "id": "2vlcIXlEi-yX"
      },
      "outputs": [],
      "source": [
        "feature_train,feature_test,label_train, label_test=train_test_split(feature, label,test_size=0.20,random_state=42)"
      ]
    },
    {
      "cell_type": "code",
      "execution_count": 5,
      "metadata": {
        "id": "6g4zOeMNlA3m"
      },
      "outputs": [],
      "source": [
        "class IrisData(Dataset):\n",
        "  def __init__(self, feature_train, label_train):\n",
        "    self.feature = feature_train\n",
        "    self.label = label_train\n",
        "\n",
        "  def __len__(self):\n",
        "    return len(self.label) \n",
        "\n",
        "  def __getitem__(self, idx):\n",
        "    return self.feature[idx], self.label[idx]   "
      ]
    },
    {
      "cell_type": "code",
      "execution_count": 6,
      "metadata": {
        "id": "5lJqRVJbmM3X"
      },
      "outputs": [],
      "source": [
        "dataset_train = IrisData(feature_train, label_train)\n",
        "dataset_test = IrisData(feature_test, label_test)"
      ]
    },
    {
      "cell_type": "code",
      "execution_count": 7,
      "metadata": {
        "id": "hkSAY43yFQ4e"
      },
      "outputs": [],
      "source": [
        "classes_test = [0, 1, 2, 3] #don't know how to do here"
      ]
    },
    {
      "cell_type": "markdown",
      "metadata": {
        "id": "z01-GnrZoGad"
      },
      "source": [
        "# Partition the Data"
      ]
    },
    {
      "cell_type": "code",
      "execution_count": 8,
      "metadata": {
        "id": "TyGhwGCRoBPT"
      },
      "outputs": [],
      "source": [
        "def iid_partition(dataset, clients):\n",
        "  \"\"\"\n",
        "  I.I.D paritioning of data over clients\n",
        "  Shuffle the data\n",
        "  Split it between clients\n",
        "  \n",
        "  params:\n",
        "    - dataset (torch.utils.Dataset): Dataset containing the MNIST Images\n",
        "    - clients (int): Number of Clients to split the data between\n",
        "\n",
        "  returns:\n",
        "    - Dictionary of image indexes for each client\n",
        "  \"\"\"\n",
        "\n",
        "  num_items_per_client = int(len(dataset)/clients)\n",
        "  client_dict = {}\n",
        "  image_idxs = [i for i in range(len(dataset))]\n",
        "\n",
        "  for i in range(clients):\n",
        "    client_dict[i] = set(np.random.choice(image_idxs, num_items_per_client, replace=False))\n",
        "    image_idxs = list(set(image_idxs) - client_dict[i])\n",
        "\n",
        "  return client_dict"
      ]
    },
    {
      "cell_type": "code",
      "execution_count": 9,
      "metadata": {
        "id": "5rDdTgugoK10"
      },
      "outputs": [],
      "source": [
        "def non_iid_partition(dataset, clients, total_shards, shards_size, num_shards_per_client):\n",
        "  \"\"\"\n",
        "  non I.I.D parititioning of data over clients\n",
        "  Sort the data by the digit label\n",
        "  Divide the data into N shards of size S\n",
        "  Each of the clients will get X shards\n",
        "\n",
        "  params:\n",
        "    - dataset (torch.utils.Dataset): Dataset containing the MNIST Images\n",
        "    - clients (int): Number of Clients to split the data between\n",
        "    - total_shards (int): Number of shards to partition the data in\n",
        "    - shards_size (int): Size of each shard \n",
        "    - num_shards_per_client (int): Number of shards of size shards_size that each client receives\n",
        "\n",
        "  returns:\n",
        "    - Dictionary of image indexes for each client\n",
        "  \"\"\"\n",
        "\n",
        "  \n",
        "  shard_idxs = [i for i in range(total_shards)]\n",
        "  client_dict = {i: np.array([], dtype='int64') for i in range(clients)}\n",
        "  idxs = np.arange(len(dataset))\n",
        "  data_labels = dataset.label\n",
        "\n",
        "  # sort the labels\n",
        "  label_idxs = np.vstack((idxs, data_labels))\n",
        "  label_idxs = label_idxs[:, label_idxs[1,:].argsort()]\n",
        "  idxs = label_idxs[0,:]\n",
        "\n",
        "  # divide the data into total_shards of size shards_size\n",
        "  # assign num_shards_per_client to each client\n",
        "  for i in range(clients):\n",
        "    rand_set = set(np.random.choice(shard_idxs, num_shards_per_client, replace=False))\n",
        "    shard_idxs = list(set(shard_idxs) - rand_set)\n",
        "\n",
        "    for rand in rand_set:\n",
        "      client_dict[i] = np.concatenate((client_dict[i], idxs[rand*shards_size:(rand+1)*shards_size]), axis=0)\n",
        "  \n",
        "  return client_dict\n",
        "\n",
        "\n"
      ]
    },
    {
      "cell_type": "markdown",
      "metadata": {
        "id": "aRsss0MEomi-"
      },
      "source": [
        "# Models"
      ]
    },
    {
      "cell_type": "code",
      "execution_count": 10,
      "metadata": {
        "id": "ENC7v7ssoruY"
      },
      "outputs": [],
      "source": [
        "class IRIS_NN(nn.Module):\n",
        "  def __init__(self, input_size, num_hidden_neurons, output_size):\n",
        "    super(IRIS_NN, self).__init__()\n",
        "\n",
        "    self.l1 = nn.Linear(input_size, num_hidden_neurons)\n",
        "    self.l2 = nn.Linear(num_hidden_neurons, num_hidden_neurons)\n",
        "    self.l3 = nn.Linear(num_hidden_neurons, output_size)\n",
        "\n",
        "  def forward(self, x):\n",
        "    x = torch.flatten(x,1)\n",
        "    x = F.relu(self.l1(x))\n",
        "    x = F.relu(self.l2(x))\n",
        "    out = self.l3(x)\n",
        "    return out"
      ]
    },
    {
      "cell_type": "code",
      "execution_count": 11,
      "metadata": {
        "id": "zW8Gv_eosWZN"
      },
      "outputs": [],
      "source": [
        "model_iid = IRIS_NN(input_size, num_hidden_neuron, output_size)\n",
        "model_non_iid = IRIS_NN(input_size, num_hidden_neuron, output_size)"
      ]
    },
    {
      "cell_type": "markdown",
      "metadata": {
        "id": "mHVh_TAWufaK"
      },
      "source": [
        "# Client Training\n"
      ]
    },
    {
      "cell_type": "code",
      "execution_count": 12,
      "metadata": {
        "id": "Qy9_1kKcuiDb"
      },
      "outputs": [],
      "source": [
        "class CustomDataset(Dataset):\n",
        "  def __init__(self, dataset, idxs):\n",
        "      self.dataset = dataset\n",
        "      self.idxs = list(idxs)\n",
        "\n",
        "  def __len__(self):\n",
        "      return len(self.idxs)\n",
        "\n",
        "  def __getitem__(self, item):\n",
        "      image, label = self.dataset[self.idxs[item]]\n",
        "      return image, label\n",
        "\n",
        "class ClientUpdate(object):\n",
        "  def __init__(self, dataset, batchSize, learning_rate, epochs, idxs):\n",
        "    self.train_loader = DataLoader(CustomDataset(dataset, idxs), batch_size=batchSize, shuffle=True)\n",
        "\n",
        "    self.learning_rate = learning_rate\n",
        "    self.epochs = epochs\n",
        "\n",
        "  def train(self, model):\n",
        "\n",
        "    criterion = nn.CrossEntropyLoss()\n",
        "    optimizer = torch.optim.SGD(model.parameters(), lr=self.learning_rate, momentum=0.5)\n",
        "    # optimizer = torch.optim.Adam(model.parameters(), lr=self.learning_rate)\n",
        "\n",
        "    e_loss = []\n",
        "    for epoch in range(1, self.epochs+1):\n",
        "\n",
        "      train_loss = 0.0\n",
        "\n",
        "      model.train()\n",
        "      for data, labels in self.train_loader:\n",
        "\n",
        "        if torch.cuda.is_available():\n",
        "          data, labels = data.cuda(), labels.cuda()\n",
        "\n",
        "        # clear the gradients\n",
        "        optimizer.zero_grad()\n",
        "        # make a forward pass\n",
        "        output = model(data)\n",
        "        # calculate the loss\n",
        "        loss = criterion(output, labels)\n",
        "        # do a backwards pass\n",
        "        loss.backward()\n",
        "        # perform a single optimization step\n",
        "        optimizer.step()\n",
        "        # update training loss\n",
        "        train_loss += loss.item()*data.size(0)\n",
        "\n",
        "      # average losses\n",
        "      train_loss = train_loss/len(self.train_loader.dataset)\n",
        "      e_loss.append(train_loss)\n",
        "\n",
        "    total_loss = sum(e_loss)/len(e_loss)\n",
        "\n",
        "    return model.state_dict(), total_loss"
      ]
    },
    {
      "cell_type": "markdown",
      "metadata": {
        "id": "3IvnLnucumpj"
      },
      "source": [
        "# Server Training"
      ]
    },
    {
      "cell_type": "code",
      "execution_count": 13,
      "metadata": {
        "id": "H-IAyGOAusQk"
      },
      "outputs": [],
      "source": [
        "def training(model, rounds, batch_size, lr, ds, data_dict, C, K, E, plt_title, plt_color):\n",
        "  \"\"\"\n",
        "  Function implements the Federated Averaging Algorithm from the FedAvg paper.\n",
        "  Specifically, this function is used for the server side training and weight update\n",
        "\n",
        "  Params:\n",
        "    - model:           PyTorch model to train\n",
        "    - rounds:          Number of communication rounds for the client update\n",
        "    - batch_size:      Batch size for client update training\n",
        "    - lr:              Learning rate used for client update training\n",
        "    - ds:              Dataset used for training\n",
        "    - data_dict:       Type of data partition used for training (IID or non-IID)\n",
        "    - C:               Fraction of clients randomly chosen to perform computation on each round\n",
        "    - K:               Total number of clients\n",
        "    - E:               Number of training passes each client makes over its local dataset per round\n",
        "    - tb_writer_name:  Directory name to save the tensorboard logs\n",
        "  Returns:\n",
        "    - model:           Trained model on the server\n",
        "  \"\"\"\n",
        "\n",
        "  # global model weights\n",
        "  global_weights = model.state_dict()\n",
        "\n",
        "  # training loss\n",
        "  train_loss = []\n",
        "  \n",
        "  # measure time\n",
        "  start = time.time()\n",
        "\n",
        "  for curr_round in range(1, rounds+1):\n",
        "    w, local_loss = [], []\n",
        "\n",
        "    m = max(int(C*K), 1)\n",
        "    \n",
        "    S_t = np.random.choice(range(K), m, replace=False)\n",
        "    for k in S_t:\n",
        "      local_update = ClientUpdate(dataset=ds, batchSize=batch_size, learning_rate=lr, epochs=E, idxs=data_dict[k])\n",
        "      weights, loss = local_update.train(model=copy.deepcopy(model))\n",
        "\n",
        "      w.append(copy.deepcopy(weights))\n",
        "      local_loss.append(copy.deepcopy(loss))\n",
        "\n",
        "    # updating the global weights\n",
        "    weights_avg = copy.deepcopy(w[0])\n",
        "    for k in weights_avg.keys():\n",
        "      for i in range(1, len(w)):\n",
        "        weights_avg[k] += w[i][k]\n",
        "\n",
        "      weights_avg[k] = torch.div(weights_avg[k], len(w))\n",
        "\n",
        "    global_weights = weights_avg\n",
        "\n",
        "    # move the updated weights to our model state dict\n",
        "    model.load_state_dict(global_weights)\n",
        "\n",
        "    # loss\n",
        "    loss_avg = sum(local_loss) / len(local_loss)\n",
        "    print('Round: {}... \\tAverage Loss: {}'.format(curr_round, round(loss_avg, 3)))\n",
        "    train_loss.append(loss_avg)\n",
        "\n",
        "  end = time.time()\n",
        "  fig, ax = plt.subplots()\n",
        "  x_axis = np.arange(1, rounds+1)\n",
        "  y_axis = np.array(train_loss)\n",
        "  ax.plot(x_axis, y_axis, 'tab:'+plt_color)\n",
        "\n",
        "  ax.set(xlabel='Number of Rounds', ylabel='Train Loss',\n",
        "       title=plt_title)\n",
        "  ax.grid()\n",
        "  fig.savefig(plt_title+'.jpg', format='jpg')\n",
        "  print(\"Training Done!\")\n",
        "  print(\"Total time taken to Train: {}\".format(end-start))\n",
        "  \n",
        "  return model"
      ]
    },
    {
      "cell_type": "markdown",
      "metadata": {
        "id": "wiaZl4R0u3eW"
      },
      "source": [
        "# Test"
      ]
    },
    {
      "cell_type": "code",
      "execution_count": 59,
      "metadata": {
        "id": "tB2TnXZ5u43W"
      },
      "outputs": [],
      "source": [
        "def testing(model, dataset, bs, criterion, num_classes, classes):\n",
        "  #test loss \n",
        "  test_loss = 0.0\n",
        "  correct_class = list(0. for i in range(num_classes))\n",
        "\n",
        "  total_class = list(0. for i in range(num_classes))\n",
        "\n",
        "  test_loader = DataLoader(dataset, batch_size=bs)\n",
        "  \n",
        "  model.eval()\n",
        "  for data, labels in test_loader:\n",
        "\n",
        "    if torch.cuda.is_available():\n",
        "      data, labels = data.cuda(), labels.cuda()\n",
        "\n",
        "    output = model(data)\n",
        "    loss = criterion(output, labels)\n",
        "    test_loss += loss.item()*data.size(0)\n",
        "\n",
        "    _, pred = torch.max(output, 1)\n",
        "\n",
        "\n",
        "    correct_tensor = pred.eq(labels.data.view_as(pred))\n",
        "    correct = np.squeeze(correct_tensor.numpy()) if not torch.cuda.is_available() else np.squeeze(correct_tensor.cpu().numpy())\n",
        "\n",
        "    print(f\"labels: {labels}, pred: {pred}, correct: {correct}\")\n",
        "\n",
        "    #test accuracy for each object class\n",
        "    for i in range(len(data)):\n",
        "      label = labels.data[i]\n",
        "      print(f\"label: {label}\")\n",
        "      print(f\"correct_class: {correct_class}\")\n",
        "      correct_class[label] += correct[i].item()\n",
        "      total_class[label] += 1\n",
        "    \n",
        "  # avg test loss\n",
        "  test_loss = test_loss/len(test_loader.dataset)\n",
        "  print(\"Test Loss: {:.6f}\\n\".format(test_loss))\n",
        "\n",
        "  # print test accuracy\n",
        "  for i in range(num_classes):\n",
        "    if total_class[i]>0:\n",
        "      print('Test Accuracy of %5s: %2d%% (%2d/%2d)' % \n",
        "            (classes[i], 100 * correct_class[i] / total_class[i],\n",
        "            np.sum(correct_class[i]), np.sum(total_class[i])))\n",
        "    else:\n",
        "      print('Test Accuracy of %5s: N/A (no training examples)' % (classes[i]))\n",
        "\n",
        "  print('\\nFinal Test  Accuracy: {:.3f} ({}/{})'.format(\n",
        "        100. * np.sum(correct_class) / np.sum(total_class),\n",
        "        np.sum(correct_class), np.sum(total_class)))"
      ]
    },
    {
      "cell_type": "markdown",
      "metadata": {
        "id": "V8IhkPvxu5vG"
      },
      "source": [
        "# IID Case"
      ]
    },
    {
      "cell_type": "markdown",
      "metadata": {
        "id": "kMQ-N9gsEJvF"
      },
      "source": [
        "## Training"
      ]
    },
    {
      "cell_type": "code",
      "execution_count": null,
      "metadata": {
        "id": "wZzpnCbNvH8w"
      },
      "outputs": [],
      "source": [
        "# number of training rounds\n",
        "rounds = 100\n",
        "# client fraction\n",
        "C = 0.1\n",
        "# number of clients\n",
        "K = 3\n",
        "# number of training passes on local dataset for each roung\n",
        "E = 5\n",
        "# batch size\n",
        "batch_size = 10\n",
        "# learning Rate\n",
        "lr=0.01\n",
        "# data partition dictionary\n",
        "iid_dict = iid_partition(dataset_train, 3)\n",
        "\n",
        "if torch.cuda.is_available():\n",
        "  model.cuda()\n",
        "\n",
        "model_iid_trained = training(model, rounds, batch_size, lr, dataset_train, iid_dict, C, K, E, \"on IID Dataset\", \"orange\")"
      ]
    },
    {
      "cell_type": "markdown",
      "metadata": {
        "id": "crvgQe0HELwo"
      },
      "source": [
        "## Testing"
      ]
    },
    {
      "cell_type": "code",
      "execution_count": 60,
      "metadata": {
        "colab": {
          "base_uri": "https://localhost:8080/"
        },
        "id": "Chbf7e27EPgF",
        "outputId": "122ea15f-c5a2-4c98-ffba-3d98eda7c588"
      },
      "outputs": [
        {
          "output_type": "stream",
          "name": "stdout",
          "text": [
            "labels: tensor([1, 0, 2, 1, 1, 0, 1, 2, 1, 1], device='cuda:0'), pred: tensor([1, 0, 2, 1, 1, 0, 1, 2, 2, 1], device='cuda:0'), correct: [ True  True  True  True  True  True  True  True False  True]\n",
            "label: 1\n",
            "correct_class: [0.0, 0.0, 0.0]\n",
            "label: 0\n",
            "correct_class: [0.0, 1.0, 0.0]\n",
            "label: 2\n",
            "correct_class: [1.0, 1.0, 0.0]\n",
            "label: 1\n",
            "correct_class: [1.0, 1.0, 1.0]\n",
            "label: 1\n",
            "correct_class: [1.0, 2.0, 1.0]\n",
            "label: 0\n",
            "correct_class: [1.0, 3.0, 1.0]\n",
            "label: 1\n",
            "correct_class: [2.0, 3.0, 1.0]\n",
            "label: 2\n",
            "correct_class: [2.0, 4.0, 1.0]\n",
            "label: 1\n",
            "correct_class: [2.0, 4.0, 2.0]\n",
            "label: 1\n",
            "correct_class: [2.0, 4.0, 2.0]\n",
            "labels: tensor([2, 0, 0, 0, 0, 1, 2, 1, 1, 2], device='cuda:0'), pred: tensor([2, 0, 0, 0, 0, 1, 2, 1, 1, 2], device='cuda:0'), correct: [ True  True  True  True  True  True  True  True  True  True]\n",
            "label: 2\n",
            "correct_class: [2.0, 5.0, 2.0]\n",
            "label: 0\n",
            "correct_class: [2.0, 5.0, 3.0]\n",
            "label: 0\n",
            "correct_class: [3.0, 5.0, 3.0]\n",
            "label: 0\n",
            "correct_class: [4.0, 5.0, 3.0]\n",
            "label: 0\n",
            "correct_class: [5.0, 5.0, 3.0]\n",
            "label: 1\n",
            "correct_class: [6.0, 5.0, 3.0]\n",
            "label: 2\n",
            "correct_class: [6.0, 6.0, 3.0]\n",
            "label: 1\n",
            "correct_class: [6.0, 6.0, 4.0]\n",
            "label: 1\n",
            "correct_class: [6.0, 7.0, 4.0]\n",
            "label: 2\n",
            "correct_class: [6.0, 8.0, 4.0]\n",
            "labels: tensor([0, 2, 0, 2, 2, 2, 2, 2, 0, 0], device='cuda:0'), pred: tensor([0, 2, 0, 2, 2, 2, 2, 2, 0, 0], device='cuda:0'), correct: [ True  True  True  True  True  True  True  True  True  True]\n",
            "label: 0\n",
            "correct_class: [6.0, 8.0, 5.0]\n",
            "label: 2\n",
            "correct_class: [7.0, 8.0, 5.0]\n",
            "label: 0\n",
            "correct_class: [7.0, 8.0, 6.0]\n",
            "label: 2\n",
            "correct_class: [8.0, 8.0, 6.0]\n",
            "label: 2\n",
            "correct_class: [8.0, 8.0, 7.0]\n",
            "label: 2\n",
            "correct_class: [8.0, 8.0, 8.0]\n",
            "label: 2\n",
            "correct_class: [8.0, 8.0, 9.0]\n",
            "label: 2\n",
            "correct_class: [8.0, 8.0, 10.0]\n",
            "label: 0\n",
            "correct_class: [8.0, 8.0, 11.0]\n",
            "label: 0\n",
            "correct_class: [9.0, 8.0, 11.0]\n",
            "Test Loss: 0.045615\n",
            "\n",
            "Test Accuracy of     0: 100% (10/10)\n",
            "Test Accuracy of     1: 88% ( 8/ 9)\n",
            "Test Accuracy of     2: 100% (11/11)\n",
            "\n",
            "Final Test  Accuracy: 96.667 (29.0/30.0)\n"
          ]
        }
      ],
      "source": [
        "criterion = nn.CrossEntropyLoss()\n",
        "testing(model_iid_trained, dataset_test, 10, criterion, 3, classes_test)\n",
        "\n",
        "#why only 9/9?"
      ]
    },
    {
      "cell_type": "markdown",
      "metadata": {
        "id": "ZIQHWWymDWif"
      },
      "source": [
        "# Non IID training"
      ]
    },
    {
      "cell_type": "code",
      "execution_count": 17,
      "metadata": {
        "colab": {
          "base_uri": "https://localhost:8080/",
          "height": 1000
        },
        "id": "6FlzgLR8ECaG",
        "outputId": "06eef072-4be4-4db0-88d3-1cb2cdeb44ec"
      },
      "outputs": [
        {
          "output_type": "stream",
          "name": "stdout",
          "text": [
            "Round: 1... \tAverage Loss: 0.009\n",
            "Round: 2... \tAverage Loss: 0.08\n",
            "Round: 3... \tAverage Loss: 0.063\n",
            "Round: 4... \tAverage Loss: 0.009\n",
            "Round: 5... \tAverage Loss: 0.004\n",
            "Round: 6... \tAverage Loss: 0.083\n",
            "Round: 7... \tAverage Loss: 0.067\n",
            "Round: 8... \tAverage Loss: 0.067\n",
            "Round: 9... \tAverage Loss: 0.066\n",
            "Round: 10... \tAverage Loss: 0.012\n",
            "Round: 11... \tAverage Loss: 0.005\n",
            "Round: 12... \tAverage Loss: 0.069\n",
            "Round: 13... \tAverage Loss: 0.006\n",
            "Round: 14... \tAverage Loss: 0.055\n",
            "Round: 15... \tAverage Loss: 0.049\n",
            "Round: 16... \tAverage Loss: 0.079\n",
            "Round: 17... \tAverage Loss: 0.012\n",
            "Round: 18... \tAverage Loss: 0.073\n",
            "Round: 19... \tAverage Loss: 0.011\n",
            "Round: 20... \tAverage Loss: 0.005\n",
            "Round: 21... \tAverage Loss: 0.072\n",
            "Round: 22... \tAverage Loss: 0.01\n",
            "Round: 23... \tAverage Loss: 0.059\n",
            "Round: 24... \tAverage Loss: 0.005\n",
            "Round: 25... \tAverage Loss: 0.074\n",
            "Round: 26... \tAverage Loss: 0.066\n",
            "Round: 27... \tAverage Loss: 0.009\n",
            "Round: 28... \tAverage Loss: 0.065\n",
            "Round: 29... \tAverage Loss: 0.064\n",
            "Round: 30... \tAverage Loss: 0.066\n",
            "Round: 31... \tAverage Loss: 0.06\n",
            "Round: 32... \tAverage Loss: 0.006\n",
            "Round: 33... \tAverage Loss: 0.073\n",
            "Round: 34... \tAverage Loss: 0.061\n",
            "Round: 35... \tAverage Loss: 0.061\n",
            "Round: 36... \tAverage Loss: 0.051\n",
            "Round: 37... \tAverage Loss: 0.074\n",
            "Round: 38... \tAverage Loss: 0.055\n",
            "Round: 39... \tAverage Loss: 0.046\n",
            "Round: 40... \tAverage Loss: 0.075\n",
            "Round: 41... \tAverage Loss: 0.053\n",
            "Round: 42... \tAverage Loss: 0.071\n",
            "Round: 43... \tAverage Loss: 0.011\n",
            "Round: 44... \tAverage Loss: 0.048\n",
            "Round: 45... \tAverage Loss: 0.071\n",
            "Round: 46... \tAverage Loss: 0.053\n",
            "Round: 47... \tAverage Loss: 0.068\n",
            "Round: 48... \tAverage Loss: 0.011\n",
            "Round: 49... \tAverage Loss: 0.005\n",
            "Round: 50... \tAverage Loss: 0.003\n",
            "Round: 51... \tAverage Loss: 0.002\n",
            "Round: 52... \tAverage Loss: 0.073\n",
            "Round: 53... \tAverage Loss: 0.06\n",
            "Round: 54... \tAverage Loss: 0.009\n",
            "Round: 55... \tAverage Loss: 0.053\n",
            "Round: 56... \tAverage Loss: 0.066\n",
            "Round: 57... \tAverage Loss: 0.055\n",
            "Round: 58... \tAverage Loss: 0.004\n",
            "Round: 59... \tAverage Loss: 0.068\n",
            "Round: 60... \tAverage Loss: 0.06\n",
            "Round: 61... \tAverage Loss: 0.057\n",
            "Round: 62... \tAverage Loss: 0.047\n",
            "Round: 63... \tAverage Loss: 0.004\n",
            "Round: 64... \tAverage Loss: 0.041\n",
            "Round: 65... \tAverage Loss: 0.076\n",
            "Round: 66... \tAverage Loss: 0.061\n",
            "Round: 67... \tAverage Loss: 0.01\n",
            "Round: 68... \tAverage Loss: 0.004\n",
            "Round: 69... \tAverage Loss: 0.003\n",
            "Round: 70... \tAverage Loss: 0.07\n",
            "Round: 71... \tAverage Loss: 0.055\n",
            "Round: 72... \tAverage Loss: 0.008\n",
            "Round: 73... \tAverage Loss: 0.053\n",
            "Round: 74... \tAverage Loss: 0.063\n",
            "Round: 75... \tAverage Loss: 0.055\n",
            "Round: 76... \tAverage Loss: 0.044\n",
            "Round: 77... \tAverage Loss: 0.068\n",
            "Round: 78... \tAverage Loss: 0.008\n",
            "Round: 79... \tAverage Loss: 0.004\n",
            "Round: 80... \tAverage Loss: 0.003\n",
            "Round: 81... \tAverage Loss: 0.067\n",
            "Round: 82... \tAverage Loss: 0.008\n",
            "Round: 83... \tAverage Loss: 0.048\n",
            "Round: 84... \tAverage Loss: 0.064\n",
            "Round: 85... \tAverage Loss: 0.008\n",
            "Round: 86... \tAverage Loss: 0.004\n",
            "Round: 87... \tAverage Loss: 0.003\n",
            "Round: 88... \tAverage Loss: 0.046\n",
            "Round: 89... \tAverage Loss: 0.003\n",
            "Round: 90... \tAverage Loss: 0.068\n",
            "Round: 91... \tAverage Loss: 0.048\n",
            "Round: 92... \tAverage Loss: 0.04\n",
            "Round: 93... \tAverage Loss: 0.003\n",
            "Round: 94... \tAverage Loss: 0.035\n",
            "Round: 95... \tAverage Loss: 0.075\n",
            "Round: 96... \tAverage Loss: 0.009\n",
            "Round: 97... \tAverage Loss: 0.004\n",
            "Round: 98... \tAverage Loss: 0.002\n",
            "Round: 99... \tAverage Loss: 0.002\n",
            "Round: 100... \tAverage Loss: 0.039\n",
            "Training Done!\n",
            "Total time taken to Train: 2.964273452758789\n"
          ]
        },
        {
          "output_type": "display_data",
          "data": {
            "text/plain": [
              "<Figure size 432x288 with 1 Axes>"
            ],
            "image/png": "[encoded data removed]"
          },
          "metadata": {
            "needs_background": "light"
          }
        }
      ],
      "source": [
        "# number of training rounds\n",
        "rounds = 100\n",
        "# client fraction\n",
        "C = 0.1\n",
        "# number of clients\n",
        "K = 3\n",
        "# number of training passes on local dataset for each roung\n",
        "E = 5\n",
        "# batch size\n",
        "batch_size = 10\n",
        "# learning Rate\n",
        "lr=0.01\n",
        "# data partition dictionary\n",
        "iid_dict = non_iid_partition(dataset_train, 3, 12, 10, 4)\n",
        "\n",
        "if torch.cuda.is_available():\n",
        "  model.cuda()\n",
        "\n",
        "model_non_iid_trained = training(model_non_iid, rounds, batch_size, lr, dataset_train, iid_dict, C, K, E, \"on non IID Dataset\", \"orange\")"
      ]
    },
    {
      "cell_type": "markdown",
      "metadata": {
        "id": "RLKjiwnlwmoA"
      },
      "source": [
        "## Test"
      ]
    },
    {
      "cell_type": "code",
      "execution_count": 18,
      "metadata": {
        "colab": {
          "base_uri": "https://localhost:8080/"
        },
        "id": "LntuHfeOw-ws",
        "outputId": "626035a7-6813-4e58-e58f-a803f918693c"
      },
      "outputs": [
        {
          "output_type": "stream",
          "name": "stdout",
          "text": [
            "pred: tensor([1, 0, 2, 1, 1, 0, 1, 2, 2, 1], device='cuda:0')\n",
            "pred: tensor([2, 0, 0, 0, 0, 1, 2, 1, 1, 2], device='cuda:0')\n",
            "pred: tensor([0, 2, 0, 2, 2, 2, 2, 2, 0, 0], device='cuda:0')\n",
            "Test Loss: 0.045615\n",
            "\n",
            "Test Accuracy of     0: 100% ( 5/ 5)\n",
            "Test Accuracy of     1: 100% ( 1/ 1)\n",
            "Test Accuracy of     2: 100% ( 3/ 3)\n",
            "\n",
            "Final Test  Accuracy: 100.000 (9.0/9.0)\n"
          ]
        }
      ],
      "source": [
        "criterion = nn.CrossEntropyLoss()\n",
        "testing(model_non_iid_trained, dataset_test, 10, criterion, 3, classes_test)"
      ]
    }
  ],
  "metadata": {
    "accelerator": "GPU",
    "colab": {
      "name": "FL.ipynb",
      "provenance": [],
      "include_colab_link": true
    },
    "interpreter": {
      "hash": "12d30b77a464acd39dc57a4d74939e0be500310b5b75c20a10dcf54a6539ac33"
    },
    "kernelspec": {
      "display_name": "Python 3.9.7 ('MYfedtorch')",
      "language": "python",
      "name": "python3"
    },
    "language_info": {
      "codemirror_mode": {
        "name": "ipython",
        "version": 3
      },
      "file_extension": ".py",
      "mimetype": "text/x-python",
      "name": "python",
      "nbconvert_exporter": "python",
      "pygments_lexer": "ipython3",
      "version": "3.9.7"
    },
    "orig_nbformat": 4
  },
  "nbformat": 4,
  "nbformat_minor": 0
}