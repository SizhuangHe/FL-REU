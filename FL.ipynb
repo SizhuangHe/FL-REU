{
  "cells": [
    {
      "cell_type": "markdown",
      "metadata": {
        "id": "view-in-github",
        "colab_type": "text"
      },
      "source": [
        "<a href=\"https://colab.research.google.com/github/SizhuangHe/FL-REU/blob/main/FL.ipynb\" target=\"_parent\"><img src=\"https://colab.research.google.com/assets/colab-badge.svg\" alt=\"Open In Colab\"/></a>"
      ]
    },
    {
      "cell_type": "markdown",
      "source": [
        "#Import"
      ],
      "metadata": {
        "id": "EOT1sHDlb02g"
      }
    },
    {
      "cell_type": "code",
      "execution_count": null,
      "metadata": {
        "id": "C1I9oQsasKEJ"
      },
      "outputs": [],
      "source": [
        "%load_ext tensorboard\n",
        "import os\n",
        "import numpy as np\n",
        "import matplotlib\n",
        "import matplotlib.pyplot as plt\n",
        "import copy\n",
        "import random\n",
        "import time\n",
        "import enum\n",
        "\n",
        "import torch\n",
        "import torch.nn as nn\n",
        "import torch.nn.functional as F\n",
        "\n",
        "import pandas as pd\n",
        "import sklearn\n",
        "from sklearn.preprocessing import StandardScaler, LabelEncoder\n",
        "from sklearn.model_selection import train_test_split\n",
        "\n",
        "from torch.utils.data import Dataset, DataLoader\n",
        "from torch.utils.tensorboard import SummaryWriter\n",
        "from torchvision import transforms, utils, datasets\n",
        "from torchsummary import summary\n",
        "\n",
        "# Check assigned GPU\n",
        "# gpu_info = !nvidia-smi\n",
        "# gpu_info = '\\n'.join(gpu_info)\n",
        "# if gpu_info.find('failed') >= 0:\n",
        "#   print('Select the Runtime > \"Change runtime type\" menu to enable a GPU accelerator, ')\n",
        "#   print('and then re-execute this cell.')\n",
        "# else:\n",
        "#   print(gpu_info)\n",
        "\n",
        "# set manual seed for reproducibility\n",
        "seed = 42\n",
        "\n",
        "# general reproducibility\n",
        "random.seed(seed)\n",
        "np.random.seed(seed)\n",
        "torch.manual_seed(seed)\n",
        "\n",
        "# gpu training specific\n",
        "torch.backends.cudnn.deterministic = True\n",
        "torch.backends.cudnn.benchmark = False\n",
        "\n",
        "#torch.set_printoptions(sci_mode=False)"
      ]
    },
    {
      "cell_type": "markdown",
      "metadata": {
        "id": "NCliePYOrTv2"
      },
      "source": [
        "# Some Hyperparameters"
      ]
    },
    {
      "cell_type": "code",
      "source": [
        "class WEIGHT_MODE(enum.Enum):\n",
        "  SIMPLE_FEDAVG =  \"fedavg\"\n",
        "  SIMPLE_ADJUST =  \"simple_adjust\"\n",
        "  SIZE_OVER_EXP_VAL_LOSS =  \"size_over_val_loss\"\n",
        "\n",
        "class VALIDATE_ON(enum.Enum):\n",
        "  LOSS = \"loss\"\n",
        "  ACCURACY = \"accuracy\""
      ],
      "metadata": {
        "id": "ORYGgRTNLmH5"
      },
      "execution_count": null,
      "outputs": []
    },
    {
      "cell_type": "code",
      "execution_count": null,
      "metadata": {
        "id": "0FnDQXnrrRz-"
      },
      "outputs": [],
      "source": [
        "input_size = 784\n",
        "num_hidden_neuron = 200\n",
        "num_classes = 10\n",
        "output_size = num_classes\n",
        "criterion = nn.CrossEntropyLoss()\n",
        "classes_test = [i for i in range(num_classes)]\n",
        "\n",
        "print(\"---------------------------Hyperparameters-------------------------------\")\n",
        "print(f\"input size: {input_size}\")\n",
        "print(f\"number of hidden neurons: {num_hidden_neuron}\")\n",
        "print(f\"number of classes: {num_classes}\")\n",
        "print(\"-------------------------------------------------------------------------\")\n"
      ]
    },
    {
      "cell_type": "markdown",
      "metadata": {
        "id": "aRsss0MEomi-"
      },
      "source": [
        "# Models"
      ]
    },
    {
      "cell_type": "code",
      "execution_count": null,
      "metadata": {
        "id": "ENC7v7ssoruY"
      },
      "outputs": [],
      "source": [
        "class IRIS_NN(nn.Module):\n",
        "  def __init__(self, input_size, num_hidden_neurons, output_size):\n",
        "    super(IRIS_NN, self).__init__()\n",
        "\n",
        "    self.l1 = nn.Linear(input_size, num_hidden_neurons)\n",
        "    self.l2 = nn.Linear(num_hidden_neurons, num_hidden_neurons)\n",
        "    self.l3 = nn.Linear(num_hidden_neurons, output_size)\n",
        "\n",
        "  def forward(self, x):\n",
        "    x = torch.flatten(x,1)\n",
        "    x = F.relu(self.l1(x))\n",
        "    x = F.relu(self.l2(x))\n",
        "    out = self.l3(x)\n",
        "    return out"
      ]
    },
    {
      "cell_type": "markdown",
      "metadata": {
        "id": "VGQ8ZjFiuO2N"
      },
      "source": [
        "# Load DataSet"
      ]
    },
    {
      "cell_type": "markdown",
      "source": [
        "### Dataset setup"
      ],
      "metadata": {
        "id": "zmwMaHZjR5A8"
      }
    },
    {
      "cell_type": "code",
      "execution_count": null,
      "metadata": {
        "id": "RzYGDUJSb3a6"
      },
      "outputs": [],
      "source": [
        "# df = pd.read_csv(\"Iris.csv\")\n",
        "\n",
        "# le=LabelEncoder()\n",
        "# df['Species']=le.fit_transform(df['Species'])\n",
        "\n",
        "# label=df['Species'].values\n",
        "\n",
        "# scaler=StandardScaler()\n",
        "# df = df.drop('Species',axis=1)\n",
        "# df = df.drop('Id', axis=1)\n",
        "# scaled_df=scaler.fit_transform(df)\n",
        "\n",
        "# feature=scaled_df.astype(np.float32)"
      ]
    },
    {
      "cell_type": "code",
      "execution_count": null,
      "metadata": {
        "id": "6g4zOeMNlA3m"
      },
      "outputs": [],
      "source": [
        "class IrisData(Dataset):\n",
        "  def __init__(self, feature, label):\n",
        "    self.feature = feature\n",
        "    self.label = label\n",
        "\n",
        "  def __len__(self):\n",
        "    return len(self.label) \n",
        "\n",
        "  def __getitem__(self, idx):\n",
        "    sample = self.feature[idx]\n",
        "    return sample, self.label[idx]   "
      ]
    },
    {
      "cell_type": "markdown",
      "source": [
        "### Transform (Add Gaussian Noise)"
      ],
      "metadata": {
        "id": "uHrfce5gRynl"
      }
    },
    {
      "cell_type": "code",
      "source": [
        "def add_gaussian_noise(dataset, client_dict, client, mean, std):\n",
        "  \"\"\"\n",
        "  This function add Gaussian noise to local dataset of a client.\n",
        "\n",
        "  Params:\n",
        "    - dataset (torch.utils.Dataset): the training dataset\n",
        "    - client_dict (dictionary): dictionary of clients, should be the one before training-validation split\n",
        "          since we are simulating a corrupted client here\n",
        "    - client (int): the client to add noise to\n",
        "    - mean (float): mean of random noise\n",
        "    - std (float): standard deviation of random noise      \n",
        "\n",
        "  Returns:\n",
        "    Nothing. But modifies the local dataset of the specified client.\n",
        "  \"\"\"\n",
        "\n",
        "\n",
        "  for data, label in CustomDataset(dataset, client_dict[client]):\n",
        "    rand_noise = (torch.randn(len(data)) * std + mean).numpy()\n",
        "    data += rand_noise"
      ],
      "metadata": {
        "id": "G9QqPvECoK1c"
      },
      "execution_count": null,
      "outputs": []
    },
    {
      "cell_type": "code",
      "source": [
        "def add_relative_gaussian_noise(dataset, client_dict, client, relative_std):\n",
        "  \"\"\"\n",
        "  This function adds Gaussian noise to a specified client. The difference bewteen\n",
        "  this function and the add_gaussian_noise function is that the user pass a relative_std,\n",
        "  which is a double between 0 and 1 to this function and then noise will be generated\n",
        "  with mean 0 and std (relative_std * mean of this client's local dataset).\n",
        "\n",
        "  Params:\n",
        "    - dataset (torch.utils.dataset): the training set\n",
        "    - client_dict (dictionary): client dictionary before train-val split\n",
        "    - relative_std (double): a double in [0,1]\n",
        "\n",
        "  Returns:\n",
        "    Nothing. But modifies parts of the dataset.\n",
        "  \"\"\"\n",
        "  loader =  DataLoader(CustomDataset(dataset_train, client_dict[client]), batch_size=len(client_dict[client]), shuffle=True)\n",
        "  data, label = iter(loader).next()\n",
        "  data_np = data.numpy()\n",
        "  client_mean = np.mean(data_np)\n",
        "  std = relative_std * client_mean\n",
        "\n",
        "  for feature, label in CustomDataset(dataset, client_dict[client]):\n",
        "    rand_noise = (torch.randn(len(feature)) * std + mean).numpy()\n",
        "    feature += rand_noise\n"
      ],
      "metadata": {
        "id": "itR4Do9yEA5W"
      },
      "execution_count": null,
      "outputs": []
    },
    {
      "cell_type": "code",
      "source": [
        "# class AddGaussianNoise(object):\n",
        "#     def __init__(self, mean=0., std=1.):\n",
        "#         self.std = std\n",
        "#         self.mean = mean\n",
        "        \n",
        "#     def __call__(self, sample):\n",
        "#       sample += (torch.randn(sample.size) * self.std + self.mean).numpy()\n",
        "#       return sample\n",
        "    \n",
        "#     def __repr__(self):\n",
        "#         return self.__class__.__name__ + '(mean={0}, std={1})'.format(self.mean, self.std)\n"
      ],
      "metadata": {
        "id": "8muC-L2dvJ81"
      },
      "execution_count": null,
      "outputs": []
    },
    {
      "cell_type": "markdown",
      "source": [
        "### Other built-in dataset"
      ],
      "metadata": {
        "id": "EMMtpEzXWCkG"
      }
    },
    {
      "cell_type": "markdown",
      "source": [
        "#### Tabular datasets"
      ],
      "metadata": {
        "id": "_RvxQBj5z5A_"
      }
    },
    {
      "cell_type": "markdown",
      "source": [
        "##### sklearn Boston dataset (Regression)"
      ],
      "metadata": {
        "id": "BiNzuZoxOAPt"
      }
    },
    {
      "cell_type": "code",
      "source": [
        "# data_url = \"http://lib.stat.cmu.edu/datasets/boston\"\n",
        "# raw_df = pd.read_csv(data_url, sep=\"\\s+\", skiprows=22, header=None)\n",
        "# feature = np.hstack([raw_df.values[::2, :], raw_df.values[1::2, :2]]).astype(np.float32)\n",
        "# label = raw_df.values[1::2, 2].astype(np.float32)\n",
        "\n",
        "# scaler=StandardScaler()\n",
        "# feature = scaler.fit_transform(feature)"
      ],
      "metadata": {
        "id": "aQhqZRvBOJDM"
      },
      "execution_count": null,
      "outputs": []
    },
    {
      "cell_type": "markdown",
      "source": [
        "#### Image datasets"
      ],
      "metadata": {
        "id": "cjXzB8mG0AHd"
      }
    },
    {
      "cell_type": "markdown",
      "source": [
        "##### MNIST"
      ],
      "metadata": {
        "id": "t6jcYXTvN8Bh"
      }
    },
    {
      "cell_type": "code",
      "source": [
        "transforms_mnist = transforms.Compose([\n",
        "                                       transforms.ToTensor(),\n",
        "                                       transforms.Normalize((0.1307,), (0.3081,))\n",
        "                                       ])\n",
        "\n",
        "dataset_train = datasets.MNIST('./data/mnist/', train=True, download=True, transform=transforms_mnist)\n",
        "dataset_test = datasets.MNIST('../data/mnist/', train=False, download=True, transform=transforms_mnist)"
      ],
      "metadata": {
        "id": "zky0KAs0WGwV",
        "colab": {
          "base_uri": "https://localhost:8080/",
          "height": 861,
          "referenced_widgets": [
            "8b9ac0e76927470e9bff10ee1d3ab793",
            "b6508e36d9404ef68153351078bfbfc9",
            "0fc02b5b18d943fd90cf85eaac503153",
            "cfc2a87da15543259e200bf48aaed523",
            "2415a71892ac4751876bd22713ef6e89",
            "bd5dcbb6dac943b7aeba89cbf03107f0",
            "2f4e0671a6ef4088aaf04b34b5efb813",
            "c9c6938bb73349f4bf368a3368fe62ba",
            "736ec9ee2ec24c1bac78c62c71d40595",
            "a1587ec0adc14de8b0614ddd5786779d",
            "7cfd8eac1dda4bc7b5f18168b6ce2c00",
            "01156e2847d0424ba2a87f943db54364",
            "8a2ed6ca0bc046b3b4aa43b280643620",
            "f2943ae02a18458d915cba04f24d0f83",
            "d9f7525455ea4adf9ac33ca583427b66",
            "e0da60c42dff4ecc9c1b881f163e8e1c",
            "8cc9467206814d0b807e763d2491b41f",
            "5bc5666729d443d187d479fe27394b4a",
            "440d4d1db5ee420b85a4b54fde5f4d28",
            "e808059e18a7487faa1159446014f8a6",
            "3f551619305645dfb0cf2ce2eb61bdc3",
            "f56aa44bdac74e2881825a04eb92c7ff",
            "51e7f79d2a2540eaabfe3337246ffa6d",
            "cc7676b6fa4e47f9ae6ee22eb471b549",
            "859461b53933463bbf1ec81e3307df14",
            "ebc8010192cd4779a635fc83120f80a6",
            "352ba14d64174c119596c593fa81820e",
            "660968c380b6490d92bb3ed019687b53",
            "d79afbbce116495c836dcf80e9d90688",
            "e66efcd1f6b44ef4a070740be46b4f29",
            "6c87caf600704d44a18126922a256c83",
            "402b0b96be1c4a9fbe0e2441037b56f3",
            "b74b86e0068e4aca8025fa5116414d4e",
            "eaee50308a164963a93e3e559dfcb435",
            "5fb0ce05ae4e4320955a620da32e0719",
            "ff289044e7b04879821d5fd85ef6cd0d",
            "51a73c0d8da84c028b380fcaaf7ae9cd",
            "381bbe5097584ced955906b842920f78",
            "7be1c9fa468f472782f0375e98e80fe9",
            "638a8ac2a7ef40febf945e02da808dd2",
            "cdf9c4512eb845148ce3352d279c9e21",
            "92148e037930446588e5f19f7a6202e9",
            "f62fc5b9eee344a0947f675062c063d0",
            "554f88ea831e4cc09f6bfa41ae888470",
            "2101544f3db54b6caa905c459b674479",
            "b80aac21f0cd487a92fa3c157b81e8a9",
            "533965c87b374799b3719d7ecdf29081",
            "d277e49a04c14427a6803b170867e949",
            "72e6b652cc394166a2ad94d73fdd6858",
            "da77d017388849ff9c04e0d3bfdd6f85",
            "901f38e77c184e18bdfd68c732fe8438",
            "bdec74a9d11c48a599863b430abe5435",
            "ce489a60de994ef58e29168abd6d2ed5",
            "eb7e068ad49f40dca8b0542b95d83e6c",
            "51001e7edb26411b8f36eedb8207cce9",
            "0791b4aff65b4677aa07d7928b03fda9",
            "21d74507ef2e49ac928e0159af40e701",
            "c8f515edfb4f48fea03f2935e4fde804",
            "b1f1cae4a273438886b476c0c90fc52d",
            "1067729c32714299ba57e743adce7b24",
            "a83f03552d5c4845a035f72ae39fc136",
            "353e2caff147403c81d6821190a0f086",
            "33cb4527fbad4b3fb733098962223303",
            "390e220ed86b4d5e979a264c482b120c",
            "adcc11f15944473faf25f25927ce320d",
            "13eb4a5063274d089d714d7241cac9c0",
            "6a7967b10faf43a685bb7bb81a6afa14",
            "f06fb03fa74247f3b2411fdf0761c434",
            "741bb11a36f7457db08a7c600cc3bb88",
            "0885e80d26484116aebac3e6f9684bc6",
            "6281b6bdfcc34140b74715666d2fbf58",
            "7147369221bc474690c60d5ebff65af3",
            "d66c68fd8388452dac8bd9b0b4062e29",
            "13e41be6a99141fb9e66bb06d754aadb",
            "d0af5acbe47e48f6998254b951ab4059",
            "323d9a52f969481fbfb6d4039df08ff4",
            "d5dc5560da5d49c19a3a4bf000f34604",
            "50778826045c4d44902ed88ca6794e4a",
            "53756aeeac924a128c5b650bb329850b",
            "183ad74122b945a0992a29b0a1c6c43e",
            "08d1d60e2f8248a192b52b9044284e15",
            "71c894e8f7494d8bace6df50aa9d082c",
            "ed49176c4b9a4e2c801e2d4164f7cf40",
            "96a8b7bb2ba041ccaea4e70f356a4af2",
            "6628579a6f7248339e6b3357a4e5a2f5",
            "006a0a77796a4977bc36b70517e6c515",
            "3c74e352f515489586e1f0835923b22e",
            "060063a9eb0a4335b78165ea79edc431"
          ]
        },
        "outputId": "7520b935-4482-47a1-fb58-d5bb6793ee7c"
      },
      "execution_count": null,
      "outputs": [
        {
          "output_type": "stream",
          "name": "stdout",
          "text": [
            "Downloading http://yann.lecun.com/exdb/mnist/train-images-idx3-ubyte.gz\n",
            "Downloading http://yann.lecun.com/exdb/mnist/train-images-idx3-ubyte.gz to ./data/mnist/MNIST/raw/train-images-idx3-ubyte.gz\n"
          ]
        },
        {
          "output_type": "display_data",
          "data": {
            "text/plain": [
              "  0%|          | 0/9912422 [00:00<?, ?it/s]"
            ],
            "application/vnd.jupyter.widget-view+json": {
              "version_major": 2,
              "version_minor": 0,
              "model_id": "8b9ac0e76927470e9bff10ee1d3ab793"
            }
          },
          "metadata": {}
        },
        {
          "output_type": "stream",
          "name": "stdout",
          "text": [
            "Extracting ./data/mnist/MNIST/raw/train-images-idx3-ubyte.gz to ./data/mnist/MNIST/raw\n",
            "\n",
            "Downloading http://yann.lecun.com/exdb/mnist/train-labels-idx1-ubyte.gz\n",
            "Downloading http://yann.lecun.com/exdb/mnist/train-labels-idx1-ubyte.gz to ./data/mnist/MNIST/raw/train-labels-idx1-ubyte.gz\n"
          ]
        },
        {
          "output_type": "display_data",
          "data": {
            "text/plain": [
              "  0%|          | 0/28881 [00:00<?, ?it/s]"
            ],
            "application/vnd.jupyter.widget-view+json": {
              "version_major": 2,
              "version_minor": 0,
              "model_id": "01156e2847d0424ba2a87f943db54364"
            }
          },
          "metadata": {}
        },
        {
          "output_type": "stream",
          "name": "stdout",
          "text": [
            "Extracting ./data/mnist/MNIST/raw/train-labels-idx1-ubyte.gz to ./data/mnist/MNIST/raw\n",
            "\n",
            "Downloading http://yann.lecun.com/exdb/mnist/t10k-images-idx3-ubyte.gz\n",
            "Downloading http://yann.lecun.com/exdb/mnist/t10k-images-idx3-ubyte.gz to ./data/mnist/MNIST/raw/t10k-images-idx3-ubyte.gz\n"
          ]
        },
        {
          "output_type": "display_data",
          "data": {
            "text/plain": [
              "  0%|          | 0/1648877 [00:00<?, ?it/s]"
            ],
            "application/vnd.jupyter.widget-view+json": {
              "version_major": 2,
              "version_minor": 0,
              "model_id": "51e7f79d2a2540eaabfe3337246ffa6d"
            }
          },
          "metadata": {}
        },
        {
          "output_type": "stream",
          "name": "stdout",
          "text": [
            "Extracting ./data/mnist/MNIST/raw/t10k-images-idx3-ubyte.gz to ./data/mnist/MNIST/raw\n",
            "\n",
            "Downloading http://yann.lecun.com/exdb/mnist/t10k-labels-idx1-ubyte.gz\n",
            "Downloading http://yann.lecun.com/exdb/mnist/t10k-labels-idx1-ubyte.gz to ./data/mnist/MNIST/raw/t10k-labels-idx1-ubyte.gz\n"
          ]
        },
        {
          "output_type": "display_data",
          "data": {
            "text/plain": [
              "  0%|          | 0/4542 [00:00<?, ?it/s]"
            ],
            "application/vnd.jupyter.widget-view+json": {
              "version_major": 2,
              "version_minor": 0,
              "model_id": "eaee50308a164963a93e3e559dfcb435"
            }
          },
          "metadata": {}
        },
        {
          "output_type": "stream",
          "name": "stdout",
          "text": [
            "Extracting ./data/mnist/MNIST/raw/t10k-labels-idx1-ubyte.gz to ./data/mnist/MNIST/raw\n",
            "\n",
            "Downloading http://yann.lecun.com/exdb/mnist/train-images-idx3-ubyte.gz\n",
            "Downloading http://yann.lecun.com/exdb/mnist/train-images-idx3-ubyte.gz to ../data/mnist/MNIST/raw/train-images-idx3-ubyte.gz\n"
          ]
        },
        {
          "output_type": "display_data",
          "data": {
            "text/plain": [
              "  0%|          | 0/9912422 [00:00<?, ?it/s]"
            ],
            "application/vnd.jupyter.widget-view+json": {
              "version_major": 2,
              "version_minor": 0,
              "model_id": "2101544f3db54b6caa905c459b674479"
            }
          },
          "metadata": {}
        },
        {
          "output_type": "stream",
          "name": "stdout",
          "text": [
            "Extracting ../data/mnist/MNIST/raw/train-images-idx3-ubyte.gz to ../data/mnist/MNIST/raw\n",
            "\n",
            "Downloading http://yann.lecun.com/exdb/mnist/train-labels-idx1-ubyte.gz\n",
            "Downloading http://yann.lecun.com/exdb/mnist/train-labels-idx1-ubyte.gz to ../data/mnist/MNIST/raw/train-labels-idx1-ubyte.gz\n"
          ]
        },
        {
          "output_type": "display_data",
          "data": {
            "text/plain": [
              "  0%|          | 0/28881 [00:00<?, ?it/s]"
            ],
            "application/vnd.jupyter.widget-view+json": {
              "version_major": 2,
              "version_minor": 0,
              "model_id": "0791b4aff65b4677aa07d7928b03fda9"
            }
          },
          "metadata": {}
        },
        {
          "output_type": "stream",
          "name": "stdout",
          "text": [
            "Extracting ../data/mnist/MNIST/raw/train-labels-idx1-ubyte.gz to ../data/mnist/MNIST/raw\n",
            "\n",
            "Downloading http://yann.lecun.com/exdb/mnist/t10k-images-idx3-ubyte.gz\n",
            "Downloading http://yann.lecun.com/exdb/mnist/t10k-images-idx3-ubyte.gz to ../data/mnist/MNIST/raw/t10k-images-idx3-ubyte.gz\n"
          ]
        },
        {
          "output_type": "display_data",
          "data": {
            "text/plain": [
              "  0%|          | 0/1648877 [00:00<?, ?it/s]"
            ],
            "application/vnd.jupyter.widget-view+json": {
              "version_major": 2,
              "version_minor": 0,
              "model_id": "6a7967b10faf43a685bb7bb81a6afa14"
            }
          },
          "metadata": {}
        },
        {
          "output_type": "stream",
          "name": "stdout",
          "text": [
            "Extracting ../data/mnist/MNIST/raw/t10k-images-idx3-ubyte.gz to ../data/mnist/MNIST/raw\n",
            "\n",
            "Downloading http://yann.lecun.com/exdb/mnist/t10k-labels-idx1-ubyte.gz\n",
            "Downloading http://yann.lecun.com/exdb/mnist/t10k-labels-idx1-ubyte.gz to ../data/mnist/MNIST/raw/t10k-labels-idx1-ubyte.gz\n"
          ]
        },
        {
          "output_type": "display_data",
          "data": {
            "text/plain": [
              "  0%|          | 0/4542 [00:00<?, ?it/s]"
            ],
            "application/vnd.jupyter.widget-view+json": {
              "version_major": 2,
              "version_minor": 0,
              "model_id": "50778826045c4d44902ed88ca6794e4a"
            }
          },
          "metadata": {}
        },
        {
          "output_type": "stream",
          "name": "stdout",
          "text": [
            "Extracting ../data/mnist/MNIST/raw/t10k-labels-idx1-ubyte.gz to ../data/mnist/MNIST/raw\n",
            "\n"
          ]
        }
      ]
    },
    {
      "cell_type": "markdown",
      "source": [
        "##### CIFAR\n"
      ],
      "metadata": {
        "id": "lMDaISbS0UyX"
      }
    },
    {
      "cell_type": "code",
      "source": [
        "\n",
        "\n",
        "# dataset_train = datasets.CIFAR10('./data/cifar/', train=True, download=True, transform=transforms.ToTensor())\n",
        "# dataset_test = datasets.CIFAR10('./data/cifar/', train=False, download=True, transform=transforms.ToTensor())"
      ],
      "metadata": {
        "id": "QaaL_KLt0Ytn"
      },
      "execution_count": null,
      "outputs": []
    },
    {
      "cell_type": "markdown",
      "source": [
        "### Data preparation"
      ],
      "metadata": {
        "id": "rkpiegKISAms"
      }
    },
    {
      "cell_type": "markdown",
      "source": [
        "Prepare the entire dataset to be two np arrays, one named feature and one named label. Then the following does not need changing."
      ],
      "metadata": {
        "id": "Z8f5tulRScVL"
      }
    },
    {
      "cell_type": "code",
      "execution_count": null,
      "metadata": {
        "id": "2vlcIXlEi-yX"
      },
      "outputs": [],
      "source": [
        "# feature_train,feature_test,label_train, label_test=train_test_split(feature, label, test_size=0.40,random_state=42)"
      ]
    },
    {
      "cell_type": "code",
      "execution_count": null,
      "metadata": {
        "id": "5lJqRVJbmM3X"
      },
      "outputs": [],
      "source": [
        "# dataset_train = IrisData(feature_train, label_train) # only the __init__ function is called here\n",
        "# dataset_test = IrisData(feature_test, label_test)"
      ]
    },
    {
      "cell_type": "code",
      "execution_count": null,
      "metadata": {
        "id": "hkSAY43yFQ4e"
      },
      "outputs": [],
      "source": [
        ""
      ]
    },
    {
      "cell_type": "markdown",
      "metadata": {
        "id": "z01-GnrZoGad"
      },
      "source": [
        "# Partition the Data"
      ]
    },
    {
      "cell_type": "code",
      "execution_count": null,
      "metadata": {
        "id": "TyGhwGCRoBPT"
      },
      "outputs": [],
      "source": [
        "# dataset here is passed in but only its length is actually used. Can be optimized if necessary.\n",
        "\n",
        "def iid_partition(dataset, num_clients, report_iid_metric=False):\n",
        "  \"\"\"\n",
        "  I.I.D paritioning of data over clients\n",
        "  Shuffle the data\n",
        "  Split it between clients\n",
        "  \n",
        "  params:\n",
        "    - dataset (torch.utils.Dataset): Dataset containing the MNIST Images\n",
        "    - num_clients (int): Number of Clients to split the data between\n",
        "\n",
        "  returns:\n",
        "    - client_dict(dictionary): a dictionary of indices for each client\n",
        "      -> dictionaries are made up of (key, value) pairs\n",
        "        -> each key in client_dict is an int representing a client\n",
        "        -> each value is a Python set of int's, where each int is an index of data in the dataset     \n",
        "  \"\"\"\n",
        "\n",
        "  num_items_per_client = int(len(dataset)/num_clients)\n",
        "  client_dict = {}\n",
        "  idxs = [i for i in range(len(dataset))]\n",
        "\n",
        "  for i in range(num_clients):\n",
        "    client_dict[i] = set(np.random.choice(idxs, num_items_per_client, replace=False))\n",
        "    idxs = list(set(idxs) - client_dict[i])\n",
        "\n",
        "  if report_iid_metric == True:\n",
        "    report_client_mean_variance(client_dict)\n",
        "    \n",
        "  return client_dict"
      ]
    },
    {
      "cell_type": "code",
      "execution_count": null,
      "metadata": {
        "id": "5rDdTgugoK10"
      },
      "outputs": [],
      "source": [
        "def non_iid_partition(dataset, num_clients, num_shards, report_iid_metric=False):\n",
        "  \"\"\"\n",
        "  non I.I.D parititioning of data over clients\n",
        "  Sort the data by the digit label\n",
        "  Divide the data into N shards of size S\n",
        "  Randomly assign each client with  shards\n",
        "\n",
        "  Params:\n",
        "    - dataset (torch.utils.Dataset): the training dataset\n",
        "    - num_clients (int): Number of Clients to split the data between\n",
        "    - num_shards (int): Number of shards to partition the data in\n",
        "    - shards_size (int): Size of each shard \n",
        "    - num_shards_per_client (int): Number of shards of size shards_size that each client receives\n",
        "      -> dictionaries are made up of (key, value) pairs\n",
        "        -> each key in client_dict is an int representing a client\n",
        "        -> each value is a Python set of int's, where each int is an index of data in the dataset     \n",
        "  \n",
        "\n",
        "  Returns:\n",
        "    - client_dict_out (dictionary): a dictionary of indices for each client\n",
        "  \"\"\"\n",
        "  \n",
        "  dataset_len = len(dataset)\n",
        "  shards_size = dataset_len//num_shards # floor division\n",
        "  num_shards_per_client = num_shards//num_clients\n",
        "  \n",
        "  shard_idxs = [i for i in range(num_shards)]\n",
        "  client_dict = {i: np.array([], dtype='int64') for i in range(num_clients)}\n",
        "  client_dict_out = {}\n",
        "  idxs = np.arange(dataset_len)\n",
        "  #print(f\"idxs: {idxs}\")\n",
        "  \n",
        "  data_labels = dataset.label # data_labels should be a np array of all labels\n",
        "  #data_labels = dataset.targets.numpy()\n",
        "  #print(f\"data_labels: {data_labels}\")\n",
        "\n",
        "  # sort the labels\n",
        "  label_idxs = np.vstack((idxs, data_labels)) # put idxs and data_labels as a 2D np array\n",
        "  #print(f\"label_idx: {label_idxs}\")\n",
        "  label_idxs = label_idxs[:, label_idxs[1,:].argsort()]\n",
        "  #print(f\"label_idx new: {label_idxs}\")\n",
        "  idxs = label_idxs[0,:].astype(int) # only want the idxs layer of the sorted 2D array \n",
        "  #print(f\"idxs new: {idxs}\")\n",
        "\n",
        "  # divide the data into total_shards of size shards_size\n",
        "  # assign num_shards_per_client to each client\n",
        "  for i in range(num_clients):\n",
        "    selected_shards_set = set(np.random.choice(shard_idxs, num_shards_per_client, replace=False))\n",
        "    #print(f\"rand_set: {rand_set}\")\n",
        "    shard_idxs = list(set(shard_idxs) - selected_shards_set)\n",
        "    #print(f\"shard_idxs: {shard_idxs}\")\n",
        "\n",
        "    for shard in selected_shards_set:\n",
        "      #print(f\"to append: {idxs[rand*shards_size:(rand+1)*shards_size]}\")\n",
        "      client_dict[i] = np.concatenate((client_dict[i], idxs[shard * shards_size : (shard+1)*shards_size]))\n",
        "      set_i = set(client_dict[i])\n",
        "      client_dict_out[i] = set_i\n",
        "\n",
        "  if report_iid_metric == True:\n",
        "    report_client_mean_variance(client_dict_out)  \n",
        "\n",
        "  return client_dict_out"
      ]
    },
    {
      "cell_type": "code",
      "source": [
        "def client_dict_train_val_split(client_dict_in, validation_ratio):\n",
        "  \"\"\"\n",
        "  Split each client data randomly to two parts: training data and validation data\n",
        "\n",
        "  Params:\n",
        "    - client_dict_in (python dictionary): the client dictionary\n",
        "    - validation_ratio (double): the proportion of client data to be spitted into validation data\n",
        "\n",
        "  Returns:\n",
        "    - client_dict_out (dictionary): dictionary of indices for each client's training and validation data  \n",
        "      -> client_dict_out is a nested dictionary\n",
        "        -> each key,value pair looks like this\n",
        "          -> key (int) representing the client, value (dictionary): {\"train\": a set of int's , \"validation\": a set of int's}\n",
        "  \"\"\"\n",
        "  client_dict_out = {}\n",
        "\n",
        "\n",
        "  for client in client_dict_in:\n",
        "    num_total_data = len(client_dict_in[client])\n",
        "    num_val_data = int(num_total_data * validation_ratio)\n",
        "    val_set = set(np.random.choice(np.array(list(client_dict_in[client])), num_val_data, replace=False))\n",
        "    train_set = client_dict_in[client] - val_set\n",
        "    client_dict_out[client]={}\n",
        "    client_dict_out[client][\"train\"] = train_set\n",
        "    client_dict_out[client][\"validation\"] = val_set\n",
        "    \n",
        "  return client_dict_out  "
      ],
      "metadata": {
        "id": "yfyUYnnXPJhy"
      },
      "execution_count": null,
      "outputs": []
    },
    {
      "cell_type": "code",
      "source": [
        "# Not sure if to account client dataset size\n",
        "def report_client_mean_variance(client_dict):\n",
        "  \"\"\"\n",
        "  This function returns the mean of each client's local training set\n",
        "  Can use this to roughly see how iid the dictionary is\n",
        "\n",
        "  Note: the client_dict passes in should be the one before train-val split\n",
        "  \"\"\"\n",
        "  mean = []\n",
        "\n",
        "  for client in client_dict:\n",
        "    loader =  DataLoader(CustomDataset(dataset_train, client_dict[client]), batch_size=len(client_dict[client]), shuffle=True)\n",
        "    ld = iter(loader).next()\n",
        "    data, label = ld\n",
        "    label_np = label.numpy()\n",
        "    label_mean = np.mean(label_np)\n",
        "    for i in range(len(client_dict[client])): # for label_mean of a certain client, append it for multiple times = size of this client's local dataset\n",
        "      mean.append(label_mean)\n",
        "\n",
        "  print(\"-> Variance of mean client data: \", np.var(mean))\n",
        "  print(\"-> Note: a small value is expected for i.i.d partition and a large value typically indicate the partition is non-iid.\")"
      ],
      "metadata": {
        "id": "Z63ilDSugASQ"
      },
      "execution_count": null,
      "outputs": []
    },
    {
      "cell_type": "markdown",
      "metadata": {
        "id": "mHVh_TAWufaK"
      },
      "source": [
        "# Client Training\n"
      ]
    },
    {
      "cell_type": "code",
      "execution_count": null,
      "metadata": {
        "id": "Qy9_1kKcuiDb"
      },
      "outputs": [],
      "source": [
        "class CustomDataset(Dataset):\n",
        "  def __init__(self, dataset, idxs_set):\n",
        "\n",
        "      self.dataset = dataset\n",
        "      self.idxs = list(idxs_set)\n",
        "\n",
        "  def __len__(self):\n",
        "      return len(self.idxs)\n",
        "\n",
        "  def __getitem__(self, item):\n",
        "      feature, label = self.dataset[self.idxs[item]]\n",
        "      return feature, label\n",
        "\n",
        "class ClientUpdate(object):\n",
        "  def __init__(self, dataset, batchSize, learning_rate, epochs, client_set, criterion, num_classes,isClassification):\n",
        "    self.train_loader = DataLoader(CustomDataset(dataset, client_set[\"train\"]), batch_size=batchSize, shuffle=True)\n",
        "    self.dataset = dataset\n",
        "    self.idx_set = client_set[\"validation\"]\n",
        "    self.learning_rate = learning_rate\n",
        "    self.epochs = epochs\n",
        "    self.criterion = criterion\n",
        "    self.num_classes = num_classes\n",
        "    self.isClassification = isClassification\n",
        "\n",
        "  def train(self, model):\n",
        "\n",
        "    \"\"\"\n",
        "    This function performs local training\n",
        "\n",
        "    Params:\n",
        "      - model: the global model that the server sends to each client in the current global training round\n",
        "\n",
        "    Returns:\n",
        "      - model.state_dict():   a dictionary of all model parameters of the trained local model\n",
        "      - total_loss:           the average training loss of the trained local model\n",
        "      - val_loss:             the validation loss \n",
        "    \"\"\"\n",
        "\n",
        "    criterion = self.criterion\n",
        "    optimizer = torch.optim.SGD(model.parameters(), lr=self.learning_rate, momentum=0.5)\n",
        "    # optimizer = torch.optim.Adam(model.parameters(), lr=self.learning_rate)\n",
        "\n",
        "    e_loss = []\n",
        "\n",
        "    \n",
        "\n",
        "    for epoch in range(1, self.epochs+1):\n",
        "\n",
        "      train_loss = 0.0\n",
        "\n",
        "      model.train()\n",
        "      for data, labels in self.train_loader:\n",
        "\n",
        "        if torch.cuda.is_available():\n",
        "          data, labels = data.cuda(), labels.cuda()\n",
        "\n",
        "        # clear the gradients\n",
        "        optimizer.zero_grad()\n",
        "        # make a forward pass\n",
        "        output = model(data)\n",
        "        # calculate the loss\n",
        "\n",
        "        # length = len(labels)\n",
        "        # labels = labels.view((length,1)) # to make dimensions right, needed when doing regression\n",
        "\n",
        "        loss = criterion(output, labels)\n",
        "        # do a backwards pass\n",
        "        loss.backward()\n",
        "        # perform a single optimization step\n",
        "        optimizer.step()\n",
        "        # update training loss\n",
        "        train_loss += loss.item()*data.size(0)\n",
        "\n",
        "      # average losses\n",
        "      train_loss = train_loss/len(self.train_loader.dataset)\n",
        "      e_loss.append(train_loss)\n",
        "\n",
        "    total_loss = sum(e_loss)/len(e_loss)\n",
        "\n",
        "    # validation\n",
        "    model.eval()\n",
        "    val_loss, val_accuracy, val_accuracy_str = local_validate(model=model, dataset=self.dataset, idx_set=self.idx_set, criterion=criterion, num_classes= self.num_classes,isClassification= self.isClassification)\n",
        "\n",
        "\n",
        "    return model.state_dict(), total_loss, val_loss, val_accuracy, val_accuracy_str"
      ]
    },
    {
      "cell_type": "markdown",
      "metadata": {
        "id": "3IvnLnucumpj"
      },
      "source": [
        "# Server Training"
      ]
    },
    {
      "cell_type": "markdown",
      "source": [
        "## Weights Functions"
      ],
      "metadata": {
        "id": "8I6z9FQw6Qxo"
      }
    },
    {
      "cell_type": "code",
      "source": [
        "def size_of_clients(client_dict, active_client):\n",
        "  \"\"\"\n",
        "  This function returns the sizes of each clients.\n",
        "\n",
        "  Params:\n",
        "    - client_dict (dictionary): a dictionary of clients\n",
        "    - active_clients (array): each element is an active client, used as a key to search in client_dict\n",
        "\n",
        "  Returns:\n",
        "    - client_sizes (array): each element corresponds to the size of local dataset of clients in active_client, Note: the order should match with active_clients  \n",
        "  \"\"\"\n",
        "\n",
        "  client_sizes = []\n",
        "  for ac in range(len(active_client)):\n",
        "    size = len(client_dict[active_client[ac]][\"train\"])\n",
        "    client_sizes.append(size)\n",
        "\n",
        "  return client_sizes  "
      ],
      "metadata": {
        "id": "Z1SVls6x-QzP"
      },
      "execution_count": null,
      "outputs": []
    },
    {
      "cell_type": "markdown",
      "source": [
        "### calc_weights\n",
        "### This class of functions calculate weights of different local models based on different formulae."
      ],
      "metadata": {
        "id": "RULYRu8FIiS9"
      }
    },
    {
      "cell_type": "code",
      "source": [
        "def calc_weights_simple_adjust_loss(client_sizes, val_losses):\n",
        "  \"\"\"\n",
        "  The weight of a certain client is its size/val_loss and then normalize the weight vector to a sum of 1.\n",
        "\n",
        "  Params:\n",
        "    - client_sizes (array): an array of sizes of each client's local dataset\n",
        "    - val_losses (array): an array of validation losses of each client's local model\n",
        "\n",
        "  Returns:\n",
        "    - weights_of_models (array): an array of computed weights of each cient model \n",
        "  \"\"\"\n",
        "  weights_of_models = []\n",
        "\n",
        "  for i in range(len(client_sizes)):\n",
        "    weights_of_models.append(client_sizes[i] / (val_losses[i]+0.0001)) # +0.0001 to prevent dividing by 0\n",
        "\n",
        "  total_weights = np.sum(weights_of_models)\n",
        "  weights_of_models = weights_of_models / total_weights \n",
        "\n",
        "  return weights_of_models"
      ],
      "metadata": {
        "id": "FAaR9tjv4vqh"
      },
      "execution_count": null,
      "outputs": []
    },
    {
      "cell_type": "code",
      "source": [
        "def calc_weights_simple_adjust_accuracy(client_sizes, val_accuracies):\n",
        "  \"\"\"\n",
        "  The weight of a certain client is its size*val_accuracy and then normalize the weight vector to a sum of 1.\n",
        "\n",
        "  Params:\n",
        "    - client_sizes (array): an array of sizes of each client's local dataset\n",
        "    - val_losses (array): an array of validation losses of each client's local model\n",
        "\n",
        "  Returns:\n",
        "    - weights_of_models (array): an array of computed weights of each cient model \n",
        "  \"\"\"\n",
        "  weights_of_models = []\n",
        "\n",
        "  for i in range(len(client_sizes)):\n",
        "    weights_of_models.append(client_sizes[i] * val_accuracies[i])\n",
        "  \n",
        "  total_weights = np.sum(weights_of_models)\n",
        "  weights_of_models = weights_of_models / total_weights \n",
        "\n",
        "  return weights_of_models"
      ],
      "metadata": {
        "id": "LvFbRksIji06"
      },
      "execution_count": null,
      "outputs": []
    },
    {
      "cell_type": "code",
      "source": [
        "def calc_weights_fedavg(client_sizes):\n",
        "  \"\"\"\n",
        "  This is the original FedAvg. The weight of one certain client is size/total_size.\n",
        "  \n",
        "  Params:\n",
        "    - client_sizes (array): an array of sizes of each client's local dataset\n",
        "    - val_losses (array): an array of validation losses of each client's local model\n",
        "\n",
        "  Returns:\n",
        "    - weights_of_models (array): an array of computed weights of each cient model \n",
        "  \"\"\"\n",
        "  total_size = np.sum(client_sizes)\n",
        "  weights_of_models = client_sizes/total_size\n",
        "\n",
        "  return weights_of_models"
      ],
      "metadata": {
        "id": "fcywFsTYCYHY"
      },
      "execution_count": null,
      "outputs": []
    },
    {
      "cell_type": "code",
      "source": [
        "# def calc_weights(client_sizes, val_losses):\n",
        "#   weights_of_models = []\n",
        "\n",
        "#   for i in range(len(client_sizes)):\n",
        "#     weights_of_models.append(client_sizes[i] / np.exp(val_losses[i]))\n",
        "\n",
        "#   total_weights = np.sum(weights_of_models)\n",
        "#   weights_of_models = weights_of_models / total_weights \n",
        "#   return weights_of_models"
      ],
      "metadata": {
        "id": "0XnlPuevIX5l"
      },
      "execution_count": null,
      "outputs": []
    },
    {
      "cell_type": "code",
      "source": [
        "# def calc_weights(client_sizes, val_losses):\n",
        "#   weights_of_models = []\n",
        "\n",
        "#   for i in range(len(client_sizes)):\n",
        "#     weights_of_models.append(client_sizes[i] + 1/val_losses[i])\n",
        "\n",
        "#   total_weights = np.sum(weights_of_models)\n",
        "#   weights_of_models = weights_of_models / total_weights \n",
        "#   return weights_of_models"
      ],
      "metadata": {
        "id": "iFheAfZcKNPi"
      },
      "execution_count": null,
      "outputs": []
    },
    {
      "cell_type": "markdown",
      "source": [
        "## Training"
      ],
      "metadata": {
        "id": "dkc45wWZ6Uud"
      }
    },
    {
      "cell_type": "code",
      "execution_count": null,
      "metadata": {
        "id": "H-IAyGOAusQk"
      },
      "outputs": [],
      "source": [
        "def training(model, num_rounds, batch_size, num_classes, learning_rate, dataset, data_dict, active_client_fraction, num_clients, num_epochs, criterion, weight_mode, validate_on,plt_title, isClassification,plt_color, verbose=True):\n",
        "  \"\"\"\n",
        "  Function implements the Federated Averaging Algorithm from the FedAvg paper.\n",
        "  Specifically, this function is used for the server side training and weight update\n",
        "\n",
        "  Params:\n",
        "    - model:                    PyTorch model to train\n",
        "    - num_rounds:               Number of global training rounds (also, communication rounds)\n",
        "    - batch_size:               Batch size for client update training\n",
        "    - learning_rate:            Learning rate used for client update training\n",
        "    - dataset:                  Dataset used for training\n",
        "    - data_dict:                Type of data partition used for training (IID or non-IID)\n",
        "    - active_client_fraction:   Fraction of clients randomly chosen to perform computation on each round\n",
        "    - num_clients:              Total number of clients\n",
        "    - num_epochs:               Number of training passes each client makes over its local dataset per round\n",
        "    - criterion:                Loss function to use\n",
        "    - weight_mode (enum):       Mode of computing weights of different local models\n",
        "    - validate_on (enum):       Adjust the weight based on validation loss or accuracy\n",
        "                                Note: \n",
        "                                      1. if weight_mode is set to WEIGHT_MODE.SIMPLE_FEDAVG,\n",
        "                                       validate_on will make no difference \n",
        "                                      2. if isClassification is set to False,\n",
        "                                       that is we are dealing with a regression problem,\n",
        "                                       validate_on will be automatically overwritten to\n",
        "                                       VALIDATE_ON.LOSS and will print a message\n",
        "\n",
        "    - isClassification:         Whether or not is this a classification\n",
        "    - tb_writer_name:           Directory name to save the tensorboard logs\n",
        "  \n",
        "  Returns:\n",
        "    - model:                    Trained model on the server\n",
        "  \"\"\"\n",
        "\n",
        "  if isClassification == False and validate_on == VALIDATE_ON.ACCURACY:\n",
        "    print(\"---> Validation on accuracy for regression problems is not allowed. Automatically set to validate on loss.\")\n",
        "    validate_on = VALIDATE_ON.LOSS\n",
        "\n",
        "  # global model weights\n",
        "  global_weights = model.state_dict()\n",
        "\n",
        "  # training loss\n",
        "  train_loss = []\n",
        "  \n",
        "  \n",
        "  # measure time\n",
        "  start = time.time()\n",
        "  if verbose == True:\n",
        "    print(\"------------------------Training Mode Summary----------------------------\")\n",
        "    if weight_mode == WEIGHT_MODE.SIMPLE_FEDAVG:\n",
        "      print(\"---> Weight mode: FedAvg.\")\n",
        "      print(\"---> Validation mode: No validation for FedAvg.\")\n",
        "    else:\n",
        "      print(\"---> Weight mode: adjustment.\")\n",
        "      print(f\"---> Validation mode: Validation will be based on validation {validate_on.value}.\")   \n",
        "\n",
        "    if isClassification == True:\n",
        "      print(\"---> Task type: Classification\")\n",
        "    else:\n",
        "      print(\"---> Task type: Regression\")  \n",
        "    print(\"-------------------------------------------------------------------------\")\n",
        "\n",
        "\n",
        "  for curr_round in range(1, num_rounds+1):\n",
        "    w, local_loss, val_loss, val_accuracy, val_accuracy_str = [], [], [], [], []\n",
        "\n",
        "    num_active_client = max(int(active_client_fraction*num_clients), 1)\n",
        "    \n",
        "    active_clients = np.random.choice(range(num_clients), num_active_client, replace=False) # active_clients is the array of clients to train on\n",
        "    active_clients.sort() # to make it easy to look at the printed summaries\n",
        "\n",
        "    client_sizes = size_of_clients(client_dict=data_dict, active_client=active_clients)\n",
        "    \n",
        "    for k in active_clients:\n",
        "      local_update = ClientUpdate(dataset=dataset, batchSize=batch_size, learning_rate=learning_rate, epochs=num_epochs, client_set=data_dict[k], criterion=criterion, num_classes=num_classes,isClassification=isClassification) # initialize the local update object\n",
        "      weights, loss, local_val_loss, local_val_accuracy, local_val_accuracy_str = local_update.train(model=copy.deepcopy(model))\n",
        "\n",
        "      val_loss.append(local_val_loss)\n",
        "      val_accuracy.append(local_val_accuracy)\n",
        "      val_accuracy_str.append(local_val_accuracy_str)\n",
        "      w.append(copy.deepcopy(weights))\n",
        "      local_loss.append(loss*client_sizes[k])\n",
        "\n",
        "\n",
        "    # updating the global weights\n",
        "    if weight_mode == WEIGHT_MODE.SIMPLE_ADJUST:\n",
        "      if validate_on == VALIDATE_ON.LOSS:\n",
        "        weights_of_models = calc_weights_simple_adjust_loss(client_sizes=client_sizes, val_losses=val_loss)\n",
        "      else:\n",
        "        weights_of_models = calc_weights_simple_adjust_accuracy(client_sizes=client_sizes, val_accuracies= val_accuracy)\n",
        "    else:\n",
        "      weights_of_models = calc_weights_fedavg(client_sizes=client_sizes)\n",
        "\n",
        "    # print(len(val_loss))\n",
        "    # print(len(client_sizes))\n",
        "    # print(len(weights_of_models))\n",
        "    # print(len(w))\n",
        "\n",
        "    weights_avg = copy.deepcopy(w[0])\n",
        "    for k in weights_avg.keys():\n",
        "      weights_avg[k] = torch.mul(weights_avg[k], weights_of_models[0]) \n",
        "      for i in range(1, len(weights_of_models)): \n",
        "        # index i here corresponds to each local model and index k here corresponds to each model weight \n",
        "        weights_avg[k] += w[i][k] * weights_of_models[i]\n",
        "\n",
        "    global_weights = weights_avg\n",
        "\n",
        "    # move the updated weights to our model state dict\n",
        "    model.load_state_dict(global_weights)\n",
        "\n",
        "    # loss\n",
        "    loss_avg = sum(local_loss) / sum(client_sizes) \n",
        "    train_loss.append(loss_avg)\n",
        "\n",
        "    if verbose == True:\n",
        "      print(\"----------------------------Round Summary--------------------------------\")\n",
        "      print(f\"---> Round: {curr_round}, Average training loss: {loss_avg}\")\n",
        "      print(f\"---> Active Clients: {active_clients}\")\n",
        "      print(f\"---> Client Training Set Sizes: {client_sizes}\")\n",
        "      print(f\"---> Validation losses: {val_loss}\")\n",
        "      if isClassification == False:\n",
        "        print(\"Regression problem. Validation accuracy is not applicable.\")\n",
        "      else:\n",
        "        print(f\"---> Validation accuracy: {val_accuracy}\")  \n",
        "        print(f\"     Validation result: {val_accuracy_str}\")\n",
        "        print(f\"---> Weights of Local Models: {weights_of_models}\")\n",
        "      print(\"-------------------------------------------------------------------------\")\n",
        "\n",
        "    \n",
        "\n",
        "  end = time.time()\n",
        "\n",
        "  fig_train, ax_train = plt.subplots()\n",
        "  x_axis_train = np.arange(1, rounds+1)\n",
        "  y_axis_train = np.array(train_loss)\n",
        "  ax_train.plot(x_axis_train, y_axis_train, 'tab:'+plt_color)\n",
        "\n",
        "  ax_train.set(xlabel='Number of Rounds', ylabel='Train Loss',\n",
        "       title=plt_title)\n",
        "  ax_train.grid()\n",
        "  fig_train.savefig(plt_title+'.jpg', format='jpg')\n",
        "\n",
        "  # fig_val, ax_val = plt.subplots()\n",
        "  # x_axis_val = np.arange(1, rounds+1)\n",
        "  # y_axis_val = np.array(val_loss)\n",
        "  # ax_val.plot(x_axis_val, y_axis_val, 'tab:'+plt_color)\n",
        "\n",
        "  # ax_val.set(xlabel='Number of Rounds', ylabel='Train Loss',\n",
        "  #      title=plt_title)\n",
        "  # ax_val.grid()\n",
        "  # fig_val.savefig(plt_title+'.jpg', format='jpg')\n",
        "\n",
        "  print(\"Training Done!\")\n",
        "  print(\"Total time taken to Train: {}\".format(end-start))\n",
        "  \n",
        "  return model"
      ]
    },
    {
      "cell_type": "markdown",
      "source": [
        "# Validation"
      ],
      "metadata": {
        "id": "V__2Av44J1he"
      }
    },
    {
      "cell_type": "code",
      "source": [
        "def local_validate(model, dataset, idx_set, criterion, num_classes, isClassification):\n",
        "  \"\"\"\n",
        "  This function will do a validation of the model on a given dataset.\n",
        "\n",
        "  Param:\n",
        "    - model (torch.nn): the already trained Pytorch model to validate\n",
        "    - dataset (torch.utils.Dataset): the dataset to load data from\n",
        "    - idx_set (set): a set of integers, corresponding to the index of data to validate on\n",
        "    - criterion: the loss function to use\n",
        "    - isClassification (boolean): True if this is a classification problem and\n",
        "      this function will calculate the validation accuracy\n",
        "\n",
        "  Returns:\n",
        "    - val_loss (float): the loss of the model on this validation set  \n",
        "    - val_accuracy (float): for regression problems, return a dummy -1\n",
        "  \"\"\"\n",
        "\n",
        "  val_loss = 0.0\n",
        "  val_accuracy = 0.0\n",
        "  correct_class = list(0. for i in range(num_classes))\n",
        "  total_class = list(0. for i in range(num_classes))\n",
        "  \n",
        "  val_loader = DataLoader(CustomDataset(dataset, idx_set), batch_size=len(idx_set), shuffle=True)\n",
        "\n",
        "  for data, labels in val_loader:\n",
        "    if torch.cuda.is_available():\n",
        "      data, labels = data.cuda(), labels.cuda()\n",
        "\n",
        "    output = model(data)\n",
        "    \n",
        "    # length = len(labels)\n",
        "    # labels = labels.view((length,1)) # to make dimensions right, only needed in regression\n",
        "    \n",
        "    # compute validation loss\n",
        "    loss = criterion(output, labels) \n",
        "    val_loss += loss.item()*data.size(0)  \n",
        "\n",
        "    # compute validation accuracy for classification problems \n",
        "    if isClassification == True:\n",
        "      _, pred = torch.max(output, 1)\n",
        "      correct_tensor = pred.eq(labels.data.view_as(pred))\n",
        "      correct = np.squeeze(correct_tensor.numpy()) if not torch.cuda.is_available() else np.squeeze(correct_tensor.cpu().numpy())\n",
        "      # print(f\"---> Debug: label: {labels}\")\n",
        "      # print(f\"---> Debug: pred:  {pred}\")\n",
        "      # print(f\"---> Debug: correct:{correct_tensor}\")\n",
        "      for i in range(len(data)):\n",
        "        label = labels.data[i]\n",
        "        correct_class[label] += correct[i].item()\n",
        "        total_class[label] += 1\n",
        "\n",
        "\n",
        "  num_correct_label = np.sum(correct_class)\n",
        "  num_total_label = np.sum(total_class)\n",
        "  if isClassification == True:\n",
        "    val_accuracy = num_correct_label / num_total_label\n",
        "  else:\n",
        "    val_accuracy = -1  \n",
        "  \n",
        "  val_loss = val_loss/len(val_loader.dataset)\n",
        "\n",
        "  num_correct_label_str = str(num_correct_label)\n",
        "  num_total_label_str = str(num_total_label)\n",
        "  val_accuracy_string = num_correct_label_str + \"/\" + num_total_label_str\n",
        "  \n",
        "  return val_loss, val_accuracy, val_accuracy_string"
      ],
      "metadata": {
        "id": "Gz0n2SKkJ4kc"
      },
      "execution_count": null,
      "outputs": []
    },
    {
      "cell_type": "code",
      "source": [
        "def gobal_validate(model, dataset, val_idx, criterion,num_classes, classes, report_accuracy):\n",
        "  batch_size = len(val_idx)\n",
        "  val_loader = DataLoader(CustomDataset(dataset, val_idx), batch_size=len(val_idx), shuffle=True)\n",
        "  return test(model, dataset, batch_size, criterion, num_classes, classes, val_loader, \"Validation\", report_accuracy=report_accuracy)"
      ],
      "metadata": {
        "id": "ApLY9XfGa53E"
      },
      "execution_count": null,
      "outputs": []
    },
    {
      "cell_type": "markdown",
      "metadata": {
        "id": "wiaZl4R0u3eW"
      },
      "source": [
        "# Test"
      ]
    },
    {
      "cell_type": "code",
      "source": [
        "def test(model, dataset, bs, criterion, num_classes, classes, loader, mode, report_accuracy):\n",
        "  test_loss = 0.0\n",
        "  correct_class = list(0. for i in range(num_classes))\n",
        "  total_class = list(0. for i in range(num_classes))\n",
        "\n",
        "  for data, labels in loader:\n",
        "\n",
        "    if torch.cuda.is_available():\n",
        "      data, labels = data.cuda(), labels.cuda()\n",
        "\n",
        "    output = model(data)\n",
        "\n",
        "    # length = len(labels)\n",
        "    # labels = labels.view((length,1)) # to make dimensions right, only needed in regression\n",
        "\n",
        "    loss = criterion(output, labels)\n",
        "    test_loss += loss.item()*data.size(0)\n",
        "\n",
        "    if report_accuracy == True:\n",
        "      _, pred = torch.max(output, 1)\n",
        "      correct_tensor = pred.eq(labels.data.view_as(pred))\n",
        "      correct = np.squeeze(correct_tensor.numpy()) if not torch.cuda.is_available() else np.squeeze(correct_tensor.cpu().numpy())\n",
        "      #print(f\"data len: {len(data)}\")\n",
        "      #test accuracy for each object class\n",
        "      for i in range(len(data)):\n",
        "        label = labels.data[i]\n",
        "        correct_class[label] += correct[i].item()\n",
        "        total_class[label] += 1\n",
        "        #print(f\"i: {i}, label: {label}\")\n",
        "   \n",
        "    \n",
        "  # avg test loss\n",
        "  test_loss = test_loss/len(loader.dataset)\n",
        "  \n",
        "  print(mode, \"Loss: {:.6f}\\n\".format(test_loss))\n",
        "\n",
        "  if report_accuracy == True:\n",
        "    # print test accuracy\n",
        "    for i in range(num_classes):\n",
        "      if total_class[i]>0:\n",
        "        print(mode, 'Accuracy of %5s: %2d%% (%2d/%2d)' % \n",
        "            (classes[i], 100 * correct_class[i] / total_class[i],\n",
        "            np.sum(correct_class[i]), np.sum(total_class[i]))) \n",
        "\n",
        "      else:\n",
        "        print(mode, 'Accuracy of %5s: N/A (no '% (classes[i]), mode, ' examples)' )\n",
        "      \n",
        "    print('\\nFinal ', mode, ' Accuracy: {:.3f} ({}/{})\\n'.format(\n",
        "        100. * np.sum(correct_class) / np.sum(total_class),\n",
        "        np.sum(correct_class), np.sum(total_class)))\n",
        "\n",
        "  return test_loss"
      ],
      "metadata": {
        "id": "hz_rUy-VlDG8"
      },
      "execution_count": null,
      "outputs": []
    },
    {
      "cell_type": "code",
      "execution_count": null,
      "metadata": {
        "id": "tB2TnXZ5u43W"
      },
      "outputs": [],
      "source": [
        "def testing(model, dataset, bs, criterion, num_classes, classes, report_accuracy):\n",
        "  test_loader = DataLoader(dataset, batch_size=bs)\n",
        "  \n",
        "  model.eval()\n",
        "  test(model, dataset, bs, criterion, num_classes, classes, test_loader, \"Test\", report_accuracy=report_accuracy)"
      ]
    },
    {
      "cell_type": "markdown",
      "source": [
        "# Debugging Functions"
      ],
      "metadata": {
        "id": "bnyj_GTIFrzC"
      }
    },
    {
      "cell_type": "code",
      "source": [
        "def seeClientData(dataset, client_dict, client):\n",
        "  \"\"\"\n",
        "  Use this function to see the specific data a client holds\n",
        "\n",
        "  Params:\n",
        "    - dataset (torch.utils.dataset): the training dataset\n",
        "    - client_dict (dictionary): the dictionary of clients, NOTE: after train-val split\n",
        "    - client (int): the client you want to inspect\n",
        "\n",
        "  Returns:\n",
        "    - Nothing. Print client data.  \n",
        "  \"\"\"\n",
        "\n",
        "  train_loader = DataLoader(CustomDataset(dataset, client_dict[client][\"train\"]), batch_size=len(client_dict[client][\"train\"]), shuffle=False)\n",
        "  tld = iter(train_loader).next()\n",
        "  train_data, train_label = tld\n",
        "  print(f\"-> Training set size of client {client}: {len(train_data)}\")\n",
        "  print(f\"-> Training data of client {client}: {train_data}\")\n",
        "  print(f\"-> Corresponding label: {train_label}\")\n",
        "\n",
        "  val_loader = DataLoader(CustomDataset(dataset, client_dict[client][\"validation\"]), batch_size=len(client_dict[client][\"validation\"]), shuffle=False)\n",
        "  vld = iter(val_loader).next()\n",
        "  val_data, val_label = vld\n",
        "  print(f\"-> Validation set size of client {client}: {len(val_data)}\")\n",
        "  print(f\"-> Validation data of client {client}: {val_data}\")\n",
        "  print(f\"-> Corresponding label: {val_label}\")\n"
      ],
      "metadata": {
        "id": "b1YrHnqeFwWY"
      },
      "execution_count": null,
      "outputs": []
    },
    {
      "cell_type": "markdown",
      "metadata": {
        "id": "V8IhkPvxu5vG"
      },
      "source": [
        "# IID Case"
      ]
    },
    {
      "cell_type": "markdown",
      "metadata": {
        "id": "kMQ-N9gsEJvF"
      },
      "source": [
        "## Experiment Setup"
      ]
    },
    {
      "cell_type": "code",
      "source": [
        "# number of training rounds\n",
        "rounds = 150\n",
        "# client fraction\n",
        "C = 1\n",
        "# number of clients\n",
        "K = 10\n",
        "# number of training passes on local dataset for each round\n",
        "E = 10\n",
        "# batch size\n",
        "batch_size = 10\n",
        "# learning Rate\n",
        "lr=0.01\n",
        "# data partition dictionary\n",
        "client_dict = iid_partition(dataset=dataset_train, num_clients=K, report_iid_metric=True)\n",
        "\n",
        "iid_dict = client_dict_train_val_split(client_dict_in=client_dict, validation_ratio=0.2)\n",
        "\n",
        "# loader =  DataLoader(CustomDataset(dataset_train, client_dict[0]), batch_size=len( client_dict[0]), shuffle=True)\n",
        "# ld = iter(loader).next()\n",
        "# data, label = ld\n",
        "# print(\"data: \", data, \"label: \", label)\n",
        "\n",
        "# initialize model\n"
      ],
      "metadata": {
        "id": "1iL2mhN9D1_t",
        "outputId": "6dad122d-ebb0-4d99-f58c-f9704ae5ade2",
        "colab": {
          "base_uri": "https://localhost:8080/"
        }
      },
      "execution_count": null,
      "outputs": [
        {
          "output_type": "stream",
          "name": "stdout",
          "text": [
            "-> Variance of mean client data:  8.643722222222204e-05\n",
            "-> Note: a small value is expected for i.i.d partition and a large value typically indicate the partition is non-iid.\n"
          ]
        }
      ]
    },
    {
      "cell_type": "code",
      "source": [
        "seeClientData(dataset=dataset_train, client_dict=iid_dict, client=0)"
      ],
      "metadata": {
        "id": "dc6QSpIuvThK"
      },
      "execution_count": null,
      "outputs": []
    },
    {
      "cell_type": "code",
      "source": [
        "val_mode1 = VALIDATE_ON.ACCURACY\n",
        "weight_mode1 = WEIGHT_MODE.SIMPLE_FEDAVG\n",
        "val_mode2 = VALIDATE_ON.LOSS\n",
        "weight_mode2 = WEIGHT_MODE.SIMPLE_ADJUST\n",
        "val_mode3 = VALIDATE_ON.ACCURACY\n",
        "weight_mode3 = WEIGHT_MODE.SIMPLE_ADJUST\n"
      ],
      "metadata": {
        "id": "WVfZ-oozPc6y"
      },
      "execution_count": null,
      "outputs": []
    },
    {
      "cell_type": "code",
      "source": [
        "print(\"-----------------------------Experiment Setup-----------------------------\")\n",
        "print(\"Client Partition: IID\")\n",
        "print(f\"Number of communication rounds: {rounds}\")\n",
        "print(f\"Fraction of active clients: {C}\")\n",
        "print(f\"Number of total clients: {K}\")\n",
        "print(f\"Number of local epochs: {E}\")\n",
        "print(\"--------------------------------------------------------------------------\")"
      ],
      "metadata": {
        "id": "yzYKELtpFHlA"
      },
      "execution_count": null,
      "outputs": []
    },
    {
      "cell_type": "markdown",
      "source": [
        "## Experiments"
      ],
      "metadata": {
        "id": "4ASodpaY79i-"
      }
    },
    {
      "cell_type": "markdown",
      "source": [
        "### Experiment 1\n",
        "without noise, without adjustment, pure FedAvg"
      ],
      "metadata": {
        "id": "5iwjdIWBOMPc"
      }
    },
    {
      "cell_type": "code",
      "source": [
        "model_iid1 = IRIS_NN(input_size, num_hidden_neuron, output_size)\n",
        "if torch.cuda.is_available():\n",
        "  model_iid1.cuda()\n",
        "\n",
        "model_iid_trained1 = training(model=model_iid1, num_rounds=rounds, batch_size=batch_size, num_classes=num_classes, learning_rate=lr, dataset=dataset_train, data_dict=iid_dict, active_client_fraction=C, num_clients=K, num_epochs=E, criterion=criterion, isClassification=True, weight_mode=weight_mode1, validate_on=val_mode1, plt_title=\"on IID Dataset\", plt_color=\"orange\")"
      ],
      "metadata": {
        "colab": {
          "base_uri": "https://localhost:8080/",
          "height": 489
        },
        "id": "bWfPEpjROztA",
        "outputId": "bff53182-2c00-48df-b474-c91854b41d57"
      },
      "execution_count": null,
      "outputs": [
        {
          "output_type": "stream",
          "name": "stdout",
          "text": [
            "------------------------Training Mode Summary----------------------------\n",
            "---> Weight mode: FedAvg.\n",
            "---> Validation mode: No validation for FedAvg.\n",
            "---> Task type: Classification\n",
            "-------------------------------------------------------------------------\n"
          ]
        },
        {
          "output_type": "error",
          "ename": "KeyboardInterrupt",
          "evalue": "ignored",
          "traceback": [
            "\u001b[0;31m---------------------------------------------------------------------------\u001b[0m",
            "\u001b[0;31mKeyboardInterrupt\u001b[0m                         Traceback (most recent call last)",
            "\u001b[0;32m<ipython-input-36-634bd415fe3c>\u001b[0m in \u001b[0;36m<module>\u001b[0;34m()\u001b[0m\n\u001b[1;32m      3\u001b[0m   \u001b[0mmodel_iid1\u001b[0m\u001b[0;34m.\u001b[0m\u001b[0mcuda\u001b[0m\u001b[0;34m(\u001b[0m\u001b[0;34m)\u001b[0m\u001b[0;34m\u001b[0m\u001b[0;34m\u001b[0m\u001b[0m\n\u001b[1;32m      4\u001b[0m \u001b[0;34m\u001b[0m\u001b[0m\n\u001b[0;32m----> 5\u001b[0;31m \u001b[0mmodel_iid_trained1\u001b[0m \u001b[0;34m=\u001b[0m \u001b[0mtraining\u001b[0m\u001b[0;34m(\u001b[0m\u001b[0mmodel\u001b[0m\u001b[0;34m=\u001b[0m\u001b[0mmodel_iid1\u001b[0m\u001b[0;34m,\u001b[0m \u001b[0mnum_rounds\u001b[0m\u001b[0;34m=\u001b[0m\u001b[0mrounds\u001b[0m\u001b[0;34m,\u001b[0m \u001b[0mbatch_size\u001b[0m\u001b[0;34m=\u001b[0m\u001b[0mbatch_size\u001b[0m\u001b[0;34m,\u001b[0m \u001b[0mnum_classes\u001b[0m\u001b[0;34m=\u001b[0m\u001b[0mnum_classes\u001b[0m\u001b[0;34m,\u001b[0m \u001b[0mlearning_rate\u001b[0m\u001b[0;34m=\u001b[0m\u001b[0mlr\u001b[0m\u001b[0;34m,\u001b[0m \u001b[0mdataset\u001b[0m\u001b[0;34m=\u001b[0m\u001b[0mdataset_train\u001b[0m\u001b[0;34m,\u001b[0m \u001b[0mdata_dict\u001b[0m\u001b[0;34m=\u001b[0m\u001b[0miid_dict\u001b[0m\u001b[0;34m,\u001b[0m \u001b[0mactive_client_fraction\u001b[0m\u001b[0;34m=\u001b[0m\u001b[0mC\u001b[0m\u001b[0;34m,\u001b[0m \u001b[0mnum_clients\u001b[0m\u001b[0;34m=\u001b[0m\u001b[0mK\u001b[0m\u001b[0;34m,\u001b[0m \u001b[0mnum_epochs\u001b[0m\u001b[0;34m=\u001b[0m\u001b[0mE\u001b[0m\u001b[0;34m,\u001b[0m \u001b[0mcriterion\u001b[0m\u001b[0;34m=\u001b[0m\u001b[0mcriterion\u001b[0m\u001b[0;34m,\u001b[0m \u001b[0misClassification\u001b[0m\u001b[0;34m=\u001b[0m\u001b[0;32mTrue\u001b[0m\u001b[0;34m,\u001b[0m \u001b[0mweight_mode\u001b[0m\u001b[0;34m=\u001b[0m\u001b[0mweight_mode1\u001b[0m\u001b[0;34m,\u001b[0m \u001b[0mvalidate_on\u001b[0m\u001b[0;34m=\u001b[0m\u001b[0mval_mode1\u001b[0m\u001b[0;34m,\u001b[0m \u001b[0mplt_title\u001b[0m\u001b[0;34m=\u001b[0m\u001b[0;34m\"on IID Dataset\"\u001b[0m\u001b[0;34m,\u001b[0m \u001b[0mplt_color\u001b[0m\u001b[0;34m=\u001b[0m\u001b[0;34m\"orange\"\u001b[0m\u001b[0;34m)\u001b[0m\u001b[0;34m\u001b[0m\u001b[0;34m\u001b[0m\u001b[0m\n\u001b[0m",
            "\u001b[0;32m<ipython-input-27-8fe4df3436cf>\u001b[0m in \u001b[0;36mtraining\u001b[0;34m(model, num_rounds, batch_size, num_classes, learning_rate, dataset, data_dict, active_client_fraction, num_clients, num_epochs, criterion, weight_mode, validate_on, plt_title, isClassification, plt_color, verbose)\u001b[0m\n\u001b[1;32m     73\u001b[0m     \u001b[0;32mfor\u001b[0m \u001b[0mk\u001b[0m \u001b[0;32min\u001b[0m \u001b[0mactive_clients\u001b[0m\u001b[0;34m:\u001b[0m\u001b[0;34m\u001b[0m\u001b[0;34m\u001b[0m\u001b[0m\n\u001b[1;32m     74\u001b[0m       \u001b[0mlocal_update\u001b[0m \u001b[0;34m=\u001b[0m \u001b[0mClientUpdate\u001b[0m\u001b[0;34m(\u001b[0m\u001b[0mdataset\u001b[0m\u001b[0;34m=\u001b[0m\u001b[0mdataset\u001b[0m\u001b[0;34m,\u001b[0m \u001b[0mbatchSize\u001b[0m\u001b[0;34m=\u001b[0m\u001b[0mbatch_size\u001b[0m\u001b[0;34m,\u001b[0m \u001b[0mlearning_rate\u001b[0m\u001b[0;34m=\u001b[0m\u001b[0mlearning_rate\u001b[0m\u001b[0;34m,\u001b[0m \u001b[0mepochs\u001b[0m\u001b[0;34m=\u001b[0m\u001b[0mnum_epochs\u001b[0m\u001b[0;34m,\u001b[0m \u001b[0mclient_set\u001b[0m\u001b[0;34m=\u001b[0m\u001b[0mdata_dict\u001b[0m\u001b[0;34m[\u001b[0m\u001b[0mk\u001b[0m\u001b[0;34m]\u001b[0m\u001b[0;34m,\u001b[0m \u001b[0mcriterion\u001b[0m\u001b[0;34m=\u001b[0m\u001b[0mcriterion\u001b[0m\u001b[0;34m,\u001b[0m \u001b[0mnum_classes\u001b[0m\u001b[0;34m=\u001b[0m\u001b[0mnum_classes\u001b[0m\u001b[0;34m,\u001b[0m\u001b[0misClassification\u001b[0m\u001b[0;34m=\u001b[0m\u001b[0misClassification\u001b[0m\u001b[0;34m)\u001b[0m \u001b[0;31m# initialize the local update object\u001b[0m\u001b[0;34m\u001b[0m\u001b[0;34m\u001b[0m\u001b[0m\n\u001b[0;32m---> 75\u001b[0;31m       \u001b[0mweights\u001b[0m\u001b[0;34m,\u001b[0m \u001b[0mloss\u001b[0m\u001b[0;34m,\u001b[0m \u001b[0mlocal_val_loss\u001b[0m\u001b[0;34m,\u001b[0m \u001b[0mlocal_val_accuracy\u001b[0m\u001b[0;34m,\u001b[0m \u001b[0mlocal_val_accuracy_str\u001b[0m \u001b[0;34m=\u001b[0m \u001b[0mlocal_update\u001b[0m\u001b[0;34m.\u001b[0m\u001b[0mtrain\u001b[0m\u001b[0;34m(\u001b[0m\u001b[0mmodel\u001b[0m\u001b[0;34m=\u001b[0m\u001b[0mcopy\u001b[0m\u001b[0;34m.\u001b[0m\u001b[0mdeepcopy\u001b[0m\u001b[0;34m(\u001b[0m\u001b[0mmodel\u001b[0m\u001b[0;34m)\u001b[0m\u001b[0;34m)\u001b[0m\u001b[0;34m\u001b[0m\u001b[0;34m\u001b[0m\u001b[0m\n\u001b[0m\u001b[1;32m     76\u001b[0m \u001b[0;34m\u001b[0m\u001b[0m\n\u001b[1;32m     77\u001b[0m       \u001b[0mval_loss\u001b[0m\u001b[0;34m.\u001b[0m\u001b[0mappend\u001b[0m\u001b[0;34m(\u001b[0m\u001b[0mlocal_val_loss\u001b[0m\u001b[0;34m)\u001b[0m\u001b[0;34m\u001b[0m\u001b[0;34m\u001b[0m\u001b[0m\n",
            "\u001b[0;32m<ipython-input-20-ef5a3b49d963>\u001b[0m in \u001b[0;36mtrain\u001b[0;34m(self, model)\u001b[0m\n\u001b[1;32m     50\u001b[0m \u001b[0;34m\u001b[0m\u001b[0m\n\u001b[1;32m     51\u001b[0m       \u001b[0mmodel\u001b[0m\u001b[0;34m.\u001b[0m\u001b[0mtrain\u001b[0m\u001b[0;34m(\u001b[0m\u001b[0;34m)\u001b[0m\u001b[0;34m\u001b[0m\u001b[0;34m\u001b[0m\u001b[0m\n\u001b[0;32m---> 52\u001b[0;31m       \u001b[0;32mfor\u001b[0m \u001b[0mdata\u001b[0m\u001b[0;34m,\u001b[0m \u001b[0mlabels\u001b[0m \u001b[0;32min\u001b[0m \u001b[0mself\u001b[0m\u001b[0;34m.\u001b[0m\u001b[0mtrain_loader\u001b[0m\u001b[0;34m:\u001b[0m\u001b[0;34m\u001b[0m\u001b[0;34m\u001b[0m\u001b[0m\n\u001b[0m\u001b[1;32m     53\u001b[0m \u001b[0;34m\u001b[0m\u001b[0m\n\u001b[1;32m     54\u001b[0m         \u001b[0;32mif\u001b[0m \u001b[0mtorch\u001b[0m\u001b[0;34m.\u001b[0m\u001b[0mcuda\u001b[0m\u001b[0;34m.\u001b[0m\u001b[0mis_available\u001b[0m\u001b[0;34m(\u001b[0m\u001b[0;34m)\u001b[0m\u001b[0;34m:\u001b[0m\u001b[0;34m\u001b[0m\u001b[0;34m\u001b[0m\u001b[0m\n",
            "\u001b[0;32m/usr/local/lib/python3.7/dist-packages/torch/utils/data/dataloader.py\u001b[0m in \u001b[0;36m__next__\u001b[0;34m(self)\u001b[0m\n\u001b[1;32m    528\u001b[0m             \u001b[0;32mif\u001b[0m \u001b[0mself\u001b[0m\u001b[0;34m.\u001b[0m\u001b[0m_sampler_iter\u001b[0m \u001b[0;32mis\u001b[0m \u001b[0;32mNone\u001b[0m\u001b[0;34m:\u001b[0m\u001b[0;34m\u001b[0m\u001b[0;34m\u001b[0m\u001b[0m\n\u001b[1;32m    529\u001b[0m                 \u001b[0mself\u001b[0m\u001b[0;34m.\u001b[0m\u001b[0m_reset\u001b[0m\u001b[0;34m(\u001b[0m\u001b[0;34m)\u001b[0m\u001b[0;34m\u001b[0m\u001b[0;34m\u001b[0m\u001b[0m\n\u001b[0;32m--> 530\u001b[0;31m             \u001b[0mdata\u001b[0m \u001b[0;34m=\u001b[0m \u001b[0mself\u001b[0m\u001b[0;34m.\u001b[0m\u001b[0m_next_data\u001b[0m\u001b[0;34m(\u001b[0m\u001b[0;34m)\u001b[0m\u001b[0;34m\u001b[0m\u001b[0;34m\u001b[0m\u001b[0m\n\u001b[0m\u001b[1;32m    531\u001b[0m             \u001b[0mself\u001b[0m\u001b[0;34m.\u001b[0m\u001b[0m_num_yielded\u001b[0m \u001b[0;34m+=\u001b[0m \u001b[0;36m1\u001b[0m\u001b[0;34m\u001b[0m\u001b[0;34m\u001b[0m\u001b[0m\n\u001b[1;32m    532\u001b[0m             \u001b[0;32mif\u001b[0m \u001b[0mself\u001b[0m\u001b[0;34m.\u001b[0m\u001b[0m_dataset_kind\u001b[0m \u001b[0;34m==\u001b[0m \u001b[0m_DatasetKind\u001b[0m\u001b[0;34m.\u001b[0m\u001b[0mIterable\u001b[0m \u001b[0;32mand\u001b[0m\u001b[0;31m \u001b[0m\u001b[0;31m\\\u001b[0m\u001b[0;34m\u001b[0m\u001b[0;34m\u001b[0m\u001b[0m\n",
            "\u001b[0;32m/usr/local/lib/python3.7/dist-packages/torch/utils/data/dataloader.py\u001b[0m in \u001b[0;36m_next_data\u001b[0;34m(self)\u001b[0m\n\u001b[1;32m    568\u001b[0m     \u001b[0;32mdef\u001b[0m \u001b[0m_next_data\u001b[0m\u001b[0;34m(\u001b[0m\u001b[0mself\u001b[0m\u001b[0;34m)\u001b[0m\u001b[0;34m:\u001b[0m\u001b[0;34m\u001b[0m\u001b[0;34m\u001b[0m\u001b[0m\n\u001b[1;32m    569\u001b[0m         \u001b[0mindex\u001b[0m \u001b[0;34m=\u001b[0m \u001b[0mself\u001b[0m\u001b[0;34m.\u001b[0m\u001b[0m_next_index\u001b[0m\u001b[0;34m(\u001b[0m\u001b[0;34m)\u001b[0m  \u001b[0;31m# may raise StopIteration\u001b[0m\u001b[0;34m\u001b[0m\u001b[0;34m\u001b[0m\u001b[0m\n\u001b[0;32m--> 570\u001b[0;31m         \u001b[0mdata\u001b[0m \u001b[0;34m=\u001b[0m \u001b[0mself\u001b[0m\u001b[0;34m.\u001b[0m\u001b[0m_dataset_fetcher\u001b[0m\u001b[0;34m.\u001b[0m\u001b[0mfetch\u001b[0m\u001b[0;34m(\u001b[0m\u001b[0mindex\u001b[0m\u001b[0;34m)\u001b[0m  \u001b[0;31m# may raise StopIteration\u001b[0m\u001b[0;34m\u001b[0m\u001b[0;34m\u001b[0m\u001b[0m\n\u001b[0m\u001b[1;32m    571\u001b[0m         \u001b[0;32mif\u001b[0m \u001b[0mself\u001b[0m\u001b[0;34m.\u001b[0m\u001b[0m_pin_memory\u001b[0m\u001b[0;34m:\u001b[0m\u001b[0;34m\u001b[0m\u001b[0;34m\u001b[0m\u001b[0m\n\u001b[1;32m    572\u001b[0m             \u001b[0mdata\u001b[0m \u001b[0;34m=\u001b[0m \u001b[0m_utils\u001b[0m\u001b[0;34m.\u001b[0m\u001b[0mpin_memory\u001b[0m\u001b[0;34m.\u001b[0m\u001b[0mpin_memory\u001b[0m\u001b[0;34m(\u001b[0m\u001b[0mdata\u001b[0m\u001b[0;34m)\u001b[0m\u001b[0;34m\u001b[0m\u001b[0;34m\u001b[0m\u001b[0m\n",
            "\u001b[0;32m/usr/local/lib/python3.7/dist-packages/torch/utils/data/_utils/fetch.py\u001b[0m in \u001b[0;36mfetch\u001b[0;34m(self, possibly_batched_index)\u001b[0m\n\u001b[1;32m     47\u001b[0m     \u001b[0;32mdef\u001b[0m \u001b[0mfetch\u001b[0m\u001b[0;34m(\u001b[0m\u001b[0mself\u001b[0m\u001b[0;34m,\u001b[0m \u001b[0mpossibly_batched_index\u001b[0m\u001b[0;34m)\u001b[0m\u001b[0;34m:\u001b[0m\u001b[0;34m\u001b[0m\u001b[0;34m\u001b[0m\u001b[0m\n\u001b[1;32m     48\u001b[0m         \u001b[0;32mif\u001b[0m \u001b[0mself\u001b[0m\u001b[0;34m.\u001b[0m\u001b[0mauto_collation\u001b[0m\u001b[0;34m:\u001b[0m\u001b[0;34m\u001b[0m\u001b[0;34m\u001b[0m\u001b[0m\n\u001b[0;32m---> 49\u001b[0;31m             \u001b[0mdata\u001b[0m \u001b[0;34m=\u001b[0m \u001b[0;34m[\u001b[0m\u001b[0mself\u001b[0m\u001b[0;34m.\u001b[0m\u001b[0mdataset\u001b[0m\u001b[0;34m[\u001b[0m\u001b[0midx\u001b[0m\u001b[0;34m]\u001b[0m \u001b[0;32mfor\u001b[0m \u001b[0midx\u001b[0m \u001b[0;32min\u001b[0m \u001b[0mpossibly_batched_index\u001b[0m\u001b[0;34m]\u001b[0m\u001b[0;34m\u001b[0m\u001b[0;34m\u001b[0m\u001b[0m\n\u001b[0m\u001b[1;32m     50\u001b[0m         \u001b[0;32melse\u001b[0m\u001b[0;34m:\u001b[0m\u001b[0;34m\u001b[0m\u001b[0;34m\u001b[0m\u001b[0m\n\u001b[1;32m     51\u001b[0m             \u001b[0mdata\u001b[0m \u001b[0;34m=\u001b[0m \u001b[0mself\u001b[0m\u001b[0;34m.\u001b[0m\u001b[0mdataset\u001b[0m\u001b[0;34m[\u001b[0m\u001b[0mpossibly_batched_index\u001b[0m\u001b[0;34m]\u001b[0m\u001b[0;34m\u001b[0m\u001b[0;34m\u001b[0m\u001b[0m\n",
            "\u001b[0;32m/usr/local/lib/python3.7/dist-packages/torch/utils/data/_utils/fetch.py\u001b[0m in \u001b[0;36m<listcomp>\u001b[0;34m(.0)\u001b[0m\n\u001b[1;32m     47\u001b[0m     \u001b[0;32mdef\u001b[0m \u001b[0mfetch\u001b[0m\u001b[0;34m(\u001b[0m\u001b[0mself\u001b[0m\u001b[0;34m,\u001b[0m \u001b[0mpossibly_batched_index\u001b[0m\u001b[0;34m)\u001b[0m\u001b[0;34m:\u001b[0m\u001b[0;34m\u001b[0m\u001b[0;34m\u001b[0m\u001b[0m\n\u001b[1;32m     48\u001b[0m         \u001b[0;32mif\u001b[0m \u001b[0mself\u001b[0m\u001b[0;34m.\u001b[0m\u001b[0mauto_collation\u001b[0m\u001b[0;34m:\u001b[0m\u001b[0;34m\u001b[0m\u001b[0;34m\u001b[0m\u001b[0m\n\u001b[0;32m---> 49\u001b[0;31m             \u001b[0mdata\u001b[0m \u001b[0;34m=\u001b[0m \u001b[0;34m[\u001b[0m\u001b[0mself\u001b[0m\u001b[0;34m.\u001b[0m\u001b[0mdataset\u001b[0m\u001b[0;34m[\u001b[0m\u001b[0midx\u001b[0m\u001b[0;34m]\u001b[0m \u001b[0;32mfor\u001b[0m \u001b[0midx\u001b[0m \u001b[0;32min\u001b[0m \u001b[0mpossibly_batched_index\u001b[0m\u001b[0;34m]\u001b[0m\u001b[0;34m\u001b[0m\u001b[0;34m\u001b[0m\u001b[0m\n\u001b[0m\u001b[1;32m     50\u001b[0m         \u001b[0;32melse\u001b[0m\u001b[0;34m:\u001b[0m\u001b[0;34m\u001b[0m\u001b[0;34m\u001b[0m\u001b[0m\n\u001b[1;32m     51\u001b[0m             \u001b[0mdata\u001b[0m \u001b[0;34m=\u001b[0m \u001b[0mself\u001b[0m\u001b[0;34m.\u001b[0m\u001b[0mdataset\u001b[0m\u001b[0;34m[\u001b[0m\u001b[0mpossibly_batched_index\u001b[0m\u001b[0;34m]\u001b[0m\u001b[0;34m\u001b[0m\u001b[0;34m\u001b[0m\u001b[0m\n",
            "\u001b[0;32m<ipython-input-20-ef5a3b49d963>\u001b[0m in \u001b[0;36m__getitem__\u001b[0;34m(self, item)\u001b[0m\n\u001b[1;32m      9\u001b[0m \u001b[0;34m\u001b[0m\u001b[0m\n\u001b[1;32m     10\u001b[0m   \u001b[0;32mdef\u001b[0m \u001b[0m__getitem__\u001b[0m\u001b[0;34m(\u001b[0m\u001b[0mself\u001b[0m\u001b[0;34m,\u001b[0m \u001b[0mitem\u001b[0m\u001b[0;34m)\u001b[0m\u001b[0;34m:\u001b[0m\u001b[0;34m\u001b[0m\u001b[0;34m\u001b[0m\u001b[0m\n\u001b[0;32m---> 11\u001b[0;31m       \u001b[0mfeature\u001b[0m\u001b[0;34m,\u001b[0m \u001b[0mlabel\u001b[0m \u001b[0;34m=\u001b[0m \u001b[0mself\u001b[0m\u001b[0;34m.\u001b[0m\u001b[0mdataset\u001b[0m\u001b[0;34m[\u001b[0m\u001b[0mself\u001b[0m\u001b[0;34m.\u001b[0m\u001b[0midxs\u001b[0m\u001b[0;34m[\u001b[0m\u001b[0mitem\u001b[0m\u001b[0;34m]\u001b[0m\u001b[0;34m]\u001b[0m\u001b[0;34m\u001b[0m\u001b[0;34m\u001b[0m\u001b[0m\n\u001b[0m\u001b[1;32m     12\u001b[0m       \u001b[0;32mreturn\u001b[0m \u001b[0mfeature\u001b[0m\u001b[0;34m,\u001b[0m \u001b[0mlabel\u001b[0m\u001b[0;34m\u001b[0m\u001b[0;34m\u001b[0m\u001b[0m\n\u001b[1;32m     13\u001b[0m \u001b[0;34m\u001b[0m\u001b[0m\n",
            "\u001b[0;32m/usr/local/lib/python3.7/dist-packages/torchvision/datasets/mnist.py\u001b[0m in \u001b[0;36m__getitem__\u001b[0;34m(self, index)\u001b[0m\n\u001b[1;32m    140\u001b[0m         \u001b[0;31m# doing this so that it is consistent with all other datasets\u001b[0m\u001b[0;34m\u001b[0m\u001b[0;34m\u001b[0m\u001b[0;34m\u001b[0m\u001b[0m\n\u001b[1;32m    141\u001b[0m         \u001b[0;31m# to return a PIL Image\u001b[0m\u001b[0;34m\u001b[0m\u001b[0;34m\u001b[0m\u001b[0;34m\u001b[0m\u001b[0m\n\u001b[0;32m--> 142\u001b[0;31m         \u001b[0mimg\u001b[0m \u001b[0;34m=\u001b[0m \u001b[0mImage\u001b[0m\u001b[0;34m.\u001b[0m\u001b[0mfromarray\u001b[0m\u001b[0;34m(\u001b[0m\u001b[0mimg\u001b[0m\u001b[0;34m.\u001b[0m\u001b[0mnumpy\u001b[0m\u001b[0;34m(\u001b[0m\u001b[0;34m)\u001b[0m\u001b[0;34m,\u001b[0m \u001b[0mmode\u001b[0m\u001b[0;34m=\u001b[0m\u001b[0;34m\"L\"\u001b[0m\u001b[0;34m)\u001b[0m\u001b[0;34m\u001b[0m\u001b[0;34m\u001b[0m\u001b[0m\n\u001b[0m\u001b[1;32m    143\u001b[0m \u001b[0;34m\u001b[0m\u001b[0m\n\u001b[1;32m    144\u001b[0m         \u001b[0;32mif\u001b[0m \u001b[0mself\u001b[0m\u001b[0;34m.\u001b[0m\u001b[0mtransform\u001b[0m \u001b[0;32mis\u001b[0m \u001b[0;32mnot\u001b[0m \u001b[0;32mNone\u001b[0m\u001b[0;34m:\u001b[0m\u001b[0;34m\u001b[0m\u001b[0;34m\u001b[0m\u001b[0m\n",
            "\u001b[0;32m/usr/local/lib/python3.7/dist-packages/PIL/Image.py\u001b[0m in \u001b[0;36mfromarray\u001b[0;34m(obj, mode)\u001b[0m\n\u001b[1;32m   2733\u001b[0m             \u001b[0mobj\u001b[0m \u001b[0;34m=\u001b[0m \u001b[0mobj\u001b[0m\u001b[0;34m.\u001b[0m\u001b[0mtostring\u001b[0m\u001b[0;34m(\u001b[0m\u001b[0;34m)\u001b[0m\u001b[0;34m\u001b[0m\u001b[0;34m\u001b[0m\u001b[0m\n\u001b[1;32m   2734\u001b[0m \u001b[0;34m\u001b[0m\u001b[0m\n\u001b[0;32m-> 2735\u001b[0;31m     \u001b[0;32mreturn\u001b[0m \u001b[0mfrombuffer\u001b[0m\u001b[0;34m(\u001b[0m\u001b[0mmode\u001b[0m\u001b[0;34m,\u001b[0m \u001b[0msize\u001b[0m\u001b[0;34m,\u001b[0m \u001b[0mobj\u001b[0m\u001b[0;34m,\u001b[0m \u001b[0;34m\"raw\"\u001b[0m\u001b[0;34m,\u001b[0m \u001b[0mrawmode\u001b[0m\u001b[0;34m,\u001b[0m \u001b[0;36m0\u001b[0m\u001b[0;34m,\u001b[0m \u001b[0;36m1\u001b[0m\u001b[0;34m)\u001b[0m\u001b[0;34m\u001b[0m\u001b[0;34m\u001b[0m\u001b[0m\n\u001b[0m\u001b[1;32m   2736\u001b[0m \u001b[0;34m\u001b[0m\u001b[0m\n\u001b[1;32m   2737\u001b[0m \u001b[0;34m\u001b[0m\u001b[0m\n",
            "\u001b[0;32m/usr/local/lib/python3.7/dist-packages/PIL/Image.py\u001b[0m in \u001b[0;36mfrombuffer\u001b[0;34m(mode, size, data, decoder_name, *args)\u001b[0m\n\u001b[1;32m   2668\u001b[0m             \u001b[0margs\u001b[0m \u001b[0;34m=\u001b[0m \u001b[0mmode\u001b[0m\u001b[0;34m,\u001b[0m \u001b[0;36m0\u001b[0m\u001b[0;34m,\u001b[0m \u001b[0;36m1\u001b[0m\u001b[0;34m\u001b[0m\u001b[0;34m\u001b[0m\u001b[0m\n\u001b[1;32m   2669\u001b[0m         \u001b[0;32mif\u001b[0m \u001b[0margs\u001b[0m\u001b[0;34m[\u001b[0m\u001b[0;36m0\u001b[0m\u001b[0;34m]\u001b[0m \u001b[0;32min\u001b[0m \u001b[0m_MAPMODES\u001b[0m\u001b[0;34m:\u001b[0m\u001b[0;34m\u001b[0m\u001b[0;34m\u001b[0m\u001b[0m\n\u001b[0;32m-> 2670\u001b[0;31m             \u001b[0mim\u001b[0m \u001b[0;34m=\u001b[0m \u001b[0mnew\u001b[0m\u001b[0;34m(\u001b[0m\u001b[0mmode\u001b[0m\u001b[0;34m,\u001b[0m \u001b[0;34m(\u001b[0m\u001b[0;36m1\u001b[0m\u001b[0;34m,\u001b[0m \u001b[0;36m1\u001b[0m\u001b[0;34m)\u001b[0m\u001b[0;34m)\u001b[0m\u001b[0;34m\u001b[0m\u001b[0;34m\u001b[0m\u001b[0m\n\u001b[0m\u001b[1;32m   2671\u001b[0m             \u001b[0mim\u001b[0m \u001b[0;34m=\u001b[0m \u001b[0mim\u001b[0m\u001b[0;34m.\u001b[0m\u001b[0m_new\u001b[0m\u001b[0;34m(\u001b[0m\u001b[0mcore\u001b[0m\u001b[0;34m.\u001b[0m\u001b[0mmap_buffer\u001b[0m\u001b[0;34m(\u001b[0m\u001b[0mdata\u001b[0m\u001b[0;34m,\u001b[0m \u001b[0msize\u001b[0m\u001b[0;34m,\u001b[0m \u001b[0mdecoder_name\u001b[0m\u001b[0;34m,\u001b[0m \u001b[0;36m0\u001b[0m\u001b[0;34m,\u001b[0m \u001b[0margs\u001b[0m\u001b[0;34m)\u001b[0m\u001b[0;34m)\u001b[0m\u001b[0;34m\u001b[0m\u001b[0;34m\u001b[0m\u001b[0m\n\u001b[1;32m   2672\u001b[0m             \u001b[0mim\u001b[0m\u001b[0;34m.\u001b[0m\u001b[0mreadonly\u001b[0m \u001b[0;34m=\u001b[0m \u001b[0;36m1\u001b[0m\u001b[0;34m\u001b[0m\u001b[0;34m\u001b[0m\u001b[0m\n",
            "\u001b[0;32m/usr/local/lib/python3.7/dist-packages/PIL/Image.py\u001b[0m in \u001b[0;36mnew\u001b[0;34m(mode, size, color)\u001b[0m\n\u001b[1;32m   2556\u001b[0m     \"\"\"\n\u001b[1;32m   2557\u001b[0m \u001b[0;34m\u001b[0m\u001b[0m\n\u001b[0;32m-> 2558\u001b[0;31m     \u001b[0m_check_size\u001b[0m\u001b[0;34m(\u001b[0m\u001b[0msize\u001b[0m\u001b[0;34m)\u001b[0m\u001b[0;34m\u001b[0m\u001b[0;34m\u001b[0m\u001b[0m\n\u001b[0m\u001b[1;32m   2559\u001b[0m \u001b[0;34m\u001b[0m\u001b[0m\n\u001b[1;32m   2560\u001b[0m     \u001b[0;32mif\u001b[0m \u001b[0mcolor\u001b[0m \u001b[0;32mis\u001b[0m \u001b[0;32mNone\u001b[0m\u001b[0;34m:\u001b[0m\u001b[0;34m\u001b[0m\u001b[0;34m\u001b[0m\u001b[0m\n",
            "\u001b[0;32m/usr/local/lib/python3.7/dist-packages/PIL/Image.py\u001b[0m in \u001b[0;36m_check_size\u001b[0;34m(size)\u001b[0m\n\u001b[1;32m   2532\u001b[0m     \u001b[0;32mif\u001b[0m \u001b[0;32mnot\u001b[0m \u001b[0misinstance\u001b[0m\u001b[0;34m(\u001b[0m\u001b[0msize\u001b[0m\u001b[0;34m,\u001b[0m \u001b[0;34m(\u001b[0m\u001b[0mlist\u001b[0m\u001b[0;34m,\u001b[0m \u001b[0mtuple\u001b[0m\u001b[0;34m)\u001b[0m\u001b[0;34m)\u001b[0m\u001b[0;34m:\u001b[0m\u001b[0;34m\u001b[0m\u001b[0;34m\u001b[0m\u001b[0m\n\u001b[1;32m   2533\u001b[0m         \u001b[0;32mraise\u001b[0m \u001b[0mValueError\u001b[0m\u001b[0;34m(\u001b[0m\u001b[0;34m\"Size must be a tuple\"\u001b[0m\u001b[0;34m)\u001b[0m\u001b[0;34m\u001b[0m\u001b[0;34m\u001b[0m\u001b[0m\n\u001b[0;32m-> 2534\u001b[0;31m     \u001b[0;32mif\u001b[0m \u001b[0mlen\u001b[0m\u001b[0;34m(\u001b[0m\u001b[0msize\u001b[0m\u001b[0;34m)\u001b[0m \u001b[0;34m!=\u001b[0m \u001b[0;36m2\u001b[0m\u001b[0;34m:\u001b[0m\u001b[0;34m\u001b[0m\u001b[0;34m\u001b[0m\u001b[0m\n\u001b[0m\u001b[1;32m   2535\u001b[0m         \u001b[0;32mraise\u001b[0m \u001b[0mValueError\u001b[0m\u001b[0;34m(\u001b[0m\u001b[0;34m\"Size must be a tuple of length 2\"\u001b[0m\u001b[0;34m)\u001b[0m\u001b[0;34m\u001b[0m\u001b[0;34m\u001b[0m\u001b[0m\n\u001b[1;32m   2536\u001b[0m     \u001b[0;32mif\u001b[0m \u001b[0msize\u001b[0m\u001b[0;34m[\u001b[0m\u001b[0;36m0\u001b[0m\u001b[0;34m]\u001b[0m \u001b[0;34m<\u001b[0m \u001b[0;36m0\u001b[0m \u001b[0;32mor\u001b[0m \u001b[0msize\u001b[0m\u001b[0;34m[\u001b[0m\u001b[0;36m1\u001b[0m\u001b[0;34m]\u001b[0m \u001b[0;34m<\u001b[0m \u001b[0;36m0\u001b[0m\u001b[0;34m:\u001b[0m\u001b[0;34m\u001b[0m\u001b[0;34m\u001b[0m\u001b[0m\n",
            "\u001b[0;31mKeyboardInterrupt\u001b[0m: "
          ]
        }
      ]
    },
    {
      "cell_type": "code",
      "source": [
        "testing(model=model_iid_trained1, dataset=dataset_test, bs=batch_size, criterion=criterion, num_classes=num_classes, classes=classes_test, report_accuracy=True)"
      ],
      "metadata": {
        "id": "D94gy9dfPtTf"
      },
      "execution_count": null,
      "outputs": []
    },
    {
      "cell_type": "markdown",
      "source": [
        "### Experiment 2: \n",
        "without noise, with adjustment, validating on loss"
      ],
      "metadata": {
        "id": "ye27Va5fNouU"
      }
    },
    {
      "cell_type": "code",
      "execution_count": null,
      "metadata": {
        "id": "wZzpnCbNvH8w"
      },
      "outputs": [],
      "source": [
        "model_iid2 = IRIS_NN(input_size, num_hidden_neuron, output_size)\n",
        "if torch.cuda.is_available():\n",
        "  model_iid2.cuda()\n",
        "\n",
        "model_iid_trained2 = training(model=model_iid2, num_rounds=rounds, batch_size=batch_size, num_classes=num_classes, learning_rate=lr, dataset=dataset_train, data_dict=iid_dict, active_client_fraction=C, num_clients=K, num_epochs=E, criterion=criterion, isClassification=True, weight_mode=weight_mode2, validate_on=val_mode2, plt_title=\"on IID Dataset\", plt_color=\"orange\")"
      ]
    },
    {
      "cell_type": "code",
      "execution_count": null,
      "metadata": {
        "id": "Chbf7e27EPgF"
      },
      "outputs": [],
      "source": [
        "testing(model=model_iid_trained2, dataset=dataset_test, bs=batch_size, criterion=criterion, num_classes=num_classes, classes=classes_test, report_accuracy=True)"
      ]
    },
    {
      "cell_type": "markdown",
      "source": [
        "### Experiment 3\n",
        "without noise, with adjustment, validating on accuracy"
      ],
      "metadata": {
        "id": "IRIRZet1PYBD"
      }
    },
    {
      "cell_type": "code",
      "source": [
        "model_iid3 = IRIS_NN(input_size, num_hidden_neuron, output_size)\n",
        "if torch.cuda.is_available():\n",
        "  model_iid3.cuda()\n",
        "\n",
        "model_iid_trained3 = training(model=model_iid3, num_rounds=rounds, batch_size=batch_size, num_classes=num_classes, learning_rate=lr, dataset=dataset_train, data_dict=iid_dict, active_client_fraction=C, num_clients=K, num_epochs=E, criterion=criterion, isClassification=True, weight_mode=weight_mode3, validate_on=val_mode3, plt_title=\"on IID Dataset\", plt_color=\"orange\")"
      ],
      "metadata": {
        "id": "PHbNDVnvPXUG"
      },
      "execution_count": null,
      "outputs": []
    },
    {
      "cell_type": "code",
      "source": [
        "testing(model=model_iid_trained3, dataset=dataset_test, bs=batch_size, criterion=criterion, num_classes=num_classes, classes=classes_test, report_accuracy=True)"
      ],
      "metadata": {
        "id": "a3FA4913Pw5P"
      },
      "execution_count": null,
      "outputs": []
    },
    {
      "cell_type": "markdown",
      "source": [
        "### Add noise to client 0"
      ],
      "metadata": {
        "id": "DTkQBQdhP6J0"
      }
    },
    {
      "cell_type": "code",
      "source": [
        "mean=0\n",
        "std=50\n",
        "add_gaussian_noise(dataset=dataset_train, client_dict=client_dict, client=0, mean=mean, std=std)\n",
        "print(f\"Gaussian noise with mean {mean} and standard deviation {std} is added to client 0\")\n",
        "seeClientData(dataset=dataset_train, client_dict=iid_dict, client=0)"
      ],
      "metadata": {
        "colab": {
          "base_uri": "https://localhost:8080/"
        },
        "id": "8SI92dijOlsN",
        "outputId": "b13686e3-ca20-4ba5-e625-a10d2b77367c"
      },
      "execution_count": null,
      "outputs": [
        {
          "output_type": "stream",
          "name": "stdout",
          "text": [
            "-> Training set size of client 0: 16000\n",
            "-> Training data of client 0: tensor([[[[-0.4242, -0.4242, -0.4242,  ..., -0.4242, -0.4242, -0.4242],\n",
            "          [-0.4242, -0.4242, -0.4242,  ..., -0.4242, -0.4242, -0.4242],\n",
            "          [-0.4242, -0.4242, -0.4242,  ..., -0.4242, -0.4242, -0.4242],\n",
            "          ...,\n",
            "          [-0.4242, -0.4242, -0.4242,  ..., -0.4242, -0.4242, -0.4242],\n",
            "          [-0.4242, -0.4242, -0.4242,  ..., -0.4242, -0.4242, -0.4242],\n",
            "          [-0.4242, -0.4242, -0.4242,  ..., -0.4242, -0.4242, -0.4242]]],\n",
            "\n",
            "\n",
            "        [[[-0.4242, -0.4242, -0.4242,  ..., -0.4242, -0.4242, -0.4242],\n",
            "          [-0.4242, -0.4242, -0.4242,  ..., -0.4242, -0.4242, -0.4242],\n",
            "          [-0.4242, -0.4242, -0.4242,  ..., -0.4242, -0.4242, -0.4242],\n",
            "          ...,\n",
            "          [-0.4242, -0.4242, -0.4242,  ..., -0.4242, -0.4242, -0.4242],\n",
            "          [-0.4242, -0.4242, -0.4242,  ..., -0.4242, -0.4242, -0.4242],\n",
            "          [-0.4242, -0.4242, -0.4242,  ..., -0.4242, -0.4242, -0.4242]]],\n",
            "\n",
            "\n",
            "        [[[-0.4242, -0.4242, -0.4242,  ..., -0.4242, -0.4242, -0.4242],\n",
            "          [-0.4242, -0.4242, -0.4242,  ..., -0.4242, -0.4242, -0.4242],\n",
            "          [-0.4242, -0.4242, -0.4242,  ..., -0.4242, -0.4242, -0.4242],\n",
            "          ...,\n",
            "          [-0.4242, -0.4242, -0.4242,  ..., -0.4242, -0.4242, -0.4242],\n",
            "          [-0.4242, -0.4242, -0.4242,  ..., -0.4242, -0.4242, -0.4242],\n",
            "          [-0.4242, -0.4242, -0.4242,  ..., -0.4242, -0.4242, -0.4242]]],\n",
            "\n",
            "\n",
            "        ...,\n",
            "\n",
            "\n",
            "        [[[-0.4242, -0.4242, -0.4242,  ..., -0.4242, -0.4242, -0.4242],\n",
            "          [-0.4242, -0.4242, -0.4242,  ..., -0.4242, -0.4242, -0.4242],\n",
            "          [-0.4242, -0.4242, -0.4242,  ..., -0.4242, -0.4242, -0.4242],\n",
            "          ...,\n",
            "          [-0.4242, -0.4242, -0.4242,  ..., -0.4242, -0.4242, -0.4242],\n",
            "          [-0.4242, -0.4242, -0.4242,  ..., -0.4242, -0.4242, -0.4242],\n",
            "          [-0.4242, -0.4242, -0.4242,  ..., -0.4242, -0.4242, -0.4242]]],\n",
            "\n",
            "\n",
            "        [[[-0.4242, -0.4242, -0.4242,  ..., -0.4242, -0.4242, -0.4242],\n",
            "          [-0.4242, -0.4242, -0.4242,  ..., -0.4242, -0.4242, -0.4242],\n",
            "          [-0.4242, -0.4242, -0.4242,  ..., -0.4242, -0.4242, -0.4242],\n",
            "          ...,\n",
            "          [-0.4242, -0.4242, -0.4242,  ..., -0.4242, -0.4242, -0.4242],\n",
            "          [-0.4242, -0.4242, -0.4242,  ..., -0.4242, -0.4242, -0.4242],\n",
            "          [-0.4242, -0.4242, -0.4242,  ..., -0.4242, -0.4242, -0.4242]]],\n",
            "\n",
            "\n",
            "        [[[-0.4242, -0.4242, -0.4242,  ..., -0.4242, -0.4242, -0.4242],\n",
            "          [-0.4242, -0.4242, -0.4242,  ..., -0.4242, -0.4242, -0.4242],\n",
            "          [-0.4242, -0.4242, -0.4242,  ..., -0.4242, -0.4242, -0.4242],\n",
            "          ...,\n",
            "          [-0.4242, -0.4242, -0.4242,  ..., -0.4242, -0.4242, -0.4242],\n",
            "          [-0.4242, -0.4242, -0.4242,  ..., -0.4242, -0.4242, -0.4242],\n",
            "          [-0.4242, -0.4242, -0.4242,  ..., -0.4242, -0.4242, -0.4242]]]])\n",
            "-> Corresponding label: tensor([0, 3, 5,  ..., 8, 9, 8])\n",
            "-> Validation set size of client 0: 4000\n",
            "-> Validation data of client 0: tensor([[[[-0.4242, -0.4242, -0.4242,  ..., -0.4242, -0.4242, -0.4242],\n",
            "          [-0.4242, -0.4242, -0.4242,  ..., -0.4242, -0.4242, -0.4242],\n",
            "          [-0.4242, -0.4242, -0.4242,  ..., -0.4242, -0.4242, -0.4242],\n",
            "          ...,\n",
            "          [-0.4242, -0.4242, -0.4242,  ..., -0.4242, -0.4242, -0.4242],\n",
            "          [-0.4242, -0.4242, -0.4242,  ..., -0.4242, -0.4242, -0.4242],\n",
            "          [-0.4242, -0.4242, -0.4242,  ..., -0.4242, -0.4242, -0.4242]]],\n",
            "\n",
            "\n",
            "        [[[-0.4242, -0.4242, -0.4242,  ..., -0.4242, -0.4242, -0.4242],\n",
            "          [-0.4242, -0.4242, -0.4242,  ..., -0.4242, -0.4242, -0.4242],\n",
            "          [-0.4242, -0.4242, -0.4242,  ..., -0.4242, -0.4242, -0.4242],\n",
            "          ...,\n",
            "          [-0.4242, -0.4242, -0.4242,  ..., -0.4242, -0.4242, -0.4242],\n",
            "          [-0.4242, -0.4242, -0.4242,  ..., -0.4242, -0.4242, -0.4242],\n",
            "          [-0.4242, -0.4242, -0.4242,  ..., -0.4242, -0.4242, -0.4242]]],\n",
            "\n",
            "\n",
            "        [[[-0.4242, -0.4242, -0.4242,  ..., -0.4242, -0.4242, -0.4242],\n",
            "          [-0.4242, -0.4242, -0.4242,  ..., -0.4242, -0.4242, -0.4242],\n",
            "          [-0.4242, -0.4242, -0.4242,  ..., -0.4242, -0.4242, -0.4242],\n",
            "          ...,\n",
            "          [-0.4242, -0.4242, -0.4242,  ..., -0.4242, -0.4242, -0.4242],\n",
            "          [-0.4242, -0.4242, -0.4242,  ..., -0.4242, -0.4242, -0.4242],\n",
            "          [-0.4242, -0.4242, -0.4242,  ..., -0.4242, -0.4242, -0.4242]]],\n",
            "\n",
            "\n",
            "        ...,\n",
            "\n",
            "\n",
            "        [[[-0.4242, -0.4242, -0.4242,  ..., -0.4242, -0.4242, -0.4242],\n",
            "          [-0.4242, -0.4242, -0.4242,  ..., -0.4242, -0.4242, -0.4242],\n",
            "          [-0.4242, -0.4242, -0.4242,  ..., -0.4242, -0.4242, -0.4242],\n",
            "          ...,\n",
            "          [-0.4242, -0.4242, -0.4242,  ..., -0.4242, -0.4242, -0.4242],\n",
            "          [-0.4242, -0.4242, -0.4242,  ..., -0.4242, -0.4242, -0.4242],\n",
            "          [-0.4242, -0.4242, -0.4242,  ..., -0.4242, -0.4242, -0.4242]]],\n",
            "\n",
            "\n",
            "        [[[-0.4242, -0.4242, -0.4242,  ..., -0.4242, -0.4242, -0.4242],\n",
            "          [-0.4242, -0.4242, -0.4242,  ..., -0.4242, -0.4242, -0.4242],\n",
            "          [-0.4242, -0.4242, -0.4242,  ..., -0.4242, -0.4242, -0.4242],\n",
            "          ...,\n",
            "          [-0.4242, -0.4242, -0.4242,  ..., -0.4242, -0.4242, -0.4242],\n",
            "          [-0.4242, -0.4242, -0.4242,  ..., -0.4242, -0.4242, -0.4242],\n",
            "          [-0.4242, -0.4242, -0.4242,  ..., -0.4242, -0.4242, -0.4242]]],\n",
            "\n",
            "\n",
            "        [[[-0.4242, -0.4242, -0.4242,  ..., -0.4242, -0.4242, -0.4242],\n",
            "          [-0.4242, -0.4242, -0.4242,  ..., -0.4242, -0.4242, -0.4242],\n",
            "          [-0.4242, -0.4242, -0.4242,  ..., -0.4242, -0.4242, -0.4242],\n",
            "          ...,\n",
            "          [-0.4242, -0.4242, -0.4242,  ..., -0.4242, -0.4242, -0.4242],\n",
            "          [-0.4242, -0.4242, -0.4242,  ..., -0.4242, -0.4242, -0.4242],\n",
            "          [-0.4242, -0.4242, -0.4242,  ..., -0.4242, -0.4242, -0.4242]]]])\n",
            "-> Corresponding label: tensor([0, 8, 9,  ..., 8, 3, 5])\n"
          ]
        }
      ]
    },
    {
      "cell_type": "markdown",
      "source": [
        "### Experiment4\n",
        "with noise (mean = 0, std = 50), without adjustment"
      ],
      "metadata": {
        "id": "W6I1rPmCOo33"
      }
    },
    {
      "cell_type": "code",
      "source": [
        "model_iid4 = IRIS_NN(input_size, num_hidden_neuron, output_size)\n",
        "if torch.cuda.is_available():\n",
        "  model_iid4.cuda()\n",
        "\n",
        "model_iid_trained4 = training(model=model_iid4, num_rounds=rounds, batch_size=batch_size, num_classes=num_classes, learning_rate=lr, dataset=dataset_train, data_dict=iid_dict, active_client_fraction=C, num_clients=K, num_epochs=E, criterion=criterion, isClassification=True, weight_mode=weight_mode1, validate_on=val_mode1, plt_title=\"on IID Dataset\", plt_color=\"orange\")"
      ],
      "metadata": {
        "id": "KWyRa0nhP_mQ"
      },
      "execution_count": null,
      "outputs": []
    },
    {
      "cell_type": "code",
      "source": [
        "testing(model=model_iid_trained4, dataset=dataset_test, bs=batch_size, criterion=criterion, num_classes=num_classes, classes=classes_test, report_accuracy=True)"
      ],
      "metadata": {
        "id": "rjnX_mXGQMN4"
      },
      "execution_count": null,
      "outputs": []
    },
    {
      "cell_type": "markdown",
      "source": [
        "### Experiment 5\n",
        "with noise (mean = 0, std = 50), with adjustment, validating on loss\n"
      ],
      "metadata": {
        "id": "sqBoe0AE53PZ"
      }
    },
    {
      "cell_type": "code",
      "source": [
        "model_iid5 = IRIS_NN(input_size, num_hidden_neuron, output_size)\n",
        "if torch.cuda.is_available():\n",
        "  model_iid5.cuda()\n",
        "\n",
        "model_iid_trained5 = training(model=model_iid5, num_rounds=rounds, batch_size=batch_size, num_classes=num_classes, learning_rate=lr, dataset=dataset_train, data_dict=iid_dict, active_client_fraction=C, num_clients=K, num_epochs=E, criterion=criterion, isClassification=True, weight_mode=weight_mode2, validate_on=val_mode2, plt_title=\"on IID Dataset\", plt_color=\"orange\")"
      ],
      "metadata": {
        "id": "yylA_QOi7MXr"
      },
      "execution_count": null,
      "outputs": []
    },
    {
      "cell_type": "code",
      "source": [
        "testing(model=model_iid_trained5, dataset=dataset_test, bs=batch_size, criterion=criterion, num_classes=num_classes, classes=classes_test, report_accuracy=True)"
      ],
      "metadata": {
        "id": "m9qbWp3m7Ru5"
      },
      "execution_count": null,
      "outputs": []
    },
    {
      "cell_type": "markdown",
      "source": [
        "### Experiment 6\n",
        " with noise (mean = 0, std = 50), with adjustment, validating on accuracy"
      ],
      "metadata": {
        "id": "QXipQDl77FLQ"
      }
    },
    {
      "cell_type": "code",
      "source": [
        "model_iid6 = IRIS_NN(input_size, num_hidden_neuron, output_size)\n",
        "if torch.cuda.is_available():\n",
        "  model_iid6.cuda()\n",
        "\n",
        "model_iid_trained6 = training(model=model_iid6, num_rounds=rounds, batch_size=batch_size, num_classes=num_classes, learning_rate=lr, dataset=dataset_train, data_dict=iid_dict, active_client_fraction=C, num_clients=K, num_epochs=E, criterion=criterion, isClassification=True, weight_mode=weight_mode3, validate_on=val_mode3, plt_title=\"on IID Dataset\", plt_color=\"orange\")"
      ],
      "metadata": {
        "id": "S9p4zV7A7lQz"
      },
      "execution_count": null,
      "outputs": []
    },
    {
      "cell_type": "code",
      "source": [
        "testing(model=model_iid_trained6, dataset=dataset_test, bs=batch_size, criterion=criterion, num_classes=num_classes, classes=classes_test, report_accuracy=True)"
      ],
      "metadata": {
        "id": "eP38j0Fx7p_M"
      },
      "execution_count": null,
      "outputs": []
    },
    {
      "cell_type": "markdown",
      "metadata": {
        "id": "ZIQHWWymDWif"
      },
      "source": [
        "# Non IID training"
      ]
    },
    {
      "cell_type": "markdown",
      "source": [
        "## Training Setup"
      ],
      "metadata": {
        "id": "Ie-Qgjz7FLu8"
      }
    },
    {
      "cell_type": "code",
      "source": [
        "# number of training rounds\n",
        "rounds = 150\n",
        "# client fraction\n",
        "C = 1\n",
        "# number of clients\n",
        "K = 10\n",
        "# number of training passes on local dataset for each round\n",
        "E = 10\n",
        "# batch size\n",
        "batch_size = 10\n",
        "# learning Rate\n",
        "lr=0.01\n",
        "# data partition dictionary\n",
        "client_dict = non_iid_partition(dataset_train, num_clients=K, num_shards=K, report_iid_metric=True) # every client is given only one shard, which is very non_iid \n",
        "non_iid_dict = client_dict_train_val_split(client_dict_in=client_dict, validation_ratio=0.2)\n",
        "\n",
        "# seeClientData(dataset=dataset_train, client_dict=non_iid_dict, client=0)\n",
        "# seeClientData(dataset=dataset_train, client_dict=non_iid_dict, client=1)\n",
        "# seeClientData(dataset=dataset_train, client_dict=non_iid_dict, client=2)\n",
        "\n",
        "\n",
        "# loader =  DataLoader(CustomDataset(dataset_train, client_dict[0]), batch_size=len( client_dict[0]), shuffle=True)\n",
        "# ld = iter(loader).next()\n",
        "# data, label = ld\n",
        "# print(\"data: \", data, \"label: \", label)\n"
      ],
      "metadata": {
        "id": "Zl6SL5OHECak"
      },
      "execution_count": null,
      "outputs": []
    },
    {
      "cell_type": "code",
      "source": [
        "print(\"-----------------------------Experiment Setup-----------------------------\")\n",
        "print(\"Client Partition: non-IID\")\n",
        "print(f\"Number of communication rounds: {rounds}\")\n",
        "print(f\"Fraction of active clients: {C}\")\n",
        "print(f\"Number of total clients: {K}\")\n",
        "print(f\"Number of local epochs: {E}\")\n",
        "print(\"--------------------------------------------------------------------------\")"
      ],
      "metadata": {
        "id": "OIUUUKnRGDIg"
      },
      "execution_count": null,
      "outputs": []
    },
    {
      "cell_type": "markdown",
      "source": [
        "## Experiments"
      ],
      "metadata": {
        "id": "MlgyQHPC8VWb"
      }
    },
    {
      "cell_type": "markdown",
      "source": [
        "### Experiment 1\n",
        "without noise, without adjustment, pure FedAvg"
      ],
      "metadata": {
        "id": "q5g9lsLO8VWf"
      }
    },
    {
      "cell_type": "code",
      "source": [
        "model_non_iid1 = IRIS_NN(input_size, num_hidden_neuron, output_size)\n",
        "if torch.cuda.is_available():\n",
        "  model_non_iid1.cuda()\n",
        "\n",
        "model_non_iid_trained1 = training(model=model_non_iid1, num_rounds=rounds, batch_size=batch_size, num_classes=num_classes, learning_rate=lr, dataset=dataset_train, data_dict=non_iid_dict, active_client_fraction=C, num_clients=K, num_epochs=E, criterion=criterion, isClassification=True, weight_mode=weight_mode1, validate_on=val_mode1, plt_title=\"on non IID Dataset\", plt_color=\"orange\")"
      ],
      "metadata": {
        "id": "OfJLSf9M8VWg"
      },
      "execution_count": null,
      "outputs": []
    },
    {
      "cell_type": "code",
      "source": [
        "testing(model=model_non_iid_trained1, dataset=dataset_test, bs=batch_size, criterion=criterion, num_classes=num_classes, classes=classes_test, report_accuracy=True)"
      ],
      "metadata": {
        "id": "JDjT3PSE8VWh"
      },
      "execution_count": null,
      "outputs": []
    },
    {
      "cell_type": "markdown",
      "source": [
        "### Experiment 2: \n",
        "without noise, with adjustment, validating on loss"
      ],
      "metadata": {
        "id": "r9aVxiyP8VWh"
      }
    },
    {
      "cell_type": "code",
      "execution_count": null,
      "metadata": {
        "id": "E7b3H2mq8VWh"
      },
      "outputs": [],
      "source": [
        "model_non_iid2 = IRIS_NN(input_size, num_hidden_neuron, output_size)\n",
        "if torch.cuda.is_available():\n",
        "  model_non_iid2.cuda()\n",
        "\n",
        "model_non_iid_trained2 = training(model=model_non_iid2, num_rounds=rounds, batch_size=batch_size, num_classes=num_classes, learning_rate=lr, dataset=dataset_train, data_dict=non_iid_dict, active_client_fraction=C, num_clients=K, num_epochs=E, criterion=criterion, isClassification=True, weight_mode=weight_mode2, validate_on=val_mode2, plt_title=\"on non IID Dataset\", plt_color=\"orange\")"
      ]
    },
    {
      "cell_type": "code",
      "execution_count": null,
      "metadata": {
        "id": "QaZ5RAQ38VWi"
      },
      "outputs": [],
      "source": [
        "testing(model=model_non_iid_trained2, dataset=dataset_test, bs=batch_size, criterion=criterion, num_classes=num_classes, classes=classes_test, report_accuracy=True)"
      ]
    },
    {
      "cell_type": "markdown",
      "source": [
        "### Experiment 3\n",
        "without noise, with adjustment, validating on accuracy"
      ],
      "metadata": {
        "id": "4hbMdstC8VWj"
      }
    },
    {
      "cell_type": "code",
      "source": [
        "model_non_iid3 = IRIS_NN(input_size, num_hidden_neuron, output_size)\n",
        "if torch.cuda.is_available():\n",
        "  model_non_iid3.cuda()\n",
        "\n",
        "model_non_iid_trained3 = training(model=model_non_iid3, num_rounds=rounds, batch_size=batch_size, num_classes=num_classes, learning_rate=lr, dataset=dataset_train, data_dict=non_iid_dict, active_client_fraction=C, num_clients=K, num_epochs=E, criterion=criterion, isClassification=True, weight_mode=weight_mode3, validate_on=val_mode3, plt_title=\"on non IID Dataset\", plt_color=\"orange\")"
      ],
      "metadata": {
        "id": "sEELCyiQ8VWj"
      },
      "execution_count": null,
      "outputs": []
    },
    {
      "cell_type": "code",
      "source": [
        "testing(model=model_non_iid_trained3, dataset=dataset_test, bs=batch_size, criterion=criterion, num_classes=num_classes, classes=classes_test, report_accuracy=True)"
      ],
      "metadata": {
        "id": "DQe-kyHW8VWk"
      },
      "execution_count": null,
      "outputs": []
    },
    {
      "cell_type": "markdown",
      "source": [
        "### Add noise to client 0"
      ],
      "metadata": {
        "id": "qRbMS1nQ8VWk"
      }
    },
    {
      "cell_type": "code",
      "source": [
        "add_gaussian_noise(dataset=dataset_train, client_dict=client_dict, client=0, mean=0, std=50)\n",
        "seeClientData(dataset=dataset_train, client_dict=iid_dict, client=0)"
      ],
      "metadata": {
        "id": "I5H9vVSU8VWl"
      },
      "execution_count": null,
      "outputs": []
    },
    {
      "cell_type": "markdown",
      "source": [
        "### Experiment4\n",
        "with noise (mean = 0, std = 50), without adjustment"
      ],
      "metadata": {
        "id": "ItLnEZ3X8VWl"
      }
    },
    {
      "cell_type": "code",
      "source": [
        "model_non_iid4 = IRIS_NN(input_size, num_hidden_neuron, output_size)\n",
        "if torch.cuda.is_available():\n",
        "  model_non_iid4.cuda()\n",
        "\n",
        "model_non_iid_trained4 = training(model=model_non_iid4, num_rounds=rounds, batch_size=batch_size, num_classes=num_classes, learning_rate=lr, dataset=dataset_train, data_dict=non_iid_dict, active_client_fraction=C, num_clients=K, num_epochs=E, criterion=criterion, isClassification=True, weight_mode=weight_mode1, validate_on=val_mode1, plt_title=\"on non IID Dataset\", plt_color=\"orange\")"
      ],
      "metadata": {
        "id": "NdR3naDQ8VWl"
      },
      "execution_count": null,
      "outputs": []
    },
    {
      "cell_type": "code",
      "source": [
        "testing(model=model_non_iid_trained4, dataset=dataset_test, bs=batch_size, criterion=criterion, num_classes=num_classes, classes=classes_test, report_accuracy=True)"
      ],
      "metadata": {
        "id": "zZApM-TI8VWm"
      },
      "execution_count": null,
      "outputs": []
    },
    {
      "cell_type": "markdown",
      "source": [
        "### Experiment 5\n",
        "with noise (mean = 0, std = 50), with adjustment, validating on loss\n"
      ],
      "metadata": {
        "id": "_QhfQTAM8VWm"
      }
    },
    {
      "cell_type": "code",
      "source": [
        "model_non_iid5 = IRIS_NN(input_size, num_hidden_neuron, output_size)\n",
        "if torch.cuda.is_available():\n",
        "  model_non_iid5.cuda()\n",
        "\n",
        "model_non_iid_trained5 = training(model=model_non_iid5, num_rounds=rounds, batch_size=batch_size, num_classes=num_classes, learning_rate=lr, dataset=dataset_train, data_dict=non_iid_dict, active_client_fraction=C, num_clients=K, num_epochs=E, criterion=criterion, isClassification=True, weight_mode=weight_mode2, validate_on=val_mode2, plt_title=\"on non IID Dataset\", plt_color=\"orange\")"
      ],
      "metadata": {
        "id": "rWr8WB7S8VWm"
      },
      "execution_count": null,
      "outputs": []
    },
    {
      "cell_type": "code",
      "source": [
        "testing(model=model_non_iid_trained5, dataset=dataset_test, bs=batch_size, criterion=criterion, num_classes=num_classes, classes=classes_test, report_accuracy=True)"
      ],
      "metadata": {
        "id": "FHg3_nPj8VWm"
      },
      "execution_count": null,
      "outputs": []
    },
    {
      "cell_type": "markdown",
      "source": [
        "### Experiment 6\n",
        " with noise (mean = 0, std = 50), with adjustment, validating on accuracy"
      ],
      "metadata": {
        "id": "ixjBPf-U8VWm"
      }
    },
    {
      "cell_type": "code",
      "source": [
        "model_non_iid6 = IRIS_NN(input_size, num_hidden_neuron, output_size)\n",
        "if torch.cuda.is_available():\n",
        "  model_non_iid6.cuda()\n",
        "\n",
        "model_non_iid_trained6 = training(model=model_non_iid6, num_rounds=rounds, batch_size=batch_size, num_classes=num_classes, learning_rate=lr, dataset=dataset_train, data_dict=non_iid_dict, active_client_fraction=C, num_clients=K, num_epochs=E, criterion=criterion, isClassification=True, weight_mode=weight_mode3, validate_on=val_mode3, plt_title=\"on non IID Dataset\", plt_color=\"orange\")"
      ],
      "metadata": {
        "id": "vi96j67U8VWm"
      },
      "execution_count": null,
      "outputs": []
    },
    {
      "cell_type": "code",
      "source": [
        "testing(model=model_non_iid_trained6, dataset=dataset_test, bs=batch_size, criterion=criterion, num_classes=num_classes, classes=classes_test, report_accuracy=True)"
      ],
      "metadata": {
        "id": "d2rBdtAo8VWn"
      },
      "execution_count": null,
      "outputs": []
    },
    {
      "cell_type": "markdown",
      "source": [
        "# Experiment -- No Federated Learning"
      ],
      "metadata": {
        "id": "v6sFre9p_By9"
      }
    },
    {
      "cell_type": "code",
      "source": [
        "centralized_model = IRIS_NN(input_size, num_hidden_neuron, output_size)\n",
        "# number of training rounds\n",
        "rounds = 150\n",
        "# client fraction\n",
        "C = 1\n",
        "# number of clients\n",
        "K = 1\n",
        "# number of training passes on local dataset for each round\n",
        "E = 10\n",
        "# batch size\n",
        "batch_size = 10\n",
        "# learning Rate\n",
        "lr=0.01\n",
        "# data partition dictionary\n",
        "client_dict = non_iid_partition(dataset_train, num_clients=K, num_shards=K, report_iid_metric=True) # every client is given only one shard, which is very non_iid \n",
        "non_iid_dict = client_dict_train_val_split(client_dict_in=client_dict, validation_ratio=0.2)\n",
        "\n",
        "training(model=centralized_model, num_rounds=rounds, batch_size=batch_size, num_classes=num_classes, learning_rate=lr, dataset=dataset_train, data_dict=non_iid_dict, active_client_fraction=C, num_clients=K, num_epochs=E, criterion=criterion, isClassification=True, weight_mode=weight_mode3, validate_on=val_mode3, plt_title=\"on non IID Dataset\", plt_color=\"orange\")"
      ],
      "metadata": {
        "id": "hwOr5xeS_HHW"
      },
      "execution_count": null,
      "outputs": []
    },
    {
      "cell_type": "code",
      "source": [
        "testing(model=centralized_model, dataset=dataset_test, bs=batch_size, criterion=criterion, num_classes=num_classes, classes=classes_test, report_accuracy=True)"
      ],
      "metadata": {
        "id": "x5Afx1oaAVNR"
      },
      "execution_count": null,
      "outputs": []
    }
  ],
  "metadata": {
    "colab": {
      "name": "FL.ipynb",
      "provenance": [],
      "include_colab_link": true
    },
    "interpreter": {
      "hash": "12d30b77a464acd39dc57a4d74939e0be500310b5b75c20a10dcf54a6539ac33"
    },
    "kernelspec": {
      "display_name": "Python 3.9.7 ('MYfedtorch')",
      "language": "python",
      "name": "python3"
    },
    "language_info": {
      "codemirror_mode": {
        "name": "ipython",
        "version": 3
      },
      "file_extension": ".py",
      "mimetype": "text/x-python",
      "name": "python",
      "nbconvert_exporter": "python",
      "pygments_lexer": "ipython3",
      "version": "3.9.7"
    },
    "orig_nbformat": 4,
    "gpuClass": "standard",
    "widgets": {
      "application/vnd.jupyter.widget-state+json": {
        "8b9ac0e76927470e9bff10ee1d3ab793": {
          "model_module": "@jupyter-widgets/controls",
          "model_name": "HBoxModel",
          "model_module_version": "1.5.0",
          "state": {
            "_dom_classes": [],
            "_model_module": "@jupyter-widgets/controls",
            "_model_module_version": "1.5.0",
            "_model_name": "HBoxModel",
            "_view_count": null,
            "_view_module": "@jupyter-widgets/controls",
            "_view_module_version": "1.5.0",
            "_view_name": "HBoxView",
            "box_style": "",
            "children": [
              "IPY_MODEL_b6508e36d9404ef68153351078bfbfc9",
              "IPY_MODEL_0fc02b5b18d943fd90cf85eaac503153",
              "IPY_MODEL_cfc2a87da15543259e200bf48aaed523"
            ],
            "layout": "IPY_MODEL_2415a71892ac4751876bd22713ef6e89"
          }
        },
        "b6508e36d9404ef68153351078bfbfc9": {
          "model_module": "@jupyter-widgets/controls",
          "model_name": "HTMLModel",
          "model_module_version": "1.5.0",
          "state": {
            "_dom_classes": [],
            "_model_module": "@jupyter-widgets/controls",
            "_model_module_version": "1.5.0",
            "_model_name": "HTMLModel",
            "_view_count": null,
            "_view_module": "@jupyter-widgets/controls",
            "_view_module_version": "1.5.0",
            "_view_name": "HTMLView",
            "description": "",
            "description_tooltip": null,
            "layout": "IPY_MODEL_bd5dcbb6dac943b7aeba89cbf03107f0",
            "placeholder": "​",
            "style": "IPY_MODEL_2f4e0671a6ef4088aaf04b34b5efb813",
            "value": ""
          }
        },
        "0fc02b5b18d943fd90cf85eaac503153": {
          "model_module": "@jupyter-widgets/controls",
          "model_name": "FloatProgressModel",
          "model_module_version": "1.5.0",
          "state": {
            "_dom_classes": [],
            "_model_module": "@jupyter-widgets/controls",
            "_model_module_version": "1.5.0",
            "_model_name": "FloatProgressModel",
            "_view_count": null,
            "_view_module": "@jupyter-widgets/controls",
            "_view_module_version": "1.5.0",
            "_view_name": "ProgressView",
            "bar_style": "success",
            "description": "",
            "description_tooltip": null,
            "layout": "IPY_MODEL_c9c6938bb73349f4bf368a3368fe62ba",
            "max": 9912422,
            "min": 0,
            "orientation": "horizontal",
            "style": "IPY_MODEL_736ec9ee2ec24c1bac78c62c71d40595",
            "value": 9912422
          }
        },
        "cfc2a87da15543259e200bf48aaed523": {
          "model_module": "@jupyter-widgets/controls",
          "model_name": "HTMLModel",
          "model_module_version": "1.5.0",
          "state": {
            "_dom_classes": [],
            "_model_module": "@jupyter-widgets/controls",
            "_model_module_version": "1.5.0",
            "_model_name": "HTMLModel",
            "_view_count": null,
            "_view_module": "@jupyter-widgets/controls",
            "_view_module_version": "1.5.0",
            "_view_name": "HTMLView",
            "description": "",
            "description_tooltip": null,
            "layout": "IPY_MODEL_a1587ec0adc14de8b0614ddd5786779d",
            "placeholder": "​",
            "style": "IPY_MODEL_7cfd8eac1dda4bc7b5f18168b6ce2c00",
            "value": " 9913344/? [00:00&lt;00:00, 12462120.96it/s]"
          }
        },
        "2415a71892ac4751876bd22713ef6e89": {
          "model_module": "@jupyter-widgets/base",
          "model_name": "LayoutModel",
          "model_module_version": "1.2.0",
          "state": {
            "_model_module": "@jupyter-widgets/base",
            "_model_module_version": "1.2.0",
            "_model_name": "LayoutModel",
            "_view_count": null,
            "_view_module": "@jupyter-widgets/base",
            "_view_module_version": "1.2.0",
            "_view_name": "LayoutView",
            "align_content": null,
            "align_items": null,
            "align_self": null,
            "border": null,
            "bottom": null,
            "display": null,
            "flex": null,
            "flex_flow": null,
            "grid_area": null,
            "grid_auto_columns": null,
            "grid_auto_flow": null,
            "grid_auto_rows": null,
            "grid_column": null,
            "grid_gap": null,
            "grid_row": null,
            "grid_template_areas": null,
            "grid_template_columns": null,
            "grid_template_rows": null,
            "height": null,
            "justify_content": null,
            "justify_items": null,
            "left": null,
            "margin": null,
            "max_height": null,
            "max_width": null,
            "min_height": null,
            "min_width": null,
            "object_fit": null,
            "object_position": null,
            "order": null,
            "overflow": null,
            "overflow_x": null,
            "overflow_y": null,
            "padding": null,
            "right": null,
            "top": null,
            "visibility": null,
            "width": null
          }
        },
        "bd5dcbb6dac943b7aeba89cbf03107f0": {
          "model_module": "@jupyter-widgets/base",
          "model_name": "LayoutModel",
          "model_module_version": "1.2.0",
          "state": {
            "_model_module": "@jupyter-widgets/base",
            "_model_module_version": "1.2.0",
            "_model_name": "LayoutModel",
            "_view_count": null,
            "_view_module": "@jupyter-widgets/base",
            "_view_module_version": "1.2.0",
            "_view_name": "LayoutView",
            "align_content": null,
            "align_items": null,
            "align_self": null,
            "border": null,
            "bottom": null,
            "display": null,
            "flex": null,
            "flex_flow": null,
            "grid_area": null,
            "grid_auto_columns": null,
            "grid_auto_flow": null,
            "grid_auto_rows": null,
            "grid_column": null,
            "grid_gap": null,
            "grid_row": null,
            "grid_template_areas": null,
            "grid_template_columns": null,
            "grid_template_rows": null,
            "height": null,
            "justify_content": null,
            "justify_items": null,
            "left": null,
            "margin": null,
            "max_height": null,
            "max_width": null,
            "min_height": null,
            "min_width": null,
            "object_fit": null,
            "object_position": null,
            "order": null,
            "overflow": null,
            "overflow_x": null,
            "overflow_y": null,
            "padding": null,
            "right": null,
            "top": null,
            "visibility": null,
            "width": null
          }
        },
        "2f4e0671a6ef4088aaf04b34b5efb813": {
          "model_module": "@jupyter-widgets/controls",
          "model_name": "DescriptionStyleModel",
          "model_module_version": "1.5.0",
          "state": {
            "_model_module": "@jupyter-widgets/controls",
            "_model_module_version": "1.5.0",
            "_model_name": "DescriptionStyleModel",
            "_view_count": null,
            "_view_module": "@jupyter-widgets/base",
            "_view_module_version": "1.2.0",
            "_view_name": "StyleView",
            "description_width": ""
          }
        },
        "c9c6938bb73349f4bf368a3368fe62ba": {
          "model_module": "@jupyter-widgets/base",
          "model_name": "LayoutModel",
          "model_module_version": "1.2.0",
          "state": {
            "_model_module": "@jupyter-widgets/base",
            "_model_module_version": "1.2.0",
            "_model_name": "LayoutModel",
            "_view_count": null,
            "_view_module": "@jupyter-widgets/base",
            "_view_module_version": "1.2.0",
            "_view_name": "LayoutView",
            "align_content": null,
            "align_items": null,
            "align_self": null,
            "border": null,
            "bottom": null,
            "display": null,
            "flex": null,
            "flex_flow": null,
            "grid_area": null,
            "grid_auto_columns": null,
            "grid_auto_flow": null,
            "grid_auto_rows": null,
            "grid_column": null,
            "grid_gap": null,
            "grid_row": null,
            "grid_template_areas": null,
            "grid_template_columns": null,
            "grid_template_rows": null,
            "height": null,
            "justify_content": null,
            "justify_items": null,
            "left": null,
            "margin": null,
            "max_height": null,
            "max_width": null,
            "min_height": null,
            "min_width": null,
            "object_fit": null,
            "object_position": null,
            "order": null,
            "overflow": null,
            "overflow_x": null,
            "overflow_y": null,
            "padding": null,
            "right": null,
            "top": null,
            "visibility": null,
            "width": null
          }
        },
        "736ec9ee2ec24c1bac78c62c71d40595": {
          "model_module": "@jupyter-widgets/controls",
          "model_name": "ProgressStyleModel",
          "model_module_version": "1.5.0",
          "state": {
            "_model_module": "@jupyter-widgets/controls",
            "_model_module_version": "1.5.0",
            "_model_name": "ProgressStyleModel",
            "_view_count": null,
            "_view_module": "@jupyter-widgets/base",
            "_view_module_version": "1.2.0",
            "_view_name": "StyleView",
            "bar_color": null,
            "description_width": ""
          }
        },
        "a1587ec0adc14de8b0614ddd5786779d": {
          "model_module": "@jupyter-widgets/base",
          "model_name": "LayoutModel",
          "model_module_version": "1.2.0",
          "state": {
            "_model_module": "@jupyter-widgets/base",
            "_model_module_version": "1.2.0",
            "_model_name": "LayoutModel",
            "_view_count": null,
            "_view_module": "@jupyter-widgets/base",
            "_view_module_version": "1.2.0",
            "_view_name": "LayoutView",
            "align_content": null,
            "align_items": null,
            "align_self": null,
            "border": null,
            "bottom": null,
            "display": null,
            "flex": null,
            "flex_flow": null,
            "grid_area": null,
            "grid_auto_columns": null,
            "grid_auto_flow": null,
            "grid_auto_rows": null,
            "grid_column": null,
            "grid_gap": null,
            "grid_row": null,
            "grid_template_areas": null,
            "grid_template_columns": null,
            "grid_template_rows": null,
            "height": null,
            "justify_content": null,
            "justify_items": null,
            "left": null,
            "margin": null,
            "max_height": null,
            "max_width": null,
            "min_height": null,
            "min_width": null,
            "object_fit": null,
            "object_position": null,
            "order": null,
            "overflow": null,
            "overflow_x": null,
            "overflow_y": null,
            "padding": null,
            "right": null,
            "top": null,
            "visibility": null,
            "width": null
          }
        },
        "7cfd8eac1dda4bc7b5f18168b6ce2c00": {
          "model_module": "@jupyter-widgets/controls",
          "model_name": "DescriptionStyleModel",
          "model_module_version": "1.5.0",
          "state": {
            "_model_module": "@jupyter-widgets/controls",
            "_model_module_version": "1.5.0",
            "_model_name": "DescriptionStyleModel",
            "_view_count": null,
            "_view_module": "@jupyter-widgets/base",
            "_view_module_version": "1.2.0",
            "_view_name": "StyleView",
            "description_width": ""
          }
        },
        "01156e2847d0424ba2a87f943db54364": {
          "model_module": "@jupyter-widgets/controls",
          "model_name": "HBoxModel",
          "model_module_version": "1.5.0",
          "state": {
            "_dom_classes": [],
            "_model_module": "@jupyter-widgets/controls",
            "_model_module_version": "1.5.0",
            "_model_name": "HBoxModel",
            "_view_count": null,
            "_view_module": "@jupyter-widgets/controls",
            "_view_module_version": "1.5.0",
            "_view_name": "HBoxView",
            "box_style": "",
            "children": [
              "IPY_MODEL_8a2ed6ca0bc046b3b4aa43b280643620",
              "IPY_MODEL_f2943ae02a18458d915cba04f24d0f83",
              "IPY_MODEL_d9f7525455ea4adf9ac33ca583427b66"
            ],
            "layout": "IPY_MODEL_e0da60c42dff4ecc9c1b881f163e8e1c"
          }
        },
        "8a2ed6ca0bc046b3b4aa43b280643620": {
          "model_module": "@jupyter-widgets/controls",
          "model_name": "HTMLModel",
          "model_module_version": "1.5.0",
          "state": {
            "_dom_classes": [],
            "_model_module": "@jupyter-widgets/controls",
            "_model_module_version": "1.5.0",
            "_model_name": "HTMLModel",
            "_view_count": null,
            "_view_module": "@jupyter-widgets/controls",
            "_view_module_version": "1.5.0",
            "_view_name": "HTMLView",
            "description": "",
            "description_tooltip": null,
            "layout": "IPY_MODEL_8cc9467206814d0b807e763d2491b41f",
            "placeholder": "​",
            "style": "IPY_MODEL_5bc5666729d443d187d479fe27394b4a",
            "value": ""
          }
        },
        "f2943ae02a18458d915cba04f24d0f83": {
          "model_module": "@jupyter-widgets/controls",
          "model_name": "FloatProgressModel",
          "model_module_version": "1.5.0",
          "state": {
            "_dom_classes": [],
            "_model_module": "@jupyter-widgets/controls",
            "_model_module_version": "1.5.0",
            "_model_name": "FloatProgressModel",
            "_view_count": null,
            "_view_module": "@jupyter-widgets/controls",
            "_view_module_version": "1.5.0",
            "_view_name": "ProgressView",
            "bar_style": "success",
            "description": "",
            "description_tooltip": null,
            "layout": "IPY_MODEL_440d4d1db5ee420b85a4b54fde5f4d28",
            "max": 28881,
            "min": 0,
            "orientation": "horizontal",
            "style": "IPY_MODEL_e808059e18a7487faa1159446014f8a6",
            "value": 28881
          }
        },
        "d9f7525455ea4adf9ac33ca583427b66": {
          "model_module": "@jupyter-widgets/controls",
          "model_name": "HTMLModel",
          "model_module_version": "1.5.0",
          "state": {
            "_dom_classes": [],
            "_model_module": "@jupyter-widgets/controls",
            "_model_module_version": "1.5.0",
            "_model_name": "HTMLModel",
            "_view_count": null,
            "_view_module": "@jupyter-widgets/controls",
            "_view_module_version": "1.5.0",
            "_view_name": "HTMLView",
            "description": "",
            "description_tooltip": null,
            "layout": "IPY_MODEL_3f551619305645dfb0cf2ce2eb61bdc3",
            "placeholder": "​",
            "style": "IPY_MODEL_f56aa44bdac74e2881825a04eb92c7ff",
            "value": " 29696/? [00:00&lt;00:00, 4542.91it/s]"
          }
        },
        "e0da60c42dff4ecc9c1b881f163e8e1c": {
          "model_module": "@jupyter-widgets/base",
          "model_name": "LayoutModel",
          "model_module_version": "1.2.0",
          "state": {
            "_model_module": "@jupyter-widgets/base",
            "_model_module_version": "1.2.0",
            "_model_name": "LayoutModel",
            "_view_count": null,
            "_view_module": "@jupyter-widgets/base",
            "_view_module_version": "1.2.0",
            "_view_name": "LayoutView",
            "align_content": null,
            "align_items": null,
            "align_self": null,
            "border": null,
            "bottom": null,
            "display": null,
            "flex": null,
            "flex_flow": null,
            "grid_area": null,
            "grid_auto_columns": null,
            "grid_auto_flow": null,
            "grid_auto_rows": null,
            "grid_column": null,
            "grid_gap": null,
            "grid_row": null,
            "grid_template_areas": null,
            "grid_template_columns": null,
            "grid_template_rows": null,
            "height": null,
            "justify_content": null,
            "justify_items": null,
            "left": null,
            "margin": null,
            "max_height": null,
            "max_width": null,
            "min_height": null,
            "min_width": null,
            "object_fit": null,
            "object_position": null,
            "order": null,
            "overflow": null,
            "overflow_x": null,
            "overflow_y": null,
            "padding": null,
            "right": null,
            "top": null,
            "visibility": null,
            "width": null
          }
        },
        "8cc9467206814d0b807e763d2491b41f": {
          "model_module": "@jupyter-widgets/base",
          "model_name": "LayoutModel",
          "model_module_version": "1.2.0",
          "state": {
            "_model_module": "@jupyter-widgets/base",
            "_model_module_version": "1.2.0",
            "_model_name": "LayoutModel",
            "_view_count": null,
            "_view_module": "@jupyter-widgets/base",
            "_view_module_version": "1.2.0",
            "_view_name": "LayoutView",
            "align_content": null,
            "align_items": null,
            "align_self": null,
            "border": null,
            "bottom": null,
            "display": null,
            "flex": null,
            "flex_flow": null,
            "grid_area": null,
            "grid_auto_columns": null,
            "grid_auto_flow": null,
            "grid_auto_rows": null,
            "grid_column": null,
            "grid_gap": null,
            "grid_row": null,
            "grid_template_areas": null,
            "grid_template_columns": null,
            "grid_template_rows": null,
            "height": null,
            "justify_content": null,
            "justify_items": null,
            "left": null,
            "margin": null,
            "max_height": null,
            "max_width": null,
            "min_height": null,
            "min_width": null,
            "object_fit": null,
            "object_position": null,
            "order": null,
            "overflow": null,
            "overflow_x": null,
            "overflow_y": null,
            "padding": null,
            "right": null,
            "top": null,
            "visibility": null,
            "width": null
          }
        },
        "5bc5666729d443d187d479fe27394b4a": {
          "model_module": "@jupyter-widgets/controls",
          "model_name": "DescriptionStyleModel",
          "model_module_version": "1.5.0",
          "state": {
            "_model_module": "@jupyter-widgets/controls",
            "_model_module_version": "1.5.0",
            "_model_name": "DescriptionStyleModel",
            "_view_count": null,
            "_view_module": "@jupyter-widgets/base",
            "_view_module_version": "1.2.0",
            "_view_name": "StyleView",
            "description_width": ""
          }
        },
        "440d4d1db5ee420b85a4b54fde5f4d28": {
          "model_module": "@jupyter-widgets/base",
          "model_name": "LayoutModel",
          "model_module_version": "1.2.0",
          "state": {
            "_model_module": "@jupyter-widgets/base",
            "_model_module_version": "1.2.0",
            "_model_name": "LayoutModel",
            "_view_count": null,
            "_view_module": "@jupyter-widgets/base",
            "_view_module_version": "1.2.0",
            "_view_name": "LayoutView",
            "align_content": null,
            "align_items": null,
            "align_self": null,
            "border": null,
            "bottom": null,
            "display": null,
            "flex": null,
            "flex_flow": null,
            "grid_area": null,
            "grid_auto_columns": null,
            "grid_auto_flow": null,
            "grid_auto_rows": null,
            "grid_column": null,
            "grid_gap": null,
            "grid_row": null,
            "grid_template_areas": null,
            "grid_template_columns": null,
            "grid_template_rows": null,
            "height": null,
            "justify_content": null,
            "justify_items": null,
            "left": null,
            "margin": null,
            "max_height": null,
            "max_width": null,
            "min_height": null,
            "min_width": null,
            "object_fit": null,
            "object_position": null,
            "order": null,
            "overflow": null,
            "overflow_x": null,
            "overflow_y": null,
            "padding": null,
            "right": null,
            "top": null,
            "visibility": null,
            "width": null
          }
        },
        "e808059e18a7487faa1159446014f8a6": {
          "model_module": "@jupyter-widgets/controls",
          "model_name": "ProgressStyleModel",
          "model_module_version": "1.5.0",
          "state": {
            "_model_module": "@jupyter-widgets/controls",
            "_model_module_version": "1.5.0",
            "_model_name": "ProgressStyleModel",
            "_view_count": null,
            "_view_module": "@jupyter-widgets/base",
            "_view_module_version": "1.2.0",
            "_view_name": "StyleView",
            "bar_color": null,
            "description_width": ""
          }
        },
        "3f551619305645dfb0cf2ce2eb61bdc3": {
          "model_module": "@jupyter-widgets/base",
          "model_name": "LayoutModel",
          "model_module_version": "1.2.0",
          "state": {
            "_model_module": "@jupyter-widgets/base",
            "_model_module_version": "1.2.0",
            "_model_name": "LayoutModel",
            "_view_count": null,
            "_view_module": "@jupyter-widgets/base",
            "_view_module_version": "1.2.0",
            "_view_name": "LayoutView",
            "align_content": null,
            "align_items": null,
            "align_self": null,
            "border": null,
            "bottom": null,
            "display": null,
            "flex": null,
            "flex_flow": null,
            "grid_area": null,
            "grid_auto_columns": null,
            "grid_auto_flow": null,
            "grid_auto_rows": null,
            "grid_column": null,
            "grid_gap": null,
            "grid_row": null,
            "grid_template_areas": null,
            "grid_template_columns": null,
            "grid_template_rows": null,
            "height": null,
            "justify_content": null,
            "justify_items": null,
            "left": null,
            "margin": null,
            "max_height": null,
            "max_width": null,
            "min_height": null,
            "min_width": null,
            "object_fit": null,
            "object_position": null,
            "order": null,
            "overflow": null,
            "overflow_x": null,
            "overflow_y": null,
            "padding": null,
            "right": null,
            "top": null,
            "visibility": null,
            "width": null
          }
        },
        "f56aa44bdac74e2881825a04eb92c7ff": {
          "model_module": "@jupyter-widgets/controls",
          "model_name": "DescriptionStyleModel",
          "model_module_version": "1.5.0",
          "state": {
            "_model_module": "@jupyter-widgets/controls",
            "_model_module_version": "1.5.0",
            "_model_name": "DescriptionStyleModel",
            "_view_count": null,
            "_view_module": "@jupyter-widgets/base",
            "_view_module_version": "1.2.0",
            "_view_name": "StyleView",
            "description_width": ""
          }
        },
        "51e7f79d2a2540eaabfe3337246ffa6d": {
          "model_module": "@jupyter-widgets/controls",
          "model_name": "HBoxModel",
          "model_module_version": "1.5.0",
          "state": {
            "_dom_classes": [],
            "_model_module": "@jupyter-widgets/controls",
            "_model_module_version": "1.5.0",
            "_model_name": "HBoxModel",
            "_view_count": null,
            "_view_module": "@jupyter-widgets/controls",
            "_view_module_version": "1.5.0",
            "_view_name": "HBoxView",
            "box_style": "",
            "children": [
              "IPY_MODEL_cc7676b6fa4e47f9ae6ee22eb471b549",
              "IPY_MODEL_859461b53933463bbf1ec81e3307df14",
              "IPY_MODEL_ebc8010192cd4779a635fc83120f80a6"
            ],
            "layout": "IPY_MODEL_352ba14d64174c119596c593fa81820e"
          }
        },
        "cc7676b6fa4e47f9ae6ee22eb471b549": {
          "model_module": "@jupyter-widgets/controls",
          "model_name": "HTMLModel",
          "model_module_version": "1.5.0",
          "state": {
            "_dom_classes": [],
            "_model_module": "@jupyter-widgets/controls",
            "_model_module_version": "1.5.0",
            "_model_name": "HTMLModel",
            "_view_count": null,
            "_view_module": "@jupyter-widgets/controls",
            "_view_module_version": "1.5.0",
            "_view_name": "HTMLView",
            "description": "",
            "description_tooltip": null,
            "layout": "IPY_MODEL_660968c380b6490d92bb3ed019687b53",
            "placeholder": "​",
            "style": "IPY_MODEL_d79afbbce116495c836dcf80e9d90688",
            "value": ""
          }
        },
        "859461b53933463bbf1ec81e3307df14": {
          "model_module": "@jupyter-widgets/controls",
          "model_name": "FloatProgressModel",
          "model_module_version": "1.5.0",
          "state": {
            "_dom_classes": [],
            "_model_module": "@jupyter-widgets/controls",
            "_model_module_version": "1.5.0",
            "_model_name": "FloatProgressModel",
            "_view_count": null,
            "_view_module": "@jupyter-widgets/controls",
            "_view_module_version": "1.5.0",
            "_view_name": "ProgressView",
            "bar_style": "success",
            "description": "",
            "description_tooltip": null,
            "layout": "IPY_MODEL_e66efcd1f6b44ef4a070740be46b4f29",
            "max": 1648877,
            "min": 0,
            "orientation": "horizontal",
            "style": "IPY_MODEL_6c87caf600704d44a18126922a256c83",
            "value": 1648877
          }
        },
        "ebc8010192cd4779a635fc83120f80a6": {
          "model_module": "@jupyter-widgets/controls",
          "model_name": "HTMLModel",
          "model_module_version": "1.5.0",
          "state": {
            "_dom_classes": [],
            "_model_module": "@jupyter-widgets/controls",
            "_model_module_version": "1.5.0",
            "_model_name": "HTMLModel",
            "_view_count": null,
            "_view_module": "@jupyter-widgets/controls",
            "_view_module_version": "1.5.0",
            "_view_name": "HTMLView",
            "description": "",
            "description_tooltip": null,
            "layout": "IPY_MODEL_402b0b96be1c4a9fbe0e2441037b56f3",
            "placeholder": "​",
            "style": "IPY_MODEL_b74b86e0068e4aca8025fa5116414d4e",
            "value": " 1649664/? [00:00&lt;00:00, 5286201.80it/s]"
          }
        },
        "352ba14d64174c119596c593fa81820e": {
          "model_module": "@jupyter-widgets/base",
          "model_name": "LayoutModel",
          "model_module_version": "1.2.0",
          "state": {
            "_model_module": "@jupyter-widgets/base",
            "_model_module_version": "1.2.0",
            "_model_name": "LayoutModel",
            "_view_count": null,
            "_view_module": "@jupyter-widgets/base",
            "_view_module_version": "1.2.0",
            "_view_name": "LayoutView",
            "align_content": null,
            "align_items": null,
            "align_self": null,
            "border": null,
            "bottom": null,
            "display": null,
            "flex": null,
            "flex_flow": null,
            "grid_area": null,
            "grid_auto_columns": null,
            "grid_auto_flow": null,
            "grid_auto_rows": null,
            "grid_column": null,
            "grid_gap": null,
            "grid_row": null,
            "grid_template_areas": null,
            "grid_template_columns": null,
            "grid_template_rows": null,
            "height": null,
            "justify_content": null,
            "justify_items": null,
            "left": null,
            "margin": null,
            "max_height": null,
            "max_width": null,
            "min_height": null,
            "min_width": null,
            "object_fit": null,
            "object_position": null,
            "order": null,
            "overflow": null,
            "overflow_x": null,
            "overflow_y": null,
            "padding": null,
            "right": null,
            "top": null,
            "visibility": null,
            "width": null
          }
        },
        "660968c380b6490d92bb3ed019687b53": {
          "model_module": "@jupyter-widgets/base",
          "model_name": "LayoutModel",
          "model_module_version": "1.2.0",
          "state": {
            "_model_module": "@jupyter-widgets/base",
            "_model_module_version": "1.2.0",
            "_model_name": "LayoutModel",
            "_view_count": null,
            "_view_module": "@jupyter-widgets/base",
            "_view_module_version": "1.2.0",
            "_view_name": "LayoutView",
            "align_content": null,
            "align_items": null,
            "align_self": null,
            "border": null,
            "bottom": null,
            "display": null,
            "flex": null,
            "flex_flow": null,
            "grid_area": null,
            "grid_auto_columns": null,
            "grid_auto_flow": null,
            "grid_auto_rows": null,
            "grid_column": null,
            "grid_gap": null,
            "grid_row": null,
            "grid_template_areas": null,
            "grid_template_columns": null,
            "grid_template_rows": null,
            "height": null,
            "justify_content": null,
            "justify_items": null,
            "left": null,
            "margin": null,
            "max_height": null,
            "max_width": null,
            "min_height": null,
            "min_width": null,
            "object_fit": null,
            "object_position": null,
            "order": null,
            "overflow": null,
            "overflow_x": null,
            "overflow_y": null,
            "padding": null,
            "right": null,
            "top": null,
            "visibility": null,
            "width": null
          }
        },
        "d79afbbce116495c836dcf80e9d90688": {
          "model_module": "@jupyter-widgets/controls",
          "model_name": "DescriptionStyleModel",
          "model_module_version": "1.5.0",
          "state": {
            "_model_module": "@jupyter-widgets/controls",
            "_model_module_version": "1.5.0",
            "_model_name": "DescriptionStyleModel",
            "_view_count": null,
            "_view_module": "@jupyter-widgets/base",
            "_view_module_version": "1.2.0",
            "_view_name": "StyleView",
            "description_width": ""
          }
        },
        "e66efcd1f6b44ef4a070740be46b4f29": {
          "model_module": "@jupyter-widgets/base",
          "model_name": "LayoutModel",
          "model_module_version": "1.2.0",
          "state": {
            "_model_module": "@jupyter-widgets/base",
            "_model_module_version": "1.2.0",
            "_model_name": "LayoutModel",
            "_view_count": null,
            "_view_module": "@jupyter-widgets/base",
            "_view_module_version": "1.2.0",
            "_view_name": "LayoutView",
            "align_content": null,
            "align_items": null,
            "align_self": null,
            "border": null,
            "bottom": null,
            "display": null,
            "flex": null,
            "flex_flow": null,
            "grid_area": null,
            "grid_auto_columns": null,
            "grid_auto_flow": null,
            "grid_auto_rows": null,
            "grid_column": null,
            "grid_gap": null,
            "grid_row": null,
            "grid_template_areas": null,
            "grid_template_columns": null,
            "grid_template_rows": null,
            "height": null,
            "justify_content": null,
            "justify_items": null,
            "left": null,
            "margin": null,
            "max_height": null,
            "max_width": null,
            "min_height": null,
            "min_width": null,
            "object_fit": null,
            "object_position": null,
            "order": null,
            "overflow": null,
            "overflow_x": null,
            "overflow_y": null,
            "padding": null,
            "right": null,
            "top": null,
            "visibility": null,
            "width": null
          }
        },
        "6c87caf600704d44a18126922a256c83": {
          "model_module": "@jupyter-widgets/controls",
          "model_name": "ProgressStyleModel",
          "model_module_version": "1.5.0",
          "state": {
            "_model_module": "@jupyter-widgets/controls",
            "_model_module_version": "1.5.0",
            "_model_name": "ProgressStyleModel",
            "_view_count": null,
            "_view_module": "@jupyter-widgets/base",
            "_view_module_version": "1.2.0",
            "_view_name": "StyleView",
            "bar_color": null,
            "description_width": ""
          }
        },
        "402b0b96be1c4a9fbe0e2441037b56f3": {
          "model_module": "@jupyter-widgets/base",
          "model_name": "LayoutModel",
          "model_module_version": "1.2.0",
          "state": {
            "_model_module": "@jupyter-widgets/base",
            "_model_module_version": "1.2.0",
            "_model_name": "LayoutModel",
            "_view_count": null,
            "_view_module": "@jupyter-widgets/base",
            "_view_module_version": "1.2.0",
            "_view_name": "LayoutView",
            "align_content": null,
            "align_items": null,
            "align_self": null,
            "border": null,
            "bottom": null,
            "display": null,
            "flex": null,
            "flex_flow": null,
            "grid_area": null,
            "grid_auto_columns": null,
            "grid_auto_flow": null,
            "grid_auto_rows": null,
            "grid_column": null,
            "grid_gap": null,
            "grid_row": null,
            "grid_template_areas": null,
            "grid_template_columns": null,
            "grid_template_rows": null,
            "height": null,
            "justify_content": null,
            "justify_items": null,
            "left": null,
            "margin": null,
            "max_height": null,
            "max_width": null,
            "min_height": null,
            "min_width": null,
            "object_fit": null,
            "object_position": null,
            "order": null,
            "overflow": null,
            "overflow_x": null,
            "overflow_y": null,
            "padding": null,
            "right": null,
            "top": null,
            "visibility": null,
            "width": null
          }
        },
        "b74b86e0068e4aca8025fa5116414d4e": {
          "model_module": "@jupyter-widgets/controls",
          "model_name": "DescriptionStyleModel",
          "model_module_version": "1.5.0",
          "state": {
            "_model_module": "@jupyter-widgets/controls",
            "_model_module_version": "1.5.0",
            "_model_name": "DescriptionStyleModel",
            "_view_count": null,
            "_view_module": "@jupyter-widgets/base",
            "_view_module_version": "1.2.0",
            "_view_name": "StyleView",
            "description_width": ""
          }
        },
        "eaee50308a164963a93e3e559dfcb435": {
          "model_module": "@jupyter-widgets/controls",
          "model_name": "HBoxModel",
          "model_module_version": "1.5.0",
          "state": {
            "_dom_classes": [],
            "_model_module": "@jupyter-widgets/controls",
            "_model_module_version": "1.5.0",
            "_model_name": "HBoxModel",
            "_view_count": null,
            "_view_module": "@jupyter-widgets/controls",
            "_view_module_version": "1.5.0",
            "_view_name": "HBoxView",
            "box_style": "",
            "children": [
              "IPY_MODEL_5fb0ce05ae4e4320955a620da32e0719",
              "IPY_MODEL_ff289044e7b04879821d5fd85ef6cd0d",
              "IPY_MODEL_51a73c0d8da84c028b380fcaaf7ae9cd"
            ],
            "layout": "IPY_MODEL_381bbe5097584ced955906b842920f78"
          }
        },
        "5fb0ce05ae4e4320955a620da32e0719": {
          "model_module": "@jupyter-widgets/controls",
          "model_name": "HTMLModel",
          "model_module_version": "1.5.0",
          "state": {
            "_dom_classes": [],
            "_model_module": "@jupyter-widgets/controls",
            "_model_module_version": "1.5.0",
            "_model_name": "HTMLModel",
            "_view_count": null,
            "_view_module": "@jupyter-widgets/controls",
            "_view_module_version": "1.5.0",
            "_view_name": "HTMLView",
            "description": "",
            "description_tooltip": null,
            "layout": "IPY_MODEL_7be1c9fa468f472782f0375e98e80fe9",
            "placeholder": "​",
            "style": "IPY_MODEL_638a8ac2a7ef40febf945e02da808dd2",
            "value": ""
          }
        },
        "ff289044e7b04879821d5fd85ef6cd0d": {
          "model_module": "@jupyter-widgets/controls",
          "model_name": "FloatProgressModel",
          "model_module_version": "1.5.0",
          "state": {
            "_dom_classes": [],
            "_model_module": "@jupyter-widgets/controls",
            "_model_module_version": "1.5.0",
            "_model_name": "FloatProgressModel",
            "_view_count": null,
            "_view_module": "@jupyter-widgets/controls",
            "_view_module_version": "1.5.0",
            "_view_name": "ProgressView",
            "bar_style": "success",
            "description": "",
            "description_tooltip": null,
            "layout": "IPY_MODEL_cdf9c4512eb845148ce3352d279c9e21",
            "max": 4542,
            "min": 0,
            "orientation": "horizontal",
            "style": "IPY_MODEL_92148e037930446588e5f19f7a6202e9",
            "value": 4542
          }
        },
        "51a73c0d8da84c028b380fcaaf7ae9cd": {
          "model_module": "@jupyter-widgets/controls",
          "model_name": "HTMLModel",
          "model_module_version": "1.5.0",
          "state": {
            "_dom_classes": [],
            "_model_module": "@jupyter-widgets/controls",
            "_model_module_version": "1.5.0",
            "_model_name": "HTMLModel",
            "_view_count": null,
            "_view_module": "@jupyter-widgets/controls",
            "_view_module_version": "1.5.0",
            "_view_name": "HTMLView",
            "description": "",
            "description_tooltip": null,
            "layout": "IPY_MODEL_f62fc5b9eee344a0947f675062c063d0",
            "placeholder": "​",
            "style": "IPY_MODEL_554f88ea831e4cc09f6bfa41ae888470",
            "value": " 5120/? [00:00&lt;00:00, 4838.63it/s]"
          }
        },
        "381bbe5097584ced955906b842920f78": {
          "model_module": "@jupyter-widgets/base",
          "model_name": "LayoutModel",
          "model_module_version": "1.2.0",
          "state": {
            "_model_module": "@jupyter-widgets/base",
            "_model_module_version": "1.2.0",
            "_model_name": "LayoutModel",
            "_view_count": null,
            "_view_module": "@jupyter-widgets/base",
            "_view_module_version": "1.2.0",
            "_view_name": "LayoutView",
            "align_content": null,
            "align_items": null,
            "align_self": null,
            "border": null,
            "bottom": null,
            "display": null,
            "flex": null,
            "flex_flow": null,
            "grid_area": null,
            "grid_auto_columns": null,
            "grid_auto_flow": null,
            "grid_auto_rows": null,
            "grid_column": null,
            "grid_gap": null,
            "grid_row": null,
            "grid_template_areas": null,
            "grid_template_columns": null,
            "grid_template_rows": null,
            "height": null,
            "justify_content": null,
            "justify_items": null,
            "left": null,
            "margin": null,
            "max_height": null,
            "max_width": null,
            "min_height": null,
            "min_width": null,
            "object_fit": null,
            "object_position": null,
            "order": null,
            "overflow": null,
            "overflow_x": null,
            "overflow_y": null,
            "padding": null,
            "right": null,
            "top": null,
            "visibility": null,
            "width": null
          }
        },
        "7be1c9fa468f472782f0375e98e80fe9": {
          "model_module": "@jupyter-widgets/base",
          "model_name": "LayoutModel",
          "model_module_version": "1.2.0",
          "state": {
            "_model_module": "@jupyter-widgets/base",
            "_model_module_version": "1.2.0",
            "_model_name": "LayoutModel",
            "_view_count": null,
            "_view_module": "@jupyter-widgets/base",
            "_view_module_version": "1.2.0",
            "_view_name": "LayoutView",
            "align_content": null,
            "align_items": null,
            "align_self": null,
            "border": null,
            "bottom": null,
            "display": null,
            "flex": null,
            "flex_flow": null,
            "grid_area": null,
            "grid_auto_columns": null,
            "grid_auto_flow": null,
            "grid_auto_rows": null,
            "grid_column": null,
            "grid_gap": null,
            "grid_row": null,
            "grid_template_areas": null,
            "grid_template_columns": null,
            "grid_template_rows": null,
            "height": null,
            "justify_content": null,
            "justify_items": null,
            "left": null,
            "margin": null,
            "max_height": null,
            "max_width": null,
            "min_height": null,
            "min_width": null,
            "object_fit": null,
            "object_position": null,
            "order": null,
            "overflow": null,
            "overflow_x": null,
            "overflow_y": null,
            "padding": null,
            "right": null,
            "top": null,
            "visibility": null,
            "width": null
          }
        },
        "638a8ac2a7ef40febf945e02da808dd2": {
          "model_module": "@jupyter-widgets/controls",
          "model_name": "DescriptionStyleModel",
          "model_module_version": "1.5.0",
          "state": {
            "_model_module": "@jupyter-widgets/controls",
            "_model_module_version": "1.5.0",
            "_model_name": "DescriptionStyleModel",
            "_view_count": null,
            "_view_module": "@jupyter-widgets/base",
            "_view_module_version": "1.2.0",
            "_view_name": "StyleView",
            "description_width": ""
          }
        },
        "cdf9c4512eb845148ce3352d279c9e21": {
          "model_module": "@jupyter-widgets/base",
          "model_name": "LayoutModel",
          "model_module_version": "1.2.0",
          "state": {
            "_model_module": "@jupyter-widgets/base",
            "_model_module_version": "1.2.0",
            "_model_name": "LayoutModel",
            "_view_count": null,
            "_view_module": "@jupyter-widgets/base",
            "_view_module_version": "1.2.0",
            "_view_name": "LayoutView",
            "align_content": null,
            "align_items": null,
            "align_self": null,
            "border": null,
            "bottom": null,
            "display": null,
            "flex": null,
            "flex_flow": null,
            "grid_area": null,
            "grid_auto_columns": null,
            "grid_auto_flow": null,
            "grid_auto_rows": null,
            "grid_column": null,
            "grid_gap": null,
            "grid_row": null,
            "grid_template_areas": null,
            "grid_template_columns": null,
            "grid_template_rows": null,
            "height": null,
            "justify_content": null,
            "justify_items": null,
            "left": null,
            "margin": null,
            "max_height": null,
            "max_width": null,
            "min_height": null,
            "min_width": null,
            "object_fit": null,
            "object_position": null,
            "order": null,
            "overflow": null,
            "overflow_x": null,
            "overflow_y": null,
            "padding": null,
            "right": null,
            "top": null,
            "visibility": null,
            "width": null
          }
        },
        "92148e037930446588e5f19f7a6202e9": {
          "model_module": "@jupyter-widgets/controls",
          "model_name": "ProgressStyleModel",
          "model_module_version": "1.5.0",
          "state": {
            "_model_module": "@jupyter-widgets/controls",
            "_model_module_version": "1.5.0",
            "_model_name": "ProgressStyleModel",
            "_view_count": null,
            "_view_module": "@jupyter-widgets/base",
            "_view_module_version": "1.2.0",
            "_view_name": "StyleView",
            "bar_color": null,
            "description_width": ""
          }
        },
        "f62fc5b9eee344a0947f675062c063d0": {
          "model_module": "@jupyter-widgets/base",
          "model_name": "LayoutModel",
          "model_module_version": "1.2.0",
          "state": {
            "_model_module": "@jupyter-widgets/base",
            "_model_module_version": "1.2.0",
            "_model_name": "LayoutModel",
            "_view_count": null,
            "_view_module": "@jupyter-widgets/base",
            "_view_module_version": "1.2.0",
            "_view_name": "LayoutView",
            "align_content": null,
            "align_items": null,
            "align_self": null,
            "border": null,
            "bottom": null,
            "display": null,
            "flex": null,
            "flex_flow": null,
            "grid_area": null,
            "grid_auto_columns": null,
            "grid_auto_flow": null,
            "grid_auto_rows": null,
            "grid_column": null,
            "grid_gap": null,
            "grid_row": null,
            "grid_template_areas": null,
            "grid_template_columns": null,
            "grid_template_rows": null,
            "height": null,
            "justify_content": null,
            "justify_items": null,
            "left": null,
            "margin": null,
            "max_height": null,
            "max_width": null,
            "min_height": null,
            "min_width": null,
            "object_fit": null,
            "object_position": null,
            "order": null,
            "overflow": null,
            "overflow_x": null,
            "overflow_y": null,
            "padding": null,
            "right": null,
            "top": null,
            "visibility": null,
            "width": null
          }
        },
        "554f88ea831e4cc09f6bfa41ae888470": {
          "model_module": "@jupyter-widgets/controls",
          "model_name": "DescriptionStyleModel",
          "model_module_version": "1.5.0",
          "state": {
            "_model_module": "@jupyter-widgets/controls",
            "_model_module_version": "1.5.0",
            "_model_name": "DescriptionStyleModel",
            "_view_count": null,
            "_view_module": "@jupyter-widgets/base",
            "_view_module_version": "1.2.0",
            "_view_name": "StyleView",
            "description_width": ""
          }
        },
        "2101544f3db54b6caa905c459b674479": {
          "model_module": "@jupyter-widgets/controls",
          "model_name": "HBoxModel",
          "model_module_version": "1.5.0",
          "state": {
            "_dom_classes": [],
            "_model_module": "@jupyter-widgets/controls",
            "_model_module_version": "1.5.0",
            "_model_name": "HBoxModel",
            "_view_count": null,
            "_view_module": "@jupyter-widgets/controls",
            "_view_module_version": "1.5.0",
            "_view_name": "HBoxView",
            "box_style": "",
            "children": [
              "IPY_MODEL_b80aac21f0cd487a92fa3c157b81e8a9",
              "IPY_MODEL_533965c87b374799b3719d7ecdf29081",
              "IPY_MODEL_d277e49a04c14427a6803b170867e949"
            ],
            "layout": "IPY_MODEL_72e6b652cc394166a2ad94d73fdd6858"
          }
        },
        "b80aac21f0cd487a92fa3c157b81e8a9": {
          "model_module": "@jupyter-widgets/controls",
          "model_name": "HTMLModel",
          "model_module_version": "1.5.0",
          "state": {
            "_dom_classes": [],
            "_model_module": "@jupyter-widgets/controls",
            "_model_module_version": "1.5.0",
            "_model_name": "HTMLModel",
            "_view_count": null,
            "_view_module": "@jupyter-widgets/controls",
            "_view_module_version": "1.5.0",
            "_view_name": "HTMLView",
            "description": "",
            "description_tooltip": null,
            "layout": "IPY_MODEL_da77d017388849ff9c04e0d3bfdd6f85",
            "placeholder": "​",
            "style": "IPY_MODEL_901f38e77c184e18bdfd68c732fe8438",
            "value": ""
          }
        },
        "533965c87b374799b3719d7ecdf29081": {
          "model_module": "@jupyter-widgets/controls",
          "model_name": "FloatProgressModel",
          "model_module_version": "1.5.0",
          "state": {
            "_dom_classes": [],
            "_model_module": "@jupyter-widgets/controls",
            "_model_module_version": "1.5.0",
            "_model_name": "FloatProgressModel",
            "_view_count": null,
            "_view_module": "@jupyter-widgets/controls",
            "_view_module_version": "1.5.0",
            "_view_name": "ProgressView",
            "bar_style": "success",
            "description": "",
            "description_tooltip": null,
            "layout": "IPY_MODEL_bdec74a9d11c48a599863b430abe5435",
            "max": 9912422,
            "min": 0,
            "orientation": "horizontal",
            "style": "IPY_MODEL_ce489a60de994ef58e29168abd6d2ed5",
            "value": 9912422
          }
        },
        "d277e49a04c14427a6803b170867e949": {
          "model_module": "@jupyter-widgets/controls",
          "model_name": "HTMLModel",
          "model_module_version": "1.5.0",
          "state": {
            "_dom_classes": [],
            "_model_module": "@jupyter-widgets/controls",
            "_model_module_version": "1.5.0",
            "_model_name": "HTMLModel",
            "_view_count": null,
            "_view_module": "@jupyter-widgets/controls",
            "_view_module_version": "1.5.0",
            "_view_name": "HTMLView",
            "description": "",
            "description_tooltip": null,
            "layout": "IPY_MODEL_eb7e068ad49f40dca8b0542b95d83e6c",
            "placeholder": "​",
            "style": "IPY_MODEL_51001e7edb26411b8f36eedb8207cce9",
            "value": " 9913344/? [00:00&lt;00:00, 18373456.99it/s]"
          }
        },
        "72e6b652cc394166a2ad94d73fdd6858": {
          "model_module": "@jupyter-widgets/base",
          "model_name": "LayoutModel",
          "model_module_version": "1.2.0",
          "state": {
            "_model_module": "@jupyter-widgets/base",
            "_model_module_version": "1.2.0",
            "_model_name": "LayoutModel",
            "_view_count": null,
            "_view_module": "@jupyter-widgets/base",
            "_view_module_version": "1.2.0",
            "_view_name": "LayoutView",
            "align_content": null,
            "align_items": null,
            "align_self": null,
            "border": null,
            "bottom": null,
            "display": null,
            "flex": null,
            "flex_flow": null,
            "grid_area": null,
            "grid_auto_columns": null,
            "grid_auto_flow": null,
            "grid_auto_rows": null,
            "grid_column": null,
            "grid_gap": null,
            "grid_row": null,
            "grid_template_areas": null,
            "grid_template_columns": null,
            "grid_template_rows": null,
            "height": null,
            "justify_content": null,
            "justify_items": null,
            "left": null,
            "margin": null,
            "max_height": null,
            "max_width": null,
            "min_height": null,
            "min_width": null,
            "object_fit": null,
            "object_position": null,
            "order": null,
            "overflow": null,
            "overflow_x": null,
            "overflow_y": null,
            "padding": null,
            "right": null,
            "top": null,
            "visibility": null,
            "width": null
          }
        },
        "da77d017388849ff9c04e0d3bfdd6f85": {
          "model_module": "@jupyter-widgets/base",
          "model_name": "LayoutModel",
          "model_module_version": "1.2.0",
          "state": {
            "_model_module": "@jupyter-widgets/base",
            "_model_module_version": "1.2.0",
            "_model_name": "LayoutModel",
            "_view_count": null,
            "_view_module": "@jupyter-widgets/base",
            "_view_module_version": "1.2.0",
            "_view_name": "LayoutView",
            "align_content": null,
            "align_items": null,
            "align_self": null,
            "border": null,
            "bottom": null,
            "display": null,
            "flex": null,
            "flex_flow": null,
            "grid_area": null,
            "grid_auto_columns": null,
            "grid_auto_flow": null,
            "grid_auto_rows": null,
            "grid_column": null,
            "grid_gap": null,
            "grid_row": null,
            "grid_template_areas": null,
            "grid_template_columns": null,
            "grid_template_rows": null,
            "height": null,
            "justify_content": null,
            "justify_items": null,
            "left": null,
            "margin": null,
            "max_height": null,
            "max_width": null,
            "min_height": null,
            "min_width": null,
            "object_fit": null,
            "object_position": null,
            "order": null,
            "overflow": null,
            "overflow_x": null,
            "overflow_y": null,
            "padding": null,
            "right": null,
            "top": null,
            "visibility": null,
            "width": null
          }
        },
        "901f38e77c184e18bdfd68c732fe8438": {
          "model_module": "@jupyter-widgets/controls",
          "model_name": "DescriptionStyleModel",
          "model_module_version": "1.5.0",
          "state": {
            "_model_module": "@jupyter-widgets/controls",
            "_model_module_version": "1.5.0",
            "_model_name": "DescriptionStyleModel",
            "_view_count": null,
            "_view_module": "@jupyter-widgets/base",
            "_view_module_version": "1.2.0",
            "_view_name": "StyleView",
            "description_width": ""
          }
        },
        "bdec74a9d11c48a599863b430abe5435": {
          "model_module": "@jupyter-widgets/base",
          "model_name": "LayoutModel",
          "model_module_version": "1.2.0",
          "state": {
            "_model_module": "@jupyter-widgets/base",
            "_model_module_version": "1.2.0",
            "_model_name": "LayoutModel",
            "_view_count": null,
            "_view_module": "@jupyter-widgets/base",
            "_view_module_version": "1.2.0",
            "_view_name": "LayoutView",
            "align_content": null,
            "align_items": null,
            "align_self": null,
            "border": null,
            "bottom": null,
            "display": null,
            "flex": null,
            "flex_flow": null,
            "grid_area": null,
            "grid_auto_columns": null,
            "grid_auto_flow": null,
            "grid_auto_rows": null,
            "grid_column": null,
            "grid_gap": null,
            "grid_row": null,
            "grid_template_areas": null,
            "grid_template_columns": null,
            "grid_template_rows": null,
            "height": null,
            "justify_content": null,
            "justify_items": null,
            "left": null,
            "margin": null,
            "max_height": null,
            "max_width": null,
            "min_height": null,
            "min_width": null,
            "object_fit": null,
            "object_position": null,
            "order": null,
            "overflow": null,
            "overflow_x": null,
            "overflow_y": null,
            "padding": null,
            "right": null,
            "top": null,
            "visibility": null,
            "width": null
          }
        },
        "ce489a60de994ef58e29168abd6d2ed5": {
          "model_module": "@jupyter-widgets/controls",
          "model_name": "ProgressStyleModel",
          "model_module_version": "1.5.0",
          "state": {
            "_model_module": "@jupyter-widgets/controls",
            "_model_module_version": "1.5.0",
            "_model_name": "ProgressStyleModel",
            "_view_count": null,
            "_view_module": "@jupyter-widgets/base",
            "_view_module_version": "1.2.0",
            "_view_name": "StyleView",
            "bar_color": null,
            "description_width": ""
          }
        },
        "eb7e068ad49f40dca8b0542b95d83e6c": {
          "model_module": "@jupyter-widgets/base",
          "model_name": "LayoutModel",
          "model_module_version": "1.2.0",
          "state": {
            "_model_module": "@jupyter-widgets/base",
            "_model_module_version": "1.2.0",
            "_model_name": "LayoutModel",
            "_view_count": null,
            "_view_module": "@jupyter-widgets/base",
            "_view_module_version": "1.2.0",
            "_view_name": "LayoutView",
            "align_content": null,
            "align_items": null,
            "align_self": null,
            "border": null,
            "bottom": null,
            "display": null,
            "flex": null,
            "flex_flow": null,
            "grid_area": null,
            "grid_auto_columns": null,
            "grid_auto_flow": null,
            "grid_auto_rows": null,
            "grid_column": null,
            "grid_gap": null,
            "grid_row": null,
            "grid_template_areas": null,
            "grid_template_columns": null,
            "grid_template_rows": null,
            "height": null,
            "justify_content": null,
            "justify_items": null,
            "left": null,
            "margin": null,
            "max_height": null,
            "max_width": null,
            "min_height": null,
            "min_width": null,
            "object_fit": null,
            "object_position": null,
            "order": null,
            "overflow": null,
            "overflow_x": null,
            "overflow_y": null,
            "padding": null,
            "right": null,
            "top": null,
            "visibility": null,
            "width": null
          }
        },
        "51001e7edb26411b8f36eedb8207cce9": {
          "model_module": "@jupyter-widgets/controls",
          "model_name": "DescriptionStyleModel",
          "model_module_version": "1.5.0",
          "state": {
            "_model_module": "@jupyter-widgets/controls",
            "_model_module_version": "1.5.0",
            "_model_name": "DescriptionStyleModel",
            "_view_count": null,
            "_view_module": "@jupyter-widgets/base",
            "_view_module_version": "1.2.0",
            "_view_name": "StyleView",
            "description_width": ""
          }
        },
        "0791b4aff65b4677aa07d7928b03fda9": {
          "model_module": "@jupyter-widgets/controls",
          "model_name": "HBoxModel",
          "model_module_version": "1.5.0",
          "state": {
            "_dom_classes": [],
            "_model_module": "@jupyter-widgets/controls",
            "_model_module_version": "1.5.0",
            "_model_name": "HBoxModel",
            "_view_count": null,
            "_view_module": "@jupyter-widgets/controls",
            "_view_module_version": "1.5.0",
            "_view_name": "HBoxView",
            "box_style": "",
            "children": [
              "IPY_MODEL_21d74507ef2e49ac928e0159af40e701",
              "IPY_MODEL_c8f515edfb4f48fea03f2935e4fde804",
              "IPY_MODEL_b1f1cae4a273438886b476c0c90fc52d"
            ],
            "layout": "IPY_MODEL_1067729c32714299ba57e743adce7b24"
          }
        },
        "21d74507ef2e49ac928e0159af40e701": {
          "model_module": "@jupyter-widgets/controls",
          "model_name": "HTMLModel",
          "model_module_version": "1.5.0",
          "state": {
            "_dom_classes": [],
            "_model_module": "@jupyter-widgets/controls",
            "_model_module_version": "1.5.0",
            "_model_name": "HTMLModel",
            "_view_count": null,
            "_view_module": "@jupyter-widgets/controls",
            "_view_module_version": "1.5.0",
            "_view_name": "HTMLView",
            "description": "",
            "description_tooltip": null,
            "layout": "IPY_MODEL_a83f03552d5c4845a035f72ae39fc136",
            "placeholder": "​",
            "style": "IPY_MODEL_353e2caff147403c81d6821190a0f086",
            "value": ""
          }
        },
        "c8f515edfb4f48fea03f2935e4fde804": {
          "model_module": "@jupyter-widgets/controls",
          "model_name": "FloatProgressModel",
          "model_module_version": "1.5.0",
          "state": {
            "_dom_classes": [],
            "_model_module": "@jupyter-widgets/controls",
            "_model_module_version": "1.5.0",
            "_model_name": "FloatProgressModel",
            "_view_count": null,
            "_view_module": "@jupyter-widgets/controls",
            "_view_module_version": "1.5.0",
            "_view_name": "ProgressView",
            "bar_style": "success",
            "description": "",
            "description_tooltip": null,
            "layout": "IPY_MODEL_33cb4527fbad4b3fb733098962223303",
            "max": 28881,
            "min": 0,
            "orientation": "horizontal",
            "style": "IPY_MODEL_390e220ed86b4d5e979a264c482b120c",
            "value": 28881
          }
        },
        "b1f1cae4a273438886b476c0c90fc52d": {
          "model_module": "@jupyter-widgets/controls",
          "model_name": "HTMLModel",
          "model_module_version": "1.5.0",
          "state": {
            "_dom_classes": [],
            "_model_module": "@jupyter-widgets/controls",
            "_model_module_version": "1.5.0",
            "_model_name": "HTMLModel",
            "_view_count": null,
            "_view_module": "@jupyter-widgets/controls",
            "_view_module_version": "1.5.0",
            "_view_name": "HTMLView",
            "description": "",
            "description_tooltip": null,
            "layout": "IPY_MODEL_adcc11f15944473faf25f25927ce320d",
            "placeholder": "​",
            "style": "IPY_MODEL_13eb4a5063274d089d714d7241cac9c0",
            "value": " 29696/? [00:00&lt;00:00, 8706.60it/s]"
          }
        },
        "1067729c32714299ba57e743adce7b24": {
          "model_module": "@jupyter-widgets/base",
          "model_name": "LayoutModel",
          "model_module_version": "1.2.0",
          "state": {
            "_model_module": "@jupyter-widgets/base",
            "_model_module_version": "1.2.0",
            "_model_name": "LayoutModel",
            "_view_count": null,
            "_view_module": "@jupyter-widgets/base",
            "_view_module_version": "1.2.0",
            "_view_name": "LayoutView",
            "align_content": null,
            "align_items": null,
            "align_self": null,
            "border": null,
            "bottom": null,
            "display": null,
            "flex": null,
            "flex_flow": null,
            "grid_area": null,
            "grid_auto_columns": null,
            "grid_auto_flow": null,
            "grid_auto_rows": null,
            "grid_column": null,
            "grid_gap": null,
            "grid_row": null,
            "grid_template_areas": null,
            "grid_template_columns": null,
            "grid_template_rows": null,
            "height": null,
            "justify_content": null,
            "justify_items": null,
            "left": null,
            "margin": null,
            "max_height": null,
            "max_width": null,
            "min_height": null,
            "min_width": null,
            "object_fit": null,
            "object_position": null,
            "order": null,
            "overflow": null,
            "overflow_x": null,
            "overflow_y": null,
            "padding": null,
            "right": null,
            "top": null,
            "visibility": null,
            "width": null
          }
        },
        "a83f03552d5c4845a035f72ae39fc136": {
          "model_module": "@jupyter-widgets/base",
          "model_name": "LayoutModel",
          "model_module_version": "1.2.0",
          "state": {
            "_model_module": "@jupyter-widgets/base",
            "_model_module_version": "1.2.0",
            "_model_name": "LayoutModel",
            "_view_count": null,
            "_view_module": "@jupyter-widgets/base",
            "_view_module_version": "1.2.0",
            "_view_name": "LayoutView",
            "align_content": null,
            "align_items": null,
            "align_self": null,
            "border": null,
            "bottom": null,
            "display": null,
            "flex": null,
            "flex_flow": null,
            "grid_area": null,
            "grid_auto_columns": null,
            "grid_auto_flow": null,
            "grid_auto_rows": null,
            "grid_column": null,
            "grid_gap": null,
            "grid_row": null,
            "grid_template_areas": null,
            "grid_template_columns": null,
            "grid_template_rows": null,
            "height": null,
            "justify_content": null,
            "justify_items": null,
            "left": null,
            "margin": null,
            "max_height": null,
            "max_width": null,
            "min_height": null,
            "min_width": null,
            "object_fit": null,
            "object_position": null,
            "order": null,
            "overflow": null,
            "overflow_x": null,
            "overflow_y": null,
            "padding": null,
            "right": null,
            "top": null,
            "visibility": null,
            "width": null
          }
        },
        "353e2caff147403c81d6821190a0f086": {
          "model_module": "@jupyter-widgets/controls",
          "model_name": "DescriptionStyleModel",
          "model_module_version": "1.5.0",
          "state": {
            "_model_module": "@jupyter-widgets/controls",
            "_model_module_version": "1.5.0",
            "_model_name": "DescriptionStyleModel",
            "_view_count": null,
            "_view_module": "@jupyter-widgets/base",
            "_view_module_version": "1.2.0",
            "_view_name": "StyleView",
            "description_width": ""
          }
        },
        "33cb4527fbad4b3fb733098962223303": {
          "model_module": "@jupyter-widgets/base",
          "model_name": "LayoutModel",
          "model_module_version": "1.2.0",
          "state": {
            "_model_module": "@jupyter-widgets/base",
            "_model_module_version": "1.2.0",
            "_model_name": "LayoutModel",
            "_view_count": null,
            "_view_module": "@jupyter-widgets/base",
            "_view_module_version": "1.2.0",
            "_view_name": "LayoutView",
            "align_content": null,
            "align_items": null,
            "align_self": null,
            "border": null,
            "bottom": null,
            "display": null,
            "flex": null,
            "flex_flow": null,
            "grid_area": null,
            "grid_auto_columns": null,
            "grid_auto_flow": null,
            "grid_auto_rows": null,
            "grid_column": null,
            "grid_gap": null,
            "grid_row": null,
            "grid_template_areas": null,
            "grid_template_columns": null,
            "grid_template_rows": null,
            "height": null,
            "justify_content": null,
            "justify_items": null,
            "left": null,
            "margin": null,
            "max_height": null,
            "max_width": null,
            "min_height": null,
            "min_width": null,
            "object_fit": null,
            "object_position": null,
            "order": null,
            "overflow": null,
            "overflow_x": null,
            "overflow_y": null,
            "padding": null,
            "right": null,
            "top": null,
            "visibility": null,
            "width": null
          }
        },
        "390e220ed86b4d5e979a264c482b120c": {
          "model_module": "@jupyter-widgets/controls",
          "model_name": "ProgressStyleModel",
          "model_module_version": "1.5.0",
          "state": {
            "_model_module": "@jupyter-widgets/controls",
            "_model_module_version": "1.5.0",
            "_model_name": "ProgressStyleModel",
            "_view_count": null,
            "_view_module": "@jupyter-widgets/base",
            "_view_module_version": "1.2.0",
            "_view_name": "StyleView",
            "bar_color": null,
            "description_width": ""
          }
        },
        "adcc11f15944473faf25f25927ce320d": {
          "model_module": "@jupyter-widgets/base",
          "model_name": "LayoutModel",
          "model_module_version": "1.2.0",
          "state": {
            "_model_module": "@jupyter-widgets/base",
            "_model_module_version": "1.2.0",
            "_model_name": "LayoutModel",
            "_view_count": null,
            "_view_module": "@jupyter-widgets/base",
            "_view_module_version": "1.2.0",
            "_view_name": "LayoutView",
            "align_content": null,
            "align_items": null,
            "align_self": null,
            "border": null,
            "bottom": null,
            "display": null,
            "flex": null,
            "flex_flow": null,
            "grid_area": null,
            "grid_auto_columns": null,
            "grid_auto_flow": null,
            "grid_auto_rows": null,
            "grid_column": null,
            "grid_gap": null,
            "grid_row": null,
            "grid_template_areas": null,
            "grid_template_columns": null,
            "grid_template_rows": null,
            "height": null,
            "justify_content": null,
            "justify_items": null,
            "left": null,
            "margin": null,
            "max_height": null,
            "max_width": null,
            "min_height": null,
            "min_width": null,
            "object_fit": null,
            "object_position": null,
            "order": null,
            "overflow": null,
            "overflow_x": null,
            "overflow_y": null,
            "padding": null,
            "right": null,
            "top": null,
            "visibility": null,
            "width": null
          }
        },
        "13eb4a5063274d089d714d7241cac9c0": {
          "model_module": "@jupyter-widgets/controls",
          "model_name": "DescriptionStyleModel",
          "model_module_version": "1.5.0",
          "state": {
            "_model_module": "@jupyter-widgets/controls",
            "_model_module_version": "1.5.0",
            "_model_name": "DescriptionStyleModel",
            "_view_count": null,
            "_view_module": "@jupyter-widgets/base",
            "_view_module_version": "1.2.0",
            "_view_name": "StyleView",
            "description_width": ""
          }
        },
        "6a7967b10faf43a685bb7bb81a6afa14": {
          "model_module": "@jupyter-widgets/controls",
          "model_name": "HBoxModel",
          "model_module_version": "1.5.0",
          "state": {
            "_dom_classes": [],
            "_model_module": "@jupyter-widgets/controls",
            "_model_module_version": "1.5.0",
            "_model_name": "HBoxModel",
            "_view_count": null,
            "_view_module": "@jupyter-widgets/controls",
            "_view_module_version": "1.5.0",
            "_view_name": "HBoxView",
            "box_style": "",
            "children": [
              "IPY_MODEL_f06fb03fa74247f3b2411fdf0761c434",
              "IPY_MODEL_741bb11a36f7457db08a7c600cc3bb88",
              "IPY_MODEL_0885e80d26484116aebac3e6f9684bc6"
            ],
            "layout": "IPY_MODEL_6281b6bdfcc34140b74715666d2fbf58"
          }
        },
        "f06fb03fa74247f3b2411fdf0761c434": {
          "model_module": "@jupyter-widgets/controls",
          "model_name": "HTMLModel",
          "model_module_version": "1.5.0",
          "state": {
            "_dom_classes": [],
            "_model_module": "@jupyter-widgets/controls",
            "_model_module_version": "1.5.0",
            "_model_name": "HTMLModel",
            "_view_count": null,
            "_view_module": "@jupyter-widgets/controls",
            "_view_module_version": "1.5.0",
            "_view_name": "HTMLView",
            "description": "",
            "description_tooltip": null,
            "layout": "IPY_MODEL_7147369221bc474690c60d5ebff65af3",
            "placeholder": "​",
            "style": "IPY_MODEL_d66c68fd8388452dac8bd9b0b4062e29",
            "value": ""
          }
        },
        "741bb11a36f7457db08a7c600cc3bb88": {
          "model_module": "@jupyter-widgets/controls",
          "model_name": "FloatProgressModel",
          "model_module_version": "1.5.0",
          "state": {
            "_dom_classes": [],
            "_model_module": "@jupyter-widgets/controls",
            "_model_module_version": "1.5.0",
            "_model_name": "FloatProgressModel",
            "_view_count": null,
            "_view_module": "@jupyter-widgets/controls",
            "_view_module_version": "1.5.0",
            "_view_name": "ProgressView",
            "bar_style": "success",
            "description": "",
            "description_tooltip": null,
            "layout": "IPY_MODEL_13e41be6a99141fb9e66bb06d754aadb",
            "max": 1648877,
            "min": 0,
            "orientation": "horizontal",
            "style": "IPY_MODEL_d0af5acbe47e48f6998254b951ab4059",
            "value": 1648877
          }
        },
        "0885e80d26484116aebac3e6f9684bc6": {
          "model_module": "@jupyter-widgets/controls",
          "model_name": "HTMLModel",
          "model_module_version": "1.5.0",
          "state": {
            "_dom_classes": [],
            "_model_module": "@jupyter-widgets/controls",
            "_model_module_version": "1.5.0",
            "_model_name": "HTMLModel",
            "_view_count": null,
            "_view_module": "@jupyter-widgets/controls",
            "_view_module_version": "1.5.0",
            "_view_name": "HTMLView",
            "description": "",
            "description_tooltip": null,
            "layout": "IPY_MODEL_323d9a52f969481fbfb6d4039df08ff4",
            "placeholder": "​",
            "style": "IPY_MODEL_d5dc5560da5d49c19a3a4bf000f34604",
            "value": " 1649664/? [00:00&lt;00:00, 6318954.25it/s]"
          }
        },
        "6281b6bdfcc34140b74715666d2fbf58": {
          "model_module": "@jupyter-widgets/base",
          "model_name": "LayoutModel",
          "model_module_version": "1.2.0",
          "state": {
            "_model_module": "@jupyter-widgets/base",
            "_model_module_version": "1.2.0",
            "_model_name": "LayoutModel",
            "_view_count": null,
            "_view_module": "@jupyter-widgets/base",
            "_view_module_version": "1.2.0",
            "_view_name": "LayoutView",
            "align_content": null,
            "align_items": null,
            "align_self": null,
            "border": null,
            "bottom": null,
            "display": null,
            "flex": null,
            "flex_flow": null,
            "grid_area": null,
            "grid_auto_columns": null,
            "grid_auto_flow": null,
            "grid_auto_rows": null,
            "grid_column": null,
            "grid_gap": null,
            "grid_row": null,
            "grid_template_areas": null,
            "grid_template_columns": null,
            "grid_template_rows": null,
            "height": null,
            "justify_content": null,
            "justify_items": null,
            "left": null,
            "margin": null,
            "max_height": null,
            "max_width": null,
            "min_height": null,
            "min_width": null,
            "object_fit": null,
            "object_position": null,
            "order": null,
            "overflow": null,
            "overflow_x": null,
            "overflow_y": null,
            "padding": null,
            "right": null,
            "top": null,
            "visibility": null,
            "width": null
          }
        },
        "7147369221bc474690c60d5ebff65af3": {
          "model_module": "@jupyter-widgets/base",
          "model_name": "LayoutModel",
          "model_module_version": "1.2.0",
          "state": {
            "_model_module": "@jupyter-widgets/base",
            "_model_module_version": "1.2.0",
            "_model_name": "LayoutModel",
            "_view_count": null,
            "_view_module": "@jupyter-widgets/base",
            "_view_module_version": "1.2.0",
            "_view_name": "LayoutView",
            "align_content": null,
            "align_items": null,
            "align_self": null,
            "border": null,
            "bottom": null,
            "display": null,
            "flex": null,
            "flex_flow": null,
            "grid_area": null,
            "grid_auto_columns": null,
            "grid_auto_flow": null,
            "grid_auto_rows": null,
            "grid_column": null,
            "grid_gap": null,
            "grid_row": null,
            "grid_template_areas": null,
            "grid_template_columns": null,
            "grid_template_rows": null,
            "height": null,
            "justify_content": null,
            "justify_items": null,
            "left": null,
            "margin": null,
            "max_height": null,
            "max_width": null,
            "min_height": null,
            "min_width": null,
            "object_fit": null,
            "object_position": null,
            "order": null,
            "overflow": null,
            "overflow_x": null,
            "overflow_y": null,
            "padding": null,
            "right": null,
            "top": null,
            "visibility": null,
            "width": null
          }
        },
        "d66c68fd8388452dac8bd9b0b4062e29": {
          "model_module": "@jupyter-widgets/controls",
          "model_name": "DescriptionStyleModel",
          "model_module_version": "1.5.0",
          "state": {
            "_model_module": "@jupyter-widgets/controls",
            "_model_module_version": "1.5.0",
            "_model_name": "DescriptionStyleModel",
            "_view_count": null,
            "_view_module": "@jupyter-widgets/base",
            "_view_module_version": "1.2.0",
            "_view_name": "StyleView",
            "description_width": ""
          }
        },
        "13e41be6a99141fb9e66bb06d754aadb": {
          "model_module": "@jupyter-widgets/base",
          "model_name": "LayoutModel",
          "model_module_version": "1.2.0",
          "state": {
            "_model_module": "@jupyter-widgets/base",
            "_model_module_version": "1.2.0",
            "_model_name": "LayoutModel",
            "_view_count": null,
            "_view_module": "@jupyter-widgets/base",
            "_view_module_version": "1.2.0",
            "_view_name": "LayoutView",
            "align_content": null,
            "align_items": null,
            "align_self": null,
            "border": null,
            "bottom": null,
            "display": null,
            "flex": null,
            "flex_flow": null,
            "grid_area": null,
            "grid_auto_columns": null,
            "grid_auto_flow": null,
            "grid_auto_rows": null,
            "grid_column": null,
            "grid_gap": null,
            "grid_row": null,
            "grid_template_areas": null,
            "grid_template_columns": null,
            "grid_template_rows": null,
            "height": null,
            "justify_content": null,
            "justify_items": null,
            "left": null,
            "margin": null,
            "max_height": null,
            "max_width": null,
            "min_height": null,
            "min_width": null,
            "object_fit": null,
            "object_position": null,
            "order": null,
            "overflow": null,
            "overflow_x": null,
            "overflow_y": null,
            "padding": null,
            "right": null,
            "top": null,
            "visibility": null,
            "width": null
          }
        },
        "d0af5acbe47e48f6998254b951ab4059": {
          "model_module": "@jupyter-widgets/controls",
          "model_name": "ProgressStyleModel",
          "model_module_version": "1.5.0",
          "state": {
            "_model_module": "@jupyter-widgets/controls",
            "_model_module_version": "1.5.0",
            "_model_name": "ProgressStyleModel",
            "_view_count": null,
            "_view_module": "@jupyter-widgets/base",
            "_view_module_version": "1.2.0",
            "_view_name": "StyleView",
            "bar_color": null,
            "description_width": ""
          }
        },
        "323d9a52f969481fbfb6d4039df08ff4": {
          "model_module": "@jupyter-widgets/base",
          "model_name": "LayoutModel",
          "model_module_version": "1.2.0",
          "state": {
            "_model_module": "@jupyter-widgets/base",
            "_model_module_version": "1.2.0",
            "_model_name": "LayoutModel",
            "_view_count": null,
            "_view_module": "@jupyter-widgets/base",
            "_view_module_version": "1.2.0",
            "_view_name": "LayoutView",
            "align_content": null,
            "align_items": null,
            "align_self": null,
            "border": null,
            "bottom": null,
            "display": null,
            "flex": null,
            "flex_flow": null,
            "grid_area": null,
            "grid_auto_columns": null,
            "grid_auto_flow": null,
            "grid_auto_rows": null,
            "grid_column": null,
            "grid_gap": null,
            "grid_row": null,
            "grid_template_areas": null,
            "grid_template_columns": null,
            "grid_template_rows": null,
            "height": null,
            "justify_content": null,
            "justify_items": null,
            "left": null,
            "margin": null,
            "max_height": null,
            "max_width": null,
            "min_height": null,
            "min_width": null,
            "object_fit": null,
            "object_position": null,
            "order": null,
            "overflow": null,
            "overflow_x": null,
            "overflow_y": null,
            "padding": null,
            "right": null,
            "top": null,
            "visibility": null,
            "width": null
          }
        },
        "d5dc5560da5d49c19a3a4bf000f34604": {
          "model_module": "@jupyter-widgets/controls",
          "model_name": "DescriptionStyleModel",
          "model_module_version": "1.5.0",
          "state": {
            "_model_module": "@jupyter-widgets/controls",
            "_model_module_version": "1.5.0",
            "_model_name": "DescriptionStyleModel",
            "_view_count": null,
            "_view_module": "@jupyter-widgets/base",
            "_view_module_version": "1.2.0",
            "_view_name": "StyleView",
            "description_width": ""
          }
        },
        "50778826045c4d44902ed88ca6794e4a": {
          "model_module": "@jupyter-widgets/controls",
          "model_name": "HBoxModel",
          "model_module_version": "1.5.0",
          "state": {
            "_dom_classes": [],
            "_model_module": "@jupyter-widgets/controls",
            "_model_module_version": "1.5.0",
            "_model_name": "HBoxModel",
            "_view_count": null,
            "_view_module": "@jupyter-widgets/controls",
            "_view_module_version": "1.5.0",
            "_view_name": "HBoxView",
            "box_style": "",
            "children": [
              "IPY_MODEL_53756aeeac924a128c5b650bb329850b",
              "IPY_MODEL_183ad74122b945a0992a29b0a1c6c43e",
              "IPY_MODEL_08d1d60e2f8248a192b52b9044284e15"
            ],
            "layout": "IPY_MODEL_71c894e8f7494d8bace6df50aa9d082c"
          }
        },
        "53756aeeac924a128c5b650bb329850b": {
          "model_module": "@jupyter-widgets/controls",
          "model_name": "HTMLModel",
          "model_module_version": "1.5.0",
          "state": {
            "_dom_classes": [],
            "_model_module": "@jupyter-widgets/controls",
            "_model_module_version": "1.5.0",
            "_model_name": "HTMLModel",
            "_view_count": null,
            "_view_module": "@jupyter-widgets/controls",
            "_view_module_version": "1.5.0",
            "_view_name": "HTMLView",
            "description": "",
            "description_tooltip": null,
            "layout": "IPY_MODEL_ed49176c4b9a4e2c801e2d4164f7cf40",
            "placeholder": "​",
            "style": "IPY_MODEL_96a8b7bb2ba041ccaea4e70f356a4af2",
            "value": ""
          }
        },
        "183ad74122b945a0992a29b0a1c6c43e": {
          "model_module": "@jupyter-widgets/controls",
          "model_name": "FloatProgressModel",
          "model_module_version": "1.5.0",
          "state": {
            "_dom_classes": [],
            "_model_module": "@jupyter-widgets/controls",
            "_model_module_version": "1.5.0",
            "_model_name": "FloatProgressModel",
            "_view_count": null,
            "_view_module": "@jupyter-widgets/controls",
            "_view_module_version": "1.5.0",
            "_view_name": "ProgressView",
            "bar_style": "success",
            "description": "",
            "description_tooltip": null,
            "layout": "IPY_MODEL_6628579a6f7248339e6b3357a4e5a2f5",
            "max": 4542,
            "min": 0,
            "orientation": "horizontal",
            "style": "IPY_MODEL_006a0a77796a4977bc36b70517e6c515",
            "value": 4542
          }
        },
        "08d1d60e2f8248a192b52b9044284e15": {
          "model_module": "@jupyter-widgets/controls",
          "model_name": "HTMLModel",
          "model_module_version": "1.5.0",
          "state": {
            "_dom_classes": [],
            "_model_module": "@jupyter-widgets/controls",
            "_model_module_version": "1.5.0",
            "_model_name": "HTMLModel",
            "_view_count": null,
            "_view_module": "@jupyter-widgets/controls",
            "_view_module_version": "1.5.0",
            "_view_name": "HTMLView",
            "description": "",
            "description_tooltip": null,
            "layout": "IPY_MODEL_3c74e352f515489586e1f0835923b22e",
            "placeholder": "​",
            "style": "IPY_MODEL_060063a9eb0a4335b78165ea79edc431",
            "value": " 5120/? [00:00&lt;00:00, 6753.89it/s]"
          }
        },
        "71c894e8f7494d8bace6df50aa9d082c": {
          "model_module": "@jupyter-widgets/base",
          "model_name": "LayoutModel",
          "model_module_version": "1.2.0",
          "state": {
            "_model_module": "@jupyter-widgets/base",
            "_model_module_version": "1.2.0",
            "_model_name": "LayoutModel",
            "_view_count": null,
            "_view_module": "@jupyter-widgets/base",
            "_view_module_version": "1.2.0",
            "_view_name": "LayoutView",
            "align_content": null,
            "align_items": null,
            "align_self": null,
            "border": null,
            "bottom": null,
            "display": null,
            "flex": null,
            "flex_flow": null,
            "grid_area": null,
            "grid_auto_columns": null,
            "grid_auto_flow": null,
            "grid_auto_rows": null,
            "grid_column": null,
            "grid_gap": null,
            "grid_row": null,
            "grid_template_areas": null,
            "grid_template_columns": null,
            "grid_template_rows": null,
            "height": null,
            "justify_content": null,
            "justify_items": null,
            "left": null,
            "margin": null,
            "max_height": null,
            "max_width": null,
            "min_height": null,
            "min_width": null,
            "object_fit": null,
            "object_position": null,
            "order": null,
            "overflow": null,
            "overflow_x": null,
            "overflow_y": null,
            "padding": null,
            "right": null,
            "top": null,
            "visibility": null,
            "width": null
          }
        },
        "ed49176c4b9a4e2c801e2d4164f7cf40": {
          "model_module": "@jupyter-widgets/base",
          "model_name": "LayoutModel",
          "model_module_version": "1.2.0",
          "state": {
            "_model_module": "@jupyter-widgets/base",
            "_model_module_version": "1.2.0",
            "_model_name": "LayoutModel",
            "_view_count": null,
            "_view_module": "@jupyter-widgets/base",
            "_view_module_version": "1.2.0",
            "_view_name": "LayoutView",
            "align_content": null,
            "align_items": null,
            "align_self": null,
            "border": null,
            "bottom": null,
            "display": null,
            "flex": null,
            "flex_flow": null,
            "grid_area": null,
            "grid_auto_columns": null,
            "grid_auto_flow": null,
            "grid_auto_rows": null,
            "grid_column": null,
            "grid_gap": null,
            "grid_row": null,
            "grid_template_areas": null,
            "grid_template_columns": null,
            "grid_template_rows": null,
            "height": null,
            "justify_content": null,
            "justify_items": null,
            "left": null,
            "margin": null,
            "max_height": null,
            "max_width": null,
            "min_height": null,
            "min_width": null,
            "object_fit": null,
            "object_position": null,
            "order": null,
            "overflow": null,
            "overflow_x": null,
            "overflow_y": null,
            "padding": null,
            "right": null,
            "top": null,
            "visibility": null,
            "width": null
          }
        },
        "96a8b7bb2ba041ccaea4e70f356a4af2": {
          "model_module": "@jupyter-widgets/controls",
          "model_name": "DescriptionStyleModel",
          "model_module_version": "1.5.0",
          "state": {
            "_model_module": "@jupyter-widgets/controls",
            "_model_module_version": "1.5.0",
            "_model_name": "DescriptionStyleModel",
            "_view_count": null,
            "_view_module": "@jupyter-widgets/base",
            "_view_module_version": "1.2.0",
            "_view_name": "StyleView",
            "description_width": ""
          }
        },
        "6628579a6f7248339e6b3357a4e5a2f5": {
          "model_module": "@jupyter-widgets/base",
          "model_name": "LayoutModel",
          "model_module_version": "1.2.0",
          "state": {
            "_model_module": "@jupyter-widgets/base",
            "_model_module_version": "1.2.0",
            "_model_name": "LayoutModel",
            "_view_count": null,
            "_view_module": "@jupyter-widgets/base",
            "_view_module_version": "1.2.0",
            "_view_name": "LayoutView",
            "align_content": null,
            "align_items": null,
            "align_self": null,
            "border": null,
            "bottom": null,
            "display": null,
            "flex": null,
            "flex_flow": null,
            "grid_area": null,
            "grid_auto_columns": null,
            "grid_auto_flow": null,
            "grid_auto_rows": null,
            "grid_column": null,
            "grid_gap": null,
            "grid_row": null,
            "grid_template_areas": null,
            "grid_template_columns": null,
            "grid_template_rows": null,
            "height": null,
            "justify_content": null,
            "justify_items": null,
            "left": null,
            "margin": null,
            "max_height": null,
            "max_width": null,
            "min_height": null,
            "min_width": null,
            "object_fit": null,
            "object_position": null,
            "order": null,
            "overflow": null,
            "overflow_x": null,
            "overflow_y": null,
            "padding": null,
            "right": null,
            "top": null,
            "visibility": null,
            "width": null
          }
        },
        "006a0a77796a4977bc36b70517e6c515": {
          "model_module": "@jupyter-widgets/controls",
          "model_name": "ProgressStyleModel",
          "model_module_version": "1.5.0",
          "state": {
            "_model_module": "@jupyter-widgets/controls",
            "_model_module_version": "1.5.0",
            "_model_name": "ProgressStyleModel",
            "_view_count": null,
            "_view_module": "@jupyter-widgets/base",
            "_view_module_version": "1.2.0",
            "_view_name": "StyleView",
            "bar_color": null,
            "description_width": ""
          }
        },
        "3c74e352f515489586e1f0835923b22e": {
          "model_module": "@jupyter-widgets/base",
          "model_name": "LayoutModel",
          "model_module_version": "1.2.0",
          "state": {
            "_model_module": "@jupyter-widgets/base",
            "_model_module_version": "1.2.0",
            "_model_name": "LayoutModel",
            "_view_count": null,
            "_view_module": "@jupyter-widgets/base",
            "_view_module_version": "1.2.0",
            "_view_name": "LayoutView",
            "align_content": null,
            "align_items": null,
            "align_self": null,
            "border": null,
            "bottom": null,
            "display": null,
            "flex": null,
            "flex_flow": null,
            "grid_area": null,
            "grid_auto_columns": null,
            "grid_auto_flow": null,
            "grid_auto_rows": null,
            "grid_column": null,
            "grid_gap": null,
            "grid_row": null,
            "grid_template_areas": null,
            "grid_template_columns": null,
            "grid_template_rows": null,
            "height": null,
            "justify_content": null,
            "justify_items": null,
            "left": null,
            "margin": null,
            "max_height": null,
            "max_width": null,
            "min_height": null,
            "min_width": null,
            "object_fit": null,
            "object_position": null,
            "order": null,
            "overflow": null,
            "overflow_x": null,
            "overflow_y": null,
            "padding": null,
            "right": null,
            "top": null,
            "visibility": null,
            "width": null
          }
        },
        "060063a9eb0a4335b78165ea79edc431": {
          "model_module": "@jupyter-widgets/controls",
          "model_name": "DescriptionStyleModel",
          "model_module_version": "1.5.0",
          "state": {
            "_model_module": "@jupyter-widgets/controls",
            "_model_module_version": "1.5.0",
            "_model_name": "DescriptionStyleModel",
            "_view_count": null,
            "_view_module": "@jupyter-widgets/base",
            "_view_module_version": "1.2.0",
            "_view_name": "StyleView",
            "description_width": ""
          }
        }
      }
    }
  },
  "nbformat": 4,
  "nbformat_minor": 0
}