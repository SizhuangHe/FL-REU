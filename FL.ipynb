{
  "cells": [
    {
      "cell_type": "markdown",
      "metadata": {
        "id": "view-in-github",
        "colab_type": "text"
      },
      "source": [
        "<a href=\"https://colab.research.google.com/github/SizhuangHe/FL-REU/blob/main/FL.ipynb\" target=\"_parent\"><img src=\"https://colab.research.google.com/assets/colab-badge.svg\" alt=\"Open In Colab\"/></a>"
      ]
    },
    {
      "cell_type": "markdown",
      "source": [
        "#Import"
      ],
      "metadata": {
        "id": "EOT1sHDlb02g"
      }
    },
    {
      "cell_type": "code",
      "execution_count": 135,
      "metadata": {
        "id": "C1I9oQsasKEJ",
        "outputId": "0ef94eb5-c9b5-43d5-e910-9dbdd3118e1a",
        "colab": {
          "base_uri": "https://localhost:8080/"
        }
      },
      "outputs": [
        {
          "output_type": "stream",
          "name": "stdout",
          "text": [
            "The tensorboard extension is already loaded. To reload it, use:\n",
            "  %reload_ext tensorboard\n"
          ]
        }
      ],
      "source": [
        "%load_ext tensorboard\n",
        "import os\n",
        "import numpy as np\n",
        "import matplotlib\n",
        "import matplotlib.pyplot as plt\n",
        "import copy\n",
        "import random\n",
        "import time\n",
        "\n",
        "import torch\n",
        "import torch.nn as nn\n",
        "import torch.nn.functional as F\n",
        "\n",
        "import pandas as pd\n",
        "import sklearn\n",
        "from sklearn.preprocessing import StandardScaler, LabelEncoder\n",
        "from sklearn.model_selection import train_test_split\n",
        "\n",
        "from torch.utils.data import Dataset, DataLoader\n",
        "from torch.utils.tensorboard import SummaryWriter\n",
        "from torchvision import transforms, utils, datasets\n",
        "from torchsummary import summary\n",
        "\n",
        "# Check assigned GPU\n",
        "# gpu_info = !nvidia-smi\n",
        "# gpu_info = '\\n'.join(gpu_info)\n",
        "# if gpu_info.find('failed') >= 0:\n",
        "#   print('Select the Runtime > \"Change runtime type\" menu to enable a GPU accelerator, ')\n",
        "#   print('and then re-execute this cell.')\n",
        "# else:\n",
        "#   print(gpu_info)\n",
        "\n",
        "# set manual seed for reproducibility\n",
        "seed = 42\n",
        "\n",
        "# general reproducibility\n",
        "random.seed(seed)\n",
        "np.random.seed(seed)\n",
        "torch.manual_seed(seed)\n",
        "\n",
        "# gpu training specific\n",
        "torch.backends.cudnn.deterministic = True\n",
        "torch.backends.cudnn.benchmark = False"
      ]
    },
    {
      "cell_type": "markdown",
      "metadata": {
        "id": "NCliePYOrTv2"
      },
      "source": [
        "# Some Hyperparameters"
      ]
    },
    {
      "cell_type": "code",
      "execution_count": 136,
      "metadata": {
        "id": "0FnDQXnrrRz-"
      },
      "outputs": [],
      "source": [
        "input_size = 13\n",
        "num_hidden_neuron = 5\n",
        "num_classes = 1\n",
        "output_size = num_classes"
      ]
    },
    {
      "cell_type": "markdown",
      "metadata": {
        "id": "aRsss0MEomi-"
      },
      "source": [
        "# Models"
      ]
    },
    {
      "cell_type": "code",
      "execution_count": 137,
      "metadata": {
        "id": "ENC7v7ssoruY"
      },
      "outputs": [],
      "source": [
        "class IRIS_NN(nn.Module):\n",
        "  def __init__(self, input_size, num_hidden_neurons, output_size):\n",
        "    super(IRIS_NN, self).__init__()\n",
        "\n",
        "    self.l1 = nn.Linear(input_size, num_hidden_neurons)\n",
        "    self.l2 = nn.Linear(num_hidden_neurons, num_hidden_neurons)\n",
        "    self.l3 = nn.Linear(num_hidden_neurons, output_size)\n",
        "\n",
        "  def forward(self, x):\n",
        "    x = torch.flatten(x,1)\n",
        "    x = F.relu(self.l1(x))\n",
        "    x = F.relu(self.l2(x))\n",
        "    out = self.l3(x)\n",
        "    return out"
      ]
    },
    {
      "cell_type": "markdown",
      "metadata": {
        "id": "VGQ8ZjFiuO2N"
      },
      "source": [
        "# Load DataSet"
      ]
    },
    {
      "cell_type": "markdown",
      "metadata": {
        "id": "qc2wK2Kqi_i3"
      },
      "source": [
        "## Prepare the Data"
      ]
    },
    {
      "cell_type": "markdown",
      "source": [
        "### Dataset setup"
      ],
      "metadata": {
        "id": "zmwMaHZjR5A8"
      }
    },
    {
      "cell_type": "code",
      "execution_count": 138,
      "metadata": {
        "id": "RzYGDUJSb3a6"
      },
      "outputs": [],
      "source": [
        "# df = pd.read_csv(\"Iris.csv\")\n",
        "\n",
        "# le=LabelEncoder()\n",
        "# df['Species']=le.fit_transform(df['Species'])\n",
        "\n",
        "# label=df['Species'].values\n",
        "\n",
        "# scaler=StandardScaler()\n",
        "# df = df.drop('Species',axis=1)\n",
        "# df = df.drop('Id', axis=1)\n",
        "# scaled_df=scaler.fit_transform(df)\n",
        "\n",
        "# feature=scaled_df.astype(np.float32)"
      ]
    },
    {
      "cell_type": "code",
      "execution_count": 139,
      "metadata": {
        "id": "6g4zOeMNlA3m"
      },
      "outputs": [],
      "source": [
        "class IrisData(Dataset):\n",
        "  def __init__(self, feature_train, label_train):\n",
        "    self.feature = feature_train\n",
        "    self.label = label_train\n",
        "\n",
        "  def __len__(self):\n",
        "    return len(self.label) \n",
        "\n",
        "  def __getitem__(self, idx):\n",
        "    sample = self.feature[idx]\n",
        "    return sample, self.label[idx]   "
      ]
    },
    {
      "cell_type": "markdown",
      "source": [
        "### Transform (Add Gaussian Noise)"
      ],
      "metadata": {
        "id": "uHrfce5gRynl"
      }
    },
    {
      "cell_type": "code",
      "source": [
        "def add_gaussian_noise(dataset, client_dict, client, mean, std):\n",
        "  #loader = DataLoader(CustomDataset(dataset, client_dict[client]), batch_size=len(client_dict[client]), shuffle=True)\n",
        "  \n",
        "  for data, label in CustomDataset(dataset, client_dict[client]):\n",
        "    data += (torch.randn(len(data)) * std + mean).numpy()"
      ],
      "metadata": {
        "id": "G9QqPvECoK1c"
      },
      "execution_count": 140,
      "outputs": []
    },
    {
      "cell_type": "code",
      "source": [
        "# class AddGaussianNoise(object):\n",
        "#     def __init__(self, mean=0., std=1.):\n",
        "#         self.std = std\n",
        "#         self.mean = mean\n",
        "        \n",
        "#     def __call__(self, sample):\n",
        "#       sample += (torch.randn(sample.size) * self.std + self.mean).numpy()\n",
        "#       return sample\n",
        "    \n",
        "#     def __repr__(self):\n",
        "#         return self.__class__.__name__ + '(mean={0}, std={1})'.format(self.mean, self.std)\n"
      ],
      "metadata": {
        "id": "8muC-L2dvJ81"
      },
      "execution_count": 141,
      "outputs": []
    },
    {
      "cell_type": "markdown",
      "source": [
        "### Other built-in dataset"
      ],
      "metadata": {
        "id": "EMMtpEzXWCkG"
      }
    },
    {
      "cell_type": "markdown",
      "source": [
        "#### MNIST"
      ],
      "metadata": {
        "id": "t6jcYXTvN8Bh"
      }
    },
    {
      "cell_type": "code",
      "source": [
        "# transforms_mnist = transforms.Compose([\n",
        "#                                        transforms.ToTensor(),\n",
        "#                                        transforms.Normalize((0.1307,), (0.3081,))\n",
        "#                                        ])\n",
        "\n",
        "# dataset_train = datasets.MNIST('./data/mnist/', train=True, download=True, transform=transforms_mnist)\n",
        "# dataset_test = datasets.MNIST('../data/mnist/', train=False, download=True, transform=transforms_mnist)"
      ],
      "metadata": {
        "id": "zky0KAs0WGwV"
      },
      "execution_count": 142,
      "outputs": []
    },
    {
      "cell_type": "markdown",
      "source": [
        "#### sklearn Boston dataset (Regression)"
      ],
      "metadata": {
        "id": "BiNzuZoxOAPt"
      }
    },
    {
      "cell_type": "code",
      "source": [
        "data_url = \"http://lib.stat.cmu.edu/datasets/boston\"\n",
        "raw_df = pd.read_csv(data_url, sep=\"\\s+\", skiprows=22, header=None)\n",
        "feature = np.hstack([raw_df.values[::2, :], raw_df.values[1::2, :2]]).astype(np.float32)\n",
        "label = raw_df.values[1::2, 2].astype(np.float32)\n",
        "\n",
        "scaler=StandardScaler()\n",
        "feature = scaler.fit_transform(feature)"
      ],
      "metadata": {
        "id": "aQhqZRvBOJDM"
      },
      "execution_count": 143,
      "outputs": []
    },
    {
      "cell_type": "markdown",
      "source": [
        "### Data preparation"
      ],
      "metadata": {
        "id": "rkpiegKISAms"
      }
    },
    {
      "cell_type": "code",
      "execution_count": 144,
      "metadata": {
        "id": "2vlcIXlEi-yX"
      },
      "outputs": [],
      "source": [
        "feature_train,feature_test,label_train, label_test=train_test_split(feature, label,test_size=0.20,random_state=42)"
      ]
    },
    {
      "cell_type": "code",
      "execution_count": 145,
      "metadata": {
        "id": "5lJqRVJbmM3X"
      },
      "outputs": [],
      "source": [
        "dataset_train = IrisData(feature_train, label_train) # only the __init__ function is called here\n",
        "dataset_test = IrisData(feature_test, label_test)"
      ]
    },
    {
      "cell_type": "code",
      "execution_count": 146,
      "metadata": {
        "id": "hkSAY43yFQ4e"
      },
      "outputs": [],
      "source": [
        "classes_test = [i for i in range(num_classes)]"
      ]
    },
    {
      "cell_type": "markdown",
      "metadata": {
        "id": "z01-GnrZoGad"
      },
      "source": [
        "# Partition the Data"
      ]
    },
    {
      "cell_type": "code",
      "execution_count": 147,
      "metadata": {
        "id": "TyGhwGCRoBPT"
      },
      "outputs": [],
      "source": [
        "def iid_partition(dataset, clients, report_iid_metric=False):\n",
        "  \"\"\"\n",
        "  I.I.D paritioning of data over clients\n",
        "  Shuffle the data\n",
        "  Split it between clients\n",
        "  \n",
        "  params:\n",
        "    - dataset (torch.utils.Dataset): Dataset containing the MNIST Images\n",
        "    - clients (int): Number of Clients to split the data between\n",
        "\n",
        "  returns:\n",
        "    - Dictionary of image indexes for each client\n",
        "  \"\"\"\n",
        "\n",
        "  num_items_per_client = int(len(dataset)/clients)\n",
        "  client_dict = {}\n",
        "  image_idxs = [i for i in range(len(dataset))]\n",
        "\n",
        "  for i in range(clients):\n",
        "    client_dict[i] = set(np.random.choice(image_idxs, num_items_per_client, replace=False))\n",
        "    image_idxs = list(set(image_idxs) - client_dict[i])\n",
        "\n",
        "  if report_iid_metric == True:\n",
        "    report_client_mean_variance(client_dict)\n",
        "    \n",
        "  return client_dict"
      ]
    },
    {
      "cell_type": "code",
      "execution_count": 148,
      "metadata": {
        "id": "5rDdTgugoK10"
      },
      "outputs": [],
      "source": [
        "def non_iid_partition(dataset, clients, total_shards, shards_size, num_shards_per_client, report_iid_metric=False):\n",
        "  \"\"\"\n",
        "  non I.I.D parititioning of data over clients\n",
        "  Sort the data by the digit label\n",
        "  Divide the data into N shards of size S\n",
        "  Randomly assign each client with  shards\n",
        "\n",
        "  params:\n",
        "    - dataset (torch.utils.Dataset): Dataset containing the MNIST Images\n",
        "    - clients (int): Number of Clients to split the data between\n",
        "    - total_shards (int): Number of shards to partition the data in\n",
        "    - shards_size (int): Size of each shard \n",
        "    - num_shards_per_client (int): Number of shards of size shards_size that each client receives\n",
        "\n",
        "  returns:\n",
        "    - Dictionary of image indexes for each client\n",
        "  \"\"\"\n",
        "\n",
        "  \n",
        "  shard_idxs = [i for i in range(total_shards)]\n",
        "  client_dict = {i: np.array([], dtype='int64') for i in range(clients)}\n",
        "  client_dict_out = {}\n",
        "  idxs = np.arange(len(dataset))\n",
        "  #print(f\"idxs: {idxs}\")\n",
        "  \n",
        "  data_labels = dataset.label\n",
        "  #data_labels = dataset.targets.numpy()\n",
        "  #print(f\"data_labels: {data_labels}\")\n",
        "\n",
        "  # sort the labels\n",
        "  label_idxs = np.vstack((idxs, data_labels))\n",
        "  #print(f\"label_idx: {label_idxs}\")\n",
        "  label_idxs = label_idxs[:, label_idxs[1,:].argsort()]\n",
        "  #print(f\"label_idx new: {label_idxs}\")\n",
        "  idxs = label_idxs[0,:].astype(int)\n",
        "  #print(f\"idxs new: {idxs}\")\n",
        "\n",
        "  # divide the data into total_shards of size shards_size\n",
        "  # assign num_shards_per_client to each client\n",
        "  for i in range(clients):\n",
        "    rand_set = set(np.random.choice(shard_idxs, num_shards_per_client, replace=False))\n",
        "    #print(f\"rand_set: {rand_set}\")\n",
        "    shard_idxs = list(set(shard_idxs) - rand_set)\n",
        "    #print(f\"shard_idxs: {shard_idxs}\")\n",
        "\n",
        "    for rand in rand_set:\n",
        "      #print(f\"to append: {idxs[rand*shards_size:(rand+1)*shards_size]}\")\n",
        "      client_dict[i] = np.concatenate((client_dict[i], idxs[rand*shards_size:(rand+1)*shards_size]))\n",
        "\n",
        "      set_i = set(client_dict[i])\n",
        "      client_dict_out[i] = set_i\n",
        "\n",
        "  if report_iid_metric == True:\n",
        "    report_client_mean_variance(client_dict_out)  \n",
        "  return client_dict_out"
      ]
    },
    {
      "cell_type": "code",
      "source": [
        "def client_dict_train_val_split(client_dict_in, validation_ratio):\n",
        "  \"\"\"\n",
        "  Split each client data randomly to two parts: training data and validation data\n",
        "\n",
        "  param:\n",
        "    - client_dict_in (python dictionary): the client dictionary\n",
        "    - validation_ratio (double): the proportion of client data to be spitted into validation data\n",
        "\n",
        "  returns:\n",
        "    - dictionary of indices for each client's training and validation data  \n",
        "  \"\"\"\n",
        "  client_dict_out = {}\n",
        "\n",
        "\n",
        "  for client in client_dict_in:\n",
        "    num_total_data = len(client_dict_in[client])\n",
        "    num_val_data = int(num_total_data * validation_ratio)\n",
        "    val_set = set(np.random.choice(np.array(list(client_dict_in[client])), num_val_data, replace=False))\n",
        "    train_set = client_dict_in[client] - val_set\n",
        "    client_dict_out[client]={}\n",
        "    client_dict_out[client][\"train\"] = train_set\n",
        "    client_dict_out[client][\"validation\"] = val_set\n",
        "    \n",
        "  return client_dict_out  "
      ],
      "metadata": {
        "id": "yfyUYnnXPJhy"
      },
      "execution_count": 149,
      "outputs": []
    },
    {
      "cell_type": "code",
      "source": [
        "# Not sure if to account client dataset size\n",
        "def report_client_mean_variance(client_dict):\n",
        "  \"\"\"\n",
        "  This function returns the mean of each client's local training set\n",
        "  Can use this to roughly see how iid the dictionary is\n",
        "  \"\"\"\n",
        "  mean = []\n",
        "\n",
        "  for client in client_dict:\n",
        "    loader =  DataLoader(CustomDataset(dataset_train, client_dict[client]), batch_size=len(client_dict[client]), shuffle=True)\n",
        "    ld = iter(loader).next()\n",
        "    data, label = ld\n",
        "    for i in range(len(client_dict[client])):\n",
        "      mean.append(torch.mean(label).item())\n",
        "\n",
        "  #print(mean)  \n",
        "  print(\"Variance of mean client data: \", np.var(mean))\n",
        "  print(\"Note: a small value is expected for i.i.d partition.\")"
      ],
      "metadata": {
        "id": "Z63ilDSugASQ"
      },
      "execution_count": 150,
      "outputs": []
    },
    {
      "cell_type": "markdown",
      "metadata": {
        "id": "mHVh_TAWufaK"
      },
      "source": [
        "# Client Training\n"
      ]
    },
    {
      "cell_type": "code",
      "execution_count": 151,
      "metadata": {
        "id": "Qy9_1kKcuiDb"
      },
      "outputs": [],
      "source": [
        "class CustomDataset(Dataset):\n",
        "  def __init__(self, dataset, idxs):\n",
        "      self.dataset = dataset\n",
        "      self.idxs = list(idxs)\n",
        "\n",
        "  def __len__(self):\n",
        "      return len(self.idxs)\n",
        "\n",
        "  def __getitem__(self, item):\n",
        "      image, label = self.dataset[self.idxs[item]]\n",
        "      return image, label\n",
        "\n",
        "class ClientUpdate(object):\n",
        "  def __init__(self, dataset, batchSize, learning_rate, epochs, client_set):\n",
        "    self.train_loader = DataLoader(CustomDataset(dataset, client_set[\"train\"]), batch_size=batchSize, shuffle=True)\n",
        "    self.dataset = dataset\n",
        "    self.idx_set = client_set[\"validation\"]\n",
        "    self.learning_rate = learning_rate\n",
        "    self.epochs = epochs\n",
        "\n",
        "  def train(self, model):\n",
        "\n",
        "    #criterion = nn.CrossEntropyLoss()\n",
        "    criterion = nn.MSELoss()\n",
        "    optimizer = torch.optim.SGD(model.parameters(), lr=self.learning_rate, momentum=0.5)\n",
        "    # optimizer = torch.optim.Adam(model.parameters(), lr=self.learning_rate)\n",
        "\n",
        "    e_loss = []\n",
        "\n",
        "    \n",
        "\n",
        "    for epoch in range(1, self.epochs+1):\n",
        "\n",
        "      train_loss = 0.0\n",
        "\n",
        "      model.train()\n",
        "      for data, labels in self.train_loader:\n",
        "\n",
        "        if torch.cuda.is_available():\n",
        "          data, labels = data.cuda(), labels.cuda()\n",
        "\n",
        "        # clear the gradients\n",
        "        optimizer.zero_grad()\n",
        "        # make a forward pass\n",
        "        output = model(data)\n",
        "        # calculate the loss\n",
        "        length = len(labels)\n",
        "        labels = labels.view((length,1)) # to make dimensions right\n",
        "        loss = criterion(output, labels)\n",
        "        # do a backwards pass\n",
        "        loss.backward()\n",
        "        # perform a single optimization step\n",
        "        optimizer.step()\n",
        "        # update training loss\n",
        "        train_loss += loss.item()*data.size(0)\n",
        "\n",
        "      # average losses\n",
        "      train_loss = train_loss/len(self.train_loader.dataset)\n",
        "      e_loss.append(train_loss)\n",
        "\n",
        "    total_loss = sum(e_loss)/len(e_loss)\n",
        "\n",
        "    # validation\n",
        "    model.eval()\n",
        "    val_loss = local_validate(model=model, dataset=self.dataset, idx_set=self.idx_set, criterion=criterion)\n",
        "\n",
        "    return model.state_dict(), total_loss, val_loss"
      ]
    },
    {
      "cell_type": "markdown",
      "metadata": {
        "id": "3IvnLnucumpj"
      },
      "source": [
        "# Server Training"
      ]
    },
    {
      "cell_type": "markdown",
      "source": [
        "## Weights Functions"
      ],
      "metadata": {
        "id": "8I6z9FQw6Qxo"
      }
    },
    {
      "cell_type": "code",
      "source": [
        "def size_of_clients(client_dict, active_client):\n",
        "  \"\"\"\n",
        "  This function returns the sizes of each clients.\n",
        "\n",
        "  Params:\n",
        "    - client_dict (dictionary): a dictionary of clients\n",
        "    - active_clients (array): each element is an active client, used as a key to search in client_dict\n",
        "\n",
        "  Returns:\n",
        "    - client_sizes (array): each element corresponds to the size of local dataset of clients in active_client, Note: the order should match with active_clients  \n",
        "  \"\"\"\n",
        "\n",
        "  client_sizes = []\n",
        "  for ac in range(len(active_client)):\n",
        "    size = len(client_dict[active_client[ac]][\"train\"])\n",
        "    client_sizes.append(size)\n",
        "\n",
        "  return client_sizes  "
      ],
      "metadata": {
        "id": "Z1SVls6x-QzP"
      },
      "execution_count": 152,
      "outputs": []
    },
    {
      "cell_type": "code",
      "source": [
        "def calc_weights(client_sizes, val_losses):\n",
        "  \"\"\"\n",
        "  This function determines the weights of each local model when the server is aggregating the models.\n",
        "\n",
        "  Params:\n",
        "    - client_sizes (array): an array of sizes of each client's local dataset\n",
        "    - val_losses (array): an array of validation losses of each client's local model\n",
        "\n",
        "  Returns:\n",
        "    - weights_of_models (array): an array of computed weights of each cient model \n",
        "  \"\"\"\n",
        "  weights_of_models = []\n",
        "\n",
        "  for i in range(len(client_sizes)):\n",
        "    weights_of_models.append(client_sizes[i] / val_losses[i])\n",
        "\n",
        "  total_weights = np.sum(weights_of_models)\n",
        "  weights_of_models = weights_of_models / total_weights \n",
        "  return weights_of_models"
      ],
      "metadata": {
        "id": "FAaR9tjv4vqh"
      },
      "execution_count": 153,
      "outputs": []
    },
    {
      "cell_type": "markdown",
      "source": [
        "## Training"
      ],
      "metadata": {
        "id": "dkc45wWZ6Uud"
      }
    },
    {
      "cell_type": "code",
      "execution_count": 174,
      "metadata": {
        "id": "H-IAyGOAusQk"
      },
      "outputs": [],
      "source": [
        "def training(model, rounds, batch_size, num_classes,lr, ds, data_dict, C, K, E, plt_title, plt_color, do_validation=False):\n",
        "  \"\"\"\n",
        "  Function implements the Federated Averaging Algorithm from the FedAvg paper.\n",
        "  Specifically, this function is used for the server side training and weight update\n",
        "\n",
        "  Params:\n",
        "    - model:           PyTorch model to train\n",
        "    - rounds:          Number of communication rounds for the client update\n",
        "    - batch_size:      Batch size for client update training\n",
        "    - lr:              Learning rate used for client update training\n",
        "    - ds:              Dataset used for training\n",
        "    - data_dict:       Type of data partition used for training (IID or non-IID)\n",
        "    - C:               Fraction of clients randomly chosen to perform computation on each round\n",
        "    - K:               Total number of clients\n",
        "    - E:               Number of training passes each client makes over its local dataset per round\n",
        "    - tb_writer_name:  Directory name to save the tensorboard logs\n",
        "  Returns:\n",
        "    - model:           Trained model on the server\n",
        "  \"\"\"\n",
        "\n",
        "  # global model weights\n",
        "  global_weights = model.state_dict()\n",
        "\n",
        "  # training loss\n",
        "  train_loss = []\n",
        "  \n",
        "  \n",
        "  # measure time\n",
        "  start = time.time()\n",
        "\n",
        "  for curr_round in range(1, rounds+1):\n",
        "    w, local_loss, val_loss = [], [], []\n",
        "\n",
        "    m = max(int(C*K), 1)\n",
        "    \n",
        "    S_t = np.random.choice(range(K), m, replace=False) # S_t is the array of clients to train on\n",
        "    \n",
        "    for k in S_t:\n",
        "      local_update = ClientUpdate(dataset=ds, batchSize=batch_size, learning_rate=lr, epochs=E, client_set=data_dict[k])\n",
        "      weights, loss, local_val_loss = local_update.train(model=copy.deepcopy(model))\n",
        "\n",
        "      #print(f\"-> validate loss on client {k}: {local_val_loss}, -> training loss on client {k}: {loss}\")\n",
        "      val_loss.append(local_val_loss)\n",
        "\n",
        "      w.append(copy.deepcopy(weights))\n",
        "      local_loss.append(copy.deepcopy(loss))\n",
        "      # val_loss.append()\n",
        "\n",
        "    # updating the global weights\n",
        "    client_sizes = size_of_clients(data_dict, S_t)\n",
        "    weights_of_models = calc_weights(client_sizes=client_sizes, val_losses=val_loss)\n",
        "\n",
        "    # print(len(val_loss))\n",
        "    # print(len(client_sizes))\n",
        "    # print(len(weights_of_models))\n",
        "    # print(len(w))\n",
        "\n",
        "    weights_avg = copy.deepcopy(w[0])\n",
        "    for k in weights_avg.keys():\n",
        "      weights_avg[k] = torch.mul(weights_avg[k], weights_of_models[0]) \n",
        "      for i in range(1, len(w)): \n",
        "        # index i here corresponds to each local model and index k here corresponds to each model weight \n",
        "        #print(i)\n",
        "        #print(f\"w[i][k]: {w[i][]k}, weights\")\n",
        "        weights_avg[k] += w[i][k] * weights_of_models[i]\n",
        "      #weights_avg[k] = torch.div(weights_avg[k], len(w)) # take into account each client's number of data\n",
        "\n",
        "    global_weights = weights_avg\n",
        "\n",
        "    # move the updated weights to our model state dict\n",
        "    model.load_state_dict(global_weights)\n",
        "\n",
        "    # loss\n",
        "    loss_avg = sum(local_loss) / len(local_loss) # didn't take into accound client data size\n",
        "    train_loss.append(loss_avg)\n",
        "\n",
        "    print(\"----------------------------Round Summary--------------------------------\")\n",
        "    print(f\"---> Round: {curr_round}, Average training loss: {loss_avg}\")\n",
        "    print(f\"---> Active Clients: {S_t}\")\n",
        "    print(f\"---> Client Training Set Sizes: {client_sizes}\")\n",
        "    print(f\"---> Validation losses: {val_loss}\")\n",
        "    print(f\"---> Weights of Local Models: {weights_of_models}\")\n",
        "    print(\"-------------------------------------------------------------------------\")\n",
        "\n",
        "    \n",
        "\n",
        "  end = time.time()\n",
        "\n",
        "  fig_train, ax_train = plt.subplots()\n",
        "  x_axis_train = np.arange(1, rounds+1)\n",
        "  y_axis_train = np.array(train_loss)\n",
        "  ax_train.plot(x_axis_train, y_axis_train, 'tab:'+plt_color)\n",
        "\n",
        "  ax_train.set(xlabel='Number of Rounds', ylabel='Train Loss',\n",
        "       title=plt_title)\n",
        "  ax_train.grid()\n",
        "  fig_train.savefig(plt_title+'.jpg', format='jpg')\n",
        "\n",
        "  # fig_val, ax_val = plt.subplots()\n",
        "  # x_axis_val = np.arange(1, rounds+1)\n",
        "  # y_axis_val = np.array(val_loss)\n",
        "  # ax_val.plot(x_axis_val, y_axis_val, 'tab:'+plt_color)\n",
        "\n",
        "  # ax_val.set(xlabel='Number of Rounds', ylabel='Train Loss',\n",
        "  #      title=plt_title)\n",
        "  # ax_val.grid()\n",
        "  # fig_val.savefig(plt_title+'.jpg', format='jpg')\n",
        "\n",
        "  print(\"Training Done!\")\n",
        "  print(\"Total time taken to Train: {}\".format(end-start))\n",
        "  \n",
        "  return model"
      ]
    },
    {
      "cell_type": "markdown",
      "source": [
        "# Validation"
      ],
      "metadata": {
        "id": "V__2Av44J1he"
      }
    },
    {
      "cell_type": "code",
      "source": [
        "def local_validate(model, dataset, idx_set, criterion):\n",
        "  \"\"\"\n",
        "  This function will do a validation of the model.\n",
        "\n",
        "  Param:\n",
        "    - model (torch.nn): the already trained Pytorch model to validate\n",
        "    - dataset (torch.utils.Dataset): the dataset to load data from\n",
        "    - idx_set (set): a set of integers, corresponding to the index of data to validate on\n",
        "    - criterion: the loss function to use\n",
        "\n",
        "  Returns:\n",
        "    - val_loss (float): the loss of the model on this validation set  \n",
        "  \"\"\"\n",
        "\n",
        "  val_loss = 0.0\n",
        "  val_loader = DataLoader(CustomDataset(dataset, idx_set), batch_size=len(idx_set), shuffle=True)\n",
        "\n",
        "  for data, labels in val_loader:\n",
        "    if torch.cuda.is_available():\n",
        "      data, labels = data.cuda(), labels.cuda()\n",
        "\n",
        "    output = model(data)\n",
        "    length = len(labels)\n",
        "    labels = labels.view((length,1)) # to make dimensions right\n",
        "    loss = criterion(output, labels)\n",
        "    \n",
        "    val_loss += loss.item()*data.size(0)  \n",
        "\n",
        "  val_loss = val_loss/len(val_loader.dataset)\n",
        "  \n",
        "  return val_loss"
      ],
      "metadata": {
        "id": "Gz0n2SKkJ4kc"
      },
      "execution_count": 155,
      "outputs": []
    },
    {
      "cell_type": "code",
      "source": [
        "def gobal_validate(model, dataset, val_idx, criterion,num_classes, classes, report_accuracy):\n",
        "  batch_size = len(val_idx)\n",
        "  val_loader = DataLoader(CustomDataset(dataset, val_idx), batch_size=len(val_idx), shuffle=True)\n",
        "  return test(model, dataset, batch_size, criterion, num_classes, classes, val_loader, \"Validation\", report_accuracy=report_accuracy)"
      ],
      "metadata": {
        "id": "ApLY9XfGa53E"
      },
      "execution_count": 156,
      "outputs": []
    },
    {
      "cell_type": "code",
      "source": [
        ""
      ],
      "metadata": {
        "id": "-G21jHaI1l3Z"
      },
      "execution_count": 156,
      "outputs": []
    },
    {
      "cell_type": "markdown",
      "metadata": {
        "id": "wiaZl4R0u3eW"
      },
      "source": [
        "# Test"
      ]
    },
    {
      "cell_type": "code",
      "source": [
        "def test(model, dataset, bs, criterion, num_classes, classes, loader, mode, report_accuracy):\n",
        "  test_loss = 0.0\n",
        "  correct_class = list(0. for i in range(num_classes))\n",
        "  total_class = list(0. for i in range(num_classes))\n",
        "\n",
        "  for data, labels in loader:\n",
        "\n",
        "    if torch.cuda.is_available():\n",
        "      data, labels = data.cuda(), labels.cuda()\n",
        "\n",
        "    output = model(data)\n",
        "    length = len(labels)\n",
        "    labels = labels.view((length,1)) # to make dimensions right\n",
        "    loss = criterion(output, labels)\n",
        "    test_loss += loss.item()*data.size(0)\n",
        "\n",
        "    if report_accuracy == True:\n",
        "      _, pred = torch.max(output, 1)\n",
        "      correct_tensor = pred.eq(labels.data.view_as(pred))\n",
        "      correct = np.squeeze(correct_tensor.numpy()) if not torch.cuda.is_available() else np.squeeze(correct_tensor.cpu().numpy())\n",
        "      #print(f\"data len: {len(data)}\")\n",
        "      #test accuracy for each object class\n",
        "      for i in range(len(data)):\n",
        "        label = labels.data[i]\n",
        "        correct_class[label] += correct[i].item()\n",
        "        total_class[label] += 1\n",
        "        #print(f\"i: {i}, label: {label}\")\n",
        "\n",
        "   \n",
        "    \n",
        "  # avg test loss\n",
        "  test_loss = test_loss/len(loader.dataset)\n",
        "  \n",
        "  print(mode, \"Loss: {:.6f}\\n\".format(test_loss))\n",
        "\n",
        "  if report_accuracy == True:\n",
        "    # print test accuracy\n",
        "    for i in range(num_classes):\n",
        "      if total_class[i]>0:\n",
        "        print(mode, 'Accuracy of %5s: %2d%% (%2d/%2d)' % \n",
        "            (classes[i], 100 * correct_class[i] / total_class[i],\n",
        "            np.sum(correct_class[i]), np.sum(total_class[i]))) \n",
        "\n",
        "      else:\n",
        "        print(mode, 'Accuracy of %5s: N/A (no '% (classes[i]), mode, ' examples)' )\n",
        "      \n",
        "    print('\\nFinal ', mode, ' Accuracy: {:.3f} ({}/{})\\n'.format(\n",
        "        100. * np.sum(correct_class) / np.sum(total_class),\n",
        "        np.sum(correct_class), np.sum(total_class)))\n",
        "\n",
        "  return test_loss"
      ],
      "metadata": {
        "id": "hz_rUy-VlDG8"
      },
      "execution_count": 157,
      "outputs": []
    },
    {
      "cell_type": "code",
      "execution_count": 158,
      "metadata": {
        "id": "tB2TnXZ5u43W"
      },
      "outputs": [],
      "source": [
        "def testing(model, dataset, bs, criterion, num_classes, classes, report_accuracy):\n",
        "  test_loader = DataLoader(dataset, batch_size=bs)\n",
        "  \n",
        "  model.eval()\n",
        "  test(model, dataset, bs, criterion, num_classes, classes, test_loader, \"Test\", report_accuracy=report_accuracy)"
      ]
    },
    {
      "cell_type": "markdown",
      "metadata": {
        "id": "V8IhkPvxu5vG"
      },
      "source": [
        "# IID Case"
      ]
    },
    {
      "cell_type": "markdown",
      "metadata": {
        "id": "kMQ-N9gsEJvF"
      },
      "source": [
        "## Training"
      ]
    },
    {
      "cell_type": "code",
      "source": [
        "# number of training rounds\n",
        "rounds = 5\n",
        "# client fraction\n",
        "C = 1\n",
        "# number of clients\n",
        "K = 10\n",
        "# number of training passes on local dataset for each round\n",
        "E = 10\n",
        "# batch size\n",
        "batch_size = 10\n",
        "# learning Rate\n",
        "lr=0.01\n",
        "# data partition dictionary\n",
        "client_dict = iid_partition(dataset_train, K, report_iid_metric=True)\n",
        "iid_dict = client_dict_train_val_split(client_dict_in=client_dict, validation_ratio=0.2)\n",
        "# load model\n",
        "model_iid = IRIS_NN(input_size, num_hidden_neuron, output_size)"
      ],
      "metadata": {
        "id": "1iL2mhN9D1_t",
        "outputId": "2311750b-1572-49f9-f332-b07230a5de1d",
        "colab": {
          "base_uri": "https://localhost:8080/"
        }
      },
      "execution_count": 175,
      "outputs": [
        {
          "output_type": "stream",
          "name": "stdout",
          "text": [
            "Variance of mean client data:  0.8503333003625448\n",
            "Note: a small value is expected for i.i.d partition.\n"
          ]
        }
      ]
    },
    {
      "cell_type": "code",
      "execution_count": 176,
      "metadata": {
        "id": "wZzpnCbNvH8w",
        "colab": {
          "base_uri": "https://localhost:8080/",
          "height": 1000
        },
        "outputId": "6bbb93be-f67d-4174-dbdc-2cbb3ee7310f"
      },
      "outputs": [
        {
          "output_type": "stream",
          "name": "stdout",
          "text": [
            "----------------------------Round Summary--------------------------------\n",
            "---> Round: 1, Average training loss: 325.8366836356744\n",
            "---> Active Clients: [7 0 3 6 9 8 4 5 1 2]\n",
            "---> Client Training Set Sizes: [32, 32, 32, 32, 32, 32, 32, 32, 32, 32]\n",
            "---> Validation losses: [81.77177429199219, 51.837989807128906, 221.49496459960938, 44.31731033325195, 46.96709060668945, 103.08036041259766, 56.027774810791016, 21.309417724609375, 65.47027587890625, 210.78684997558594]\n",
            "---> Weights of Local Models: [0.07012689 0.11062157 0.02588953 0.12939414 0.122094   0.05563038\n",
            " 0.10234924 0.26910168 0.08758784 0.02720473]\n",
            "-------------------------------------------------------------------------\n",
            "----------------------------Round Summary--------------------------------\n",
            "---> Round: 2, Average training loss: 130.9205546816485\n",
            "---> Active Clients: [1 8 2 5 3 4 9 6 7 0]\n",
            "---> Client Training Set Sizes: [32, 32, 32, 32, 32, 32, 32, 32, 32, 32]\n",
            "---> Validation losses: [37.7501335144043, 118.29850769042969, 144.85853576660156, 69.95484161376953, 174.88580322265625, 36.17842102050781, 61.181270599365234, 39.95100402832031, 95.02281951904297, 158.6874237060547]\n",
            "---> Weights of Local Models: [0.17934838 0.05723171 0.04673819 0.0967828  0.03871341 0.18713988\n",
            " 0.11066173 0.16946822 0.07125052 0.04266517]\n",
            "-------------------------------------------------------------------------\n",
            "----------------------------Round Summary--------------------------------\n",
            "---> Round: 3, Average training loss: 86.4915542331338\n",
            "---> Active Clients: [3 2 8 7 6 4 1 9 0 5]\n",
            "---> Client Training Set Sizes: [32, 32, 32, 32, 32, 32, 32, 32, 32, 32]\n",
            "---> Validation losses: [139.7880096435547, 122.36357116699219, 107.58098602294922, 94.62608337402344, 50.71626281738281, 34.06549835205078, 36.6477165222168, 74.11256408691406, 145.89938354492188, 71.39936828613281]\n",
            "---> Weights of Local Models: [0.04903091 0.05601286 0.06370952 0.07243175 0.13514271 0.20119867\n",
            " 0.18702211 0.09248004 0.04697712 0.09599431]\n",
            "-------------------------------------------------------------------------\n",
            "----------------------------Round Summary--------------------------------\n",
            "---> Round: 4, Average training loss: 85.16352227488532\n",
            "---> Active Clients: [3 2 0 9 6 8 4 1 7 5]\n",
            "---> Client Training Set Sizes: [32, 32, 32, 32, 32, 32, 32, 32, 32, 32]\n",
            "---> Validation losses: [141.7770538330078, 123.10404205322266, 143.36988830566406, 75.8074951171875, 46.009429931640625, 106.02142333984375, 34.224700927734375, 37.05415725708008, 94.88563537597656, 71.84562683105469]\n",
            "---> Weights of Local Models: [0.04792527 0.0551948  0.04739282 0.08963102 0.14768066 0.06408802\n",
            " 0.19853214 0.18337222 0.0716094  0.09457365]\n",
            "-------------------------------------------------------------------------\n",
            "----------------------------Round Summary--------------------------------\n",
            "---> Round: 5, Average training loss: 85.03638467139564\n",
            "---> Active Clients: [4 5 8 1 7 2 0 9 6 3]\n",
            "---> Client Training Set Sizes: [32, 32, 32, 32, 32, 32, 32, 32, 32, 32]\n",
            "---> Validation losses: [34.04314041137695, 72.41615295410156, 105.5076675415039, 37.114219665527344, 95.93765258789062, 122.50879669189453, 143.0060272216797, 81.341552734375, 52.02588653564453, 144.9519805908203]\n",
            "---> Weights of Local Models: [0.20456045 0.09616473 0.06600355 0.18763375 0.07258756 0.05684392\n",
            " 0.04869641 0.08561283 0.13385414 0.04804267]\n",
            "-------------------------------------------------------------------------\n",
            "Training Done!\n",
            "Total time taken to Train: 1.2184679508209229\n"
          ]
        },
        {
          "output_type": "display_data",
          "data": {
            "text/plain": [
              "<Figure size 432x288 with 1 Axes>"
            ],
            "image/png": "[encoded data removed]"
          },
          "metadata": {
            "needs_background": "light"
          }
        }
      ],
      "source": [
        "if torch.cuda.is_available():\n",
        "  model_iid.cuda()\n",
        "\n",
        "model_iid_trained = training(model_iid, rounds, batch_size, num_classes, lr, dataset_train, iid_dict, C, K, E, \"on IID Dataset\", \"orange\", True)"
      ]
    },
    {
      "cell_type": "markdown",
      "metadata": {
        "id": "crvgQe0HELwo"
      },
      "source": [
        "## Testing"
      ]
    },
    {
      "cell_type": "code",
      "execution_count": 167,
      "metadata": {
        "id": "Chbf7e27EPgF",
        "outputId": "a24a709f-a8d0-4355-e126-d5edcf7a0d81",
        "colab": {
          "base_uri": "https://localhost:8080/"
        }
      },
      "outputs": [
        {
          "output_type": "stream",
          "name": "stdout",
          "text": [
            "Test Loss: 74.616338\n",
            "\n"
          ]
        }
      ],
      "source": [
        "criterion = nn.MSELoss()\n",
        "testing(model_iid_trained, dataset_test, K, criterion, num_classes, classes_test, False)\n"
      ]
    },
    {
      "cell_type": "markdown",
      "metadata": {
        "id": "ZIQHWWymDWif"
      },
      "source": [
        "# Non IID training"
      ]
    },
    {
      "cell_type": "markdown",
      "source": [
        "## Training"
      ],
      "metadata": {
        "id": "Ie-Qgjz7FLu8"
      }
    },
    {
      "cell_type": "code",
      "source": [
        "# number of training rounds\n",
        "rounds = 5\n",
        "# client fraction\n",
        "C = 1\n",
        "# number of clients\n",
        "K = 10\n",
        "# number of training passes on local dataset for each round\n",
        "E = 10\n",
        "# batch size\n",
        "batch_size = 10\n",
        "# learning Rate\n",
        "lr=0.01\n",
        "# data partition dictionary\n",
        "client_dict = non_iid_partition(dataset_train, clients=K, total_shards=K, shards_size=40, num_shards_per_client=1, report_iid_metric=True) # every client is given only one shard, which is very non_iid \n",
        "non_iid_dict = client_dict_train_val_split(client_dict_in=client_dict, validation_ratio=0.2)\n",
        "\n",
        "\n",
        "# loader =  DataLoader(CustomDataset(dataset_train, client_dict[0]), batch_size=len( client_dict[0]), shuffle=True)\n",
        "# ld = iter(loader).next()\n",
        "# data, label = ld\n",
        "# print(\"data: \", data, \"label: \", label)\n",
        "# load model\n",
        "model_non_iid = IRIS_NN(input_size, num_hidden_neuron, output_size)\n"
      ],
      "metadata": {
        "id": "Zl6SL5OHECak",
        "outputId": "7ae7258d-5e5f-4db6-f54d-9f94fc5b09d3",
        "colab": {
          "base_uri": "https://localhost:8080/"
        }
      },
      "execution_count": 177,
      "outputs": [
        {
          "output_type": "stream",
          "name": "stdout",
          "text": [
            "Variance of mean client data:  75.92969912769826\n",
            "Note: a small value is expected for i.i.d partition.\n"
          ]
        }
      ]
    },
    {
      "cell_type": "code",
      "execution_count": 178,
      "metadata": {
        "id": "6FlzgLR8ECaG",
        "outputId": "c989fa6e-837d-4acf-baa8-243e6a57db7e",
        "colab": {
          "base_uri": "https://localhost:8080/",
          "height": 1000
        }
      },
      "outputs": [
        {
          "output_type": "stream",
          "name": "stdout",
          "text": [
            "----------------------------Round Summary--------------------------------\n",
            "---> Round: 1, Average training loss: 275.2952339321561\n",
            "---> Active Clients: [3 8 1 2 9 4 0 7 5 6]\n",
            "---> Client Training Set Sizes: [32, 32, 32, 32, 32, 32, 32, 32, 32, 32]\n",
            "---> Validation losses: [27.7998104095459, 24.798105239868164, 14.498250961303711, 69.66204071044922, 0.5503748655319214, 1.0404934883117676, 3.303642511367798, 0.7796465158462524, 5.756232738494873, 66.85803985595703]\n",
            "---> Weights of Local Models: [0.00763456 0.00855869 0.01463896 0.0030467  0.38562683 0.20397948\n",
            " 0.06424403 0.27222505 0.03687122 0.00317448]\n",
            "-------------------------------------------------------------------------\n",
            "----------------------------Round Summary--------------------------------\n",
            "---> Round: 2, Average training loss: 206.09632065900018\n",
            "---> Active Clients: [7 6 5 1 3 9 4 8 2 0]\n",
            "---> Client Training Set Sizes: [32, 32, 32, 32, 32, 32, 32, 32, 32, 32]\n",
            "---> Validation losses: [0.16430696845054626, 2.5392401218414307, 6.04941987991333, 0.5147692561149597, 2.177755355834961, 0.18099690973758698, 0.3858792781829834, 0.21470659971237183, 89.78541564941406, 1.098999261856079]\n",
            "---> Weights of Local Models: [0.26761668 0.01731671 0.00726868 0.08541941 0.0201911  0.24293942\n",
            " 0.11395088 0.20479708 0.00048974 0.0400103 ]\n",
            "-------------------------------------------------------------------------\n",
            "----------------------------Round Summary--------------------------------\n",
            "---> Round: 3, Average training loss: 13.67921766328858\n",
            "---> Active Clients: [4 6 7 9 1 2 8 3 0 5]\n",
            "---> Client Training Set Sizes: [32, 32, 32, 32, 32, 32, 32, 32, 32, 32]\n",
            "---> Validation losses: [0.2849764823913574, 3.4124531745910645, 0.07456661760807037, 0.24578064680099487, 0.4968889057636261, 76.5088119506836, 0.29901039600372314, 1.808565616607666, 0.586765468120575, 6.053670406341553]\n",
            "---> Weights of Local Models: [1.20694428e-01 1.00792807e-02 4.61266377e-01 1.39942156e-01\n",
            " 6.92208523e-02 4.49557021e-04 1.15029691e-01 1.90178743e-02\n",
            " 5.86180943e-02 5.68168916e-03]\n",
            "-------------------------------------------------------------------------\n",
            "----------------------------Round Summary--------------------------------\n",
            "---> Round: 4, Average training loss: 12.038133016256616\n",
            "---> Active Clients: [5 1 4 0 9 8 3 6 2 7]\n",
            "---> Client Training Set Sizes: [32, 32, 32, 32, 32, 32, 32, 32, 32, 32]\n",
            "---> Validation losses: [6.097407817840576, 0.4802320897579193, 0.24068501591682434, 0.6017049551010132, 0.4144427180290222, 0.2634093165397644, 1.6847047805786133, 2.358762264251709, 191.98597717285156, 0.15092457830905914]\n",
            "---> Weights of Local Models: [7.48163397e-03 9.49927637e-02 1.89536408e-01 7.58155190e-02\n",
            " 1.10072083e-01 1.73185117e-01 2.70780815e-02 1.93400472e-02\n",
            " 2.37614091e-04 3.02260731e-01]\n",
            "-------------------------------------------------------------------------\n",
            "----------------------------Round Summary--------------------------------\n",
            "---> Round: 5, Average training loss: 45.345491682659194\n",
            "---> Active Clients: [9 0 7 1 5 3 8 6 4 2]\n",
            "---> Client Training Set Sizes: [32, 32, 32, 32, 32, 32, 32, 32, 32, 32]\n",
            "---> Validation losses: [0.27090996503829956, 0.6032360196113586, 0.10966536402702332, 0.4858805239200592, 6.421598434448242, 1.6379258632659912, 0.32527080178260803, 3.5704524517059326, 0.1822763979434967, 89.65575408935547]\n",
            "---> Weights of Local Models: [0.1411909  0.06340805 0.34878854 0.0787231  0.00595646 0.02335272\n",
            " 0.11759439 0.01071293 0.20984627 0.00042663]\n",
            "-------------------------------------------------------------------------\n",
            "Training Done!\n",
            "Total time taken to Train: 1.2107055187225342\n"
          ]
        },
        {
          "output_type": "display_data",
          "data": {
            "text/plain": [
              "<Figure size 432x288 with 1 Axes>"
            ],
            "image/png": "[encoded data removed]"
          },
          "metadata": {
            "needs_background": "light"
          }
        }
      ],
      "source": [
        "if torch.cuda.is_available():\n",
        "  model_non_iid.cuda()\n",
        "\n",
        "model_non_iid_trained = training(model_non_iid, rounds, batch_size, num_classes,lr, dataset_train, non_iid_dict, C, K, E, \"on non IID Dataset\", \"orange\", False)"
      ]
    },
    {
      "cell_type": "markdown",
      "metadata": {
        "id": "RLKjiwnlwmoA"
      },
      "source": [
        "## Test"
      ]
    },
    {
      "cell_type": "code",
      "execution_count": 170,
      "metadata": {
        "id": "LntuHfeOw-ws",
        "outputId": "54f9aefd-7d36-4f78-d363-189ecd2e2e06",
        "colab": {
          "base_uri": "https://localhost:8080/"
        }
      },
      "outputs": [
        {
          "output_type": "stream",
          "name": "stdout",
          "text": [
            "Test Loss: 59.196561\n",
            "\n"
          ]
        }
      ],
      "source": [
        "criterion = nn.MSELoss()\n",
        "testing(model_non_iid_trained, dataset_test, 10, criterion, num_classes, classes_test, False)"
      ]
    }
  ],
  "metadata": {
    "colab": {
      "name": "FL.ipynb",
      "provenance": [],
      "include_colab_link": true
    },
    "interpreter": {
      "hash": "12d30b77a464acd39dc57a4d74939e0be500310b5b75c20a10dcf54a6539ac33"
    },
    "kernelspec": {
      "display_name": "Python 3.9.7 ('MYfedtorch')",
      "language": "python",
      "name": "python3"
    },
    "language_info": {
      "codemirror_mode": {
        "name": "ipython",
        "version": 3
      },
      "file_extension": ".py",
      "mimetype": "text/x-python",
      "name": "python",
      "nbconvert_exporter": "python",
      "pygments_lexer": "ipython3",
      "version": "3.9.7"
    },
    "orig_nbformat": 4,
    "gpuClass": "standard"
  },
  "nbformat": 4,
  "nbformat_minor": 0
}